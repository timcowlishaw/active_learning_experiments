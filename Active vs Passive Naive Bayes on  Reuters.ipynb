{
 "metadata": {
  "name": "",
  "signature": "sha256:6298e6558f5d468c33e08857aa5895b14de350af82ff5328b6ad0348b836b7f4"
 },
 "nbformat": 3,
 "nbformat_minor": 0,
 "worksheets": [
  {
   "cells": [
    {
     "cell_type": "code",
     "collapsed": false,
     "input": [
      "from nltk.corpus import reuters\n",
      "import numpy as np\n",
      "import statsmodels.api as sm\n",
      "import matplotlib.pyplot as plt\n",
      "import random\n",
      "import math\n",
      "from sklearn.feature_extraction.text import CountVectorizer\n",
      "from joblib import Parallel, delayed\n",
      "import pickle\n",
      "from sklearn.naive_bayes import MultinomialNB\n",
      "from sklearn.metrics import precision_recall_fscore_support"
     ],
     "language": "python",
     "metadata": {},
     "outputs": [],
     "prompt_number": 10
    },
    {
     "cell_type": "code",
     "collapsed": false,
     "input": [
      "category_id=\"acq\""
     ],
     "language": "python",
     "metadata": {},
     "outputs": [],
     "prompt_number": 11
    },
    {
     "cell_type": "code",
     "collapsed": false,
     "input": [
      "#...and get the ids of the documents\n",
      "category_1_fileids = reuters.fileids(category_id)\n",
      "category_2_fileids = [fileid for fileid in reuters.fileids() if fileid not in category_1_fileids] "
     ],
     "language": "python",
     "metadata": {},
     "outputs": [],
     "prompt_number": 12
    },
    {
     "cell_type": "code",
     "collapsed": false,
     "input": [
      "#Build a vocabulary of all the words in all the documents. We normalize and remove english stopwords, leaving out the two documents in the intersection of both topics.\n",
      "stops = reuters.words('stopwords')\n",
      "all_fileids = category_1_fileids + category_2_fileids\n",
      "random.shuffle(all_fileids)"
     ],
     "language": "python",
     "metadata": {},
     "outputs": [],
     "prompt_number": 13
    },
    {
     "cell_type": "code",
     "collapsed": false,
     "input": [
      "#Use scikits-learn's vectorizer to build our term count vectors with the given vocab\n",
      "vectorizer=CountVectorizer(preprocessor=lambda f: reuters.raw(f).lower(), stop_words=stops)"
     ],
     "language": "python",
     "metadata": {},
     "outputs": [],
     "prompt_number": 14
    },
    {
     "cell_type": "code",
     "collapsed": false,
     "input": [
      "#and create a target vector for each\n",
      "all_y = np.array([1 if f in category_1_fileids else 0 for f in all_fileids])"
     ],
     "language": "python",
     "metadata": {},
     "outputs": [],
     "prompt_number": 15
    },
    {
     "cell_type": "code",
     "collapsed": false,
     "input": [
      "#then, create the term/document matrices using the vectorize\n",
      "vectorizer=CountVectorizer(preprocessor=lambda f: reuters.raw(f).lower(), stop_words=stops)\n",
      "all_X = vectorizer.fit_transform(all_fileids)"
     ],
     "language": "python",
     "metadata": {},
     "outputs": [],
     "prompt_number": 16
    },
    {
     "cell_type": "code",
     "collapsed": false,
     "input": [
      "with open(\"all_X-term_document_matrix.pickle\", \"wb\") as f:\n",
      "    pickle.dump(all_X, f, -1)\n",
      "all_y.dump(\"all_y-target_label_vector.pickle\")"
     ],
     "language": "python",
     "metadata": {},
     "outputs": [],
     "prompt_number": 17
    },
    {
     "cell_type": "code",
     "collapsed": false,
     "input": [
      "all_y =np.load(\"all_y-target_label_vector.pickle\")\n",
      "all_X = pickle.load(open(\"all_X-term_document_matrix.pickle\")).toarray()\n"
     ],
     "language": "python",
     "metadata": {},
     "outputs": [],
     "prompt_number": 18
    },
    {
     "cell_type": "code",
     "collapsed": false,
     "input": [
      "#With the preliminaries over, we can get on with training our classifier(s). The plan for the experiment is as follows: \n",
      "#Take a small starting set of examples from the larger training set, along with theier labels. Train a naive bayes\n",
      "#classifier on this small set, then use it to classify the remaining held-out examples from the training set.\n",
      "#Report the precision and recall on this set. Then pick the example from held-out set with posterior possibility closest to 0.5, \n",
      "#add it to the labelled training set and repeat.\n",
      "#As a source of ground-truth, we will also repeat this experiment, picking the additional labelled training examples at random, rather\n",
      "#than by the example with posterior closest to 0.5. this is equivalent to a standard supervised classification task.\n",
      "#Plot the prec/rec/f-measure for both classifiers at each value of N labelled examples.\n",
      "N=len(all_y)\n",
      "initial_n=100\n",
      "batch_size=25\n",
      "final_train_test_split=0.8\n",
      "max_n=int(math.floor(final_train_test_split * N))\n",
      "\n",
      "hold_out_X=all_X[max_n:]\n",
      "hold_out_y=all_y[max_n:]\n",
      "\n",
      "initial_train_X=all_X[0:initial_n]\n",
      "initial_train_y=all_y[0:initial_n]\n",
      "\n",
      "initial_unlabelled_pool_X=all_X[initial_n:max_n]\n",
      "initial_unlabelled_pool_y=all_y[initial_n:max_n]\n",
      "\n",
      "active_train_X = initial_train_X.copy()\n",
      "active_train_y = initial_train_y.copy()\n",
      "active_unlabelled_pool_X = initial_unlabelled_pool_X.copy()\n",
      "active_unlabelled_pool_y = initial_unlabelled_pool_y.copy()\n",
      "\n",
      "passive_train_X = initial_train_X.copy()\n",
      "passive_train_y = initial_train_y.copy()\n",
      "passive_unlabelled_pool_X = initial_unlabelled_pool_X.copy()\n",
      "passive_unlabelled_pool_y = initial_unlabelled_pool_y.copy()\n",
      "\n",
      "active_metrics = []\n",
      "passive_metrics = []"
     ],
     "language": "python",
     "metadata": {},
     "outputs": [],
     "prompt_number": 19
    },
    {
     "cell_type": "code",
     "collapsed": false,
     "input": [
      "for step in range(initial_n, max_n, batch_size):\n",
      "    active_nb = MultinomialNB()\n",
      "    passive_nb = MultinomialNB()\n",
      "    \n",
      "    active_model = active_nb.fit(active_train_X, active_train_y)\n",
      "    passive_model = passive_nb.fit(passive_train_X, passive_train_y)\n",
      "    \n",
      "    active_predictions = active_model.predict(hold_out_X)\n",
      "    passive_predictions = passive_model.predict(hold_out_X)\n",
      "    \n",
      "    active_prfs = precision_recall_fscore_support(hold_out_y, active_predictions, average=\"micro\" )\n",
      "    passive_prfs = precision_recall_fscore_support(hold_out_y, passive_predictions, average=\"micro\" )\n",
      "    \n",
      "    active_metrics.append((step,)+active_prfs)\n",
      "    passive_metrics.append((step,)+passive_prfs)\n",
      "    \n",
      "    active_update_indices = np.argsort(np.max(np.abs(active_model.predict_log_proba(active_unlabelled_pool_X)),axis=1))[0:batch_size]\n",
      "    passive_update_indices = np.random.randint(0, passive_unlabelled_pool_X.shape[0], batch_size)\n",
      "        \n",
      "    active_train_X = np.append(active_train_X, active_unlabelled_pool_X[active_update_indices], axis=0)\n",
      "    active_train_y = np.append(active_train_y, active_unlabelled_pool_y[active_update_indices], axis=0)\n",
      "    \n",
      "    passive_train_X = np.append(passive_train_X, passive_unlabelled_pool_X[passive_update_indices],axis=0)\n",
      "    passive_train_y = np.append(passive_train_y, passive_unlabelled_pool_y[passive_update_indices], axis=0)\n",
      "    \n",
      "    passive_unlabelled_pool_X = np.delete(passive_unlabelled_pool_X, passive_update_indices, axis=0)\n",
      "    passive_unlabelled_pool_y = np.delete(passive_unlabelled_pool_y, passive_update_indices, axis=0)\n",
      "    \n",
      "    active_unlabelled_pool_X = np.delete(active_unlabelled_pool_X, active_update_indices, axis=0)\n",
      "    active_unlabelled_pool_y = np.delete(active_unlabelled_pool_y, active_update_indices, axis=0)\n",
      "    \n",
      "    print \"completed run with N=%s:\" % step\n",
      "    print \"\\tActive results:\"\n",
      "    print\"\\t\\tN: %s\\n\\t\\tPrecision: %s\\n\\t\\tRecall: %s\\n\\t\\tF1: %s\\n\\t\\tSupport: %s\"% active_metrics[-1]\n",
      "    print \"\\tPassive results:\"\n",
      "    print\"\\t\\tN: %s\\n\\t\\tPrecision: %s\\n\\t\\tRecall: %s\\n\\t\\tF1: %s\\n\\t\\tSupport: %s\"% passive_metrics[-1]"
     ],
     "language": "python",
     "metadata": {},
     "outputs": [
      {
       "output_type": "stream",
       "stream": "stdout",
       "text": [
        "completed run with N=100:\n",
        "\tActive results:\n",
        "\t\tN: 100\n",
        "\t\tPrecision: 1.0\n",
        "\t\tRecall: 0.27744510978\n",
        "\t\tF1: 0.434375\n",
        "\t\tSupport: 501\n",
        "\tPassive results:\n",
        "\t\tN: 100\n",
        "\t\tPrecision: 1.0\n",
        "\t\tRecall: 0.27744510978\n",
        "\t\tF1: 0.434375\n",
        "\t\tSupport: 501\n",
        "completed run with N=125:"
       ]
      },
      {
       "output_type": "stream",
       "stream": "stdout",
       "text": [
        "\n",
        "\tActive results:\n",
        "\t\tN: 125\n",
        "\t\tPrecision: 0.971608832808\n",
        "\t\tRecall: 0.614770459082\n",
        "\t\tF1: 0.753056234719\n",
        "\t\tSupport: 501\n",
        "\tPassive results:\n",
        "\t\tN: 125\n",
        "\t\tPrecision: 1.0\n",
        "\t\tRecall: 0.315369261477\n",
        "\t\tF1: 0.479514415781\n",
        "\t\tSupport: 501\n",
        "completed run with N=150:"
       ]
      },
      {
       "output_type": "stream",
       "stream": "stdout",
       "text": [
        "\n",
        "\tActive results:\n",
        "\t\tN: 150\n",
        "\t\tPrecision: 0.97\n",
        "\t\tRecall: 0.774451097804\n",
        "\t\tF1: 0.861265260821\n",
        "\t\tSupport: 501\n",
        "\tPassive results:\n",
        "\t\tN: 150\n",
        "\t\tPrecision: 1.0\n",
        "\t\tRecall: 0.419161676647\n",
        "\t\tF1: 0.590717299578\n",
        "\t\tSupport: 501\n",
        "completed run with N=175:"
       ]
      },
      {
       "output_type": "stream",
       "stream": "stdout",
       "text": [
        "\n",
        "\tActive results:\n",
        "\t\tN: 175\n",
        "\t\tPrecision: 0.935281837161\n",
        "\t\tRecall: 0.894211576846\n",
        "\t\tF1: 0.914285714286\n",
        "\t\tSupport: 501\n",
        "\tPassive results:\n",
        "\t\tN: 175\n",
        "\t\tPrecision: 0.994680851064\n",
        "\t\tRecall: 0.373253493014\n",
        "\t\tF1: 0.542815674891\n",
        "\t\tSupport: 501\n",
        "completed run with N=200:"
       ]
      },
      {
       "output_type": "stream",
       "stream": "stdout",
       "text": [
        "\n",
        "\tActive results:\n",
        "\t\tN: 200\n",
        "\t\tPrecision: 0.910536779324\n",
        "\t\tRecall: 0.914171656687\n",
        "\t\tF1: 0.91235059761\n",
        "\t\tSupport: 501\n",
        "\tPassive results:\n",
        "\t\tN: 200\n",
        "\t\tPrecision: 0.991935483871\n",
        "\t\tRecall: 0.491017964072\n",
        "\t\tF1: 0.656875834446\n",
        "\t\tSupport: 501\n",
        "completed run with N=225:"
       ]
      },
      {
       "output_type": "stream",
       "stream": "stdout",
       "text": [
        "\n",
        "\tActive results:\n",
        "\t\tN: 225\n",
        "\t\tPrecision: 0.922772277228\n",
        "\t\tRecall: 0.930139720559\n",
        "\t\tF1: 0.926441351889\n",
        "\t\tSupport: 501\n",
        "\tPassive results:\n",
        "\t\tN: 225\n",
        "\t\tPrecision: 0.989583333333\n",
        "\t\tRecall: 0.568862275449\n",
        "\t\tF1: 0.722433460076\n",
        "\t\tSupport: 501\n",
        "completed run with N=250:"
       ]
      },
      {
       "output_type": "stream",
       "stream": "stdout",
       "text": [
        "\n",
        "\tActive results:\n",
        "\t\tN: 250\n",
        "\t\tPrecision: 0.934131736527\n",
        "\t\tRecall: 0.934131736527\n",
        "\t\tF1: 0.934131736527\n",
        "\t\tSupport: 501\n",
        "\tPassive results:\n",
        "\t\tN: 250\n",
        "\t\tPrecision: 0.980263157895\n",
        "\t\tRecall: 0.594810379242\n",
        "\t\tF1: 0.740372670807\n",
        "\t\tSupport: 501\n",
        "completed run with N=275:"
       ]
      },
      {
       "output_type": "stream",
       "stream": "stdout",
       "text": [
        "\n",
        "\tActive results:\n",
        "\t\tN: 275\n",
        "\t\tPrecision: 0.94578313253\n",
        "\t\tRecall: 0.940119760479\n",
        "\t\tF1: 0.942942942943\n",
        "\t\tSupport: 501\n",
        "\tPassive results:\n",
        "\t\tN: 275\n",
        "\t\tPrecision: 0.969230769231\n",
        "\t\tRecall: 0.62874251497\n",
        "\t\tF1: 0.762711864407\n",
        "\t\tSupport: 501\n",
        "completed run with N=300:"
       ]
      },
      {
       "output_type": "stream",
       "stream": "stdout",
       "text": [
        "\n",
        "\tActive results:\n",
        "\t\tN: 300\n",
        "\t\tPrecision: 0.937621832359\n",
        "\t\tRecall: 0.960079840319\n",
        "\t\tF1: 0.948717948718\n",
        "\t\tSupport: 501\n",
        "\tPassive results:\n",
        "\t\tN: 300\n",
        "\t\tPrecision: 0.975232198142\n",
        "\t\tRecall: 0.62874251497\n",
        "\t\tF1: 0.764563106796\n",
        "\t\tSupport: 501\n",
        "completed run with N=325:"
       ]
      },
      {
       "output_type": "stream",
       "stream": "stdout",
       "text": [
        "\n",
        "\tActive results:\n",
        "\t\tN: 325\n",
        "\t\tPrecision: 0.939215686275\n",
        "\t\tRecall: 0.956087824351\n",
        "\t\tF1: 0.947576656775\n",
        "\t\tSupport: 501\n",
        "\tPassive results:\n",
        "\t\tN: 325\n",
        "\t\tPrecision: 0.987692307692\n",
        "\t\tRecall: 0.640718562874\n",
        "\t\tF1: 0.777239709443\n",
        "\t\tSupport: 501\n",
        "completed run with N=350:"
       ]
      },
      {
       "output_type": "stream",
       "stream": "stdout",
       "text": [
        "\n",
        "\tActive results:\n",
        "\t\tN: 350\n",
        "\t\tPrecision: 0.936883629191\n",
        "\t\tRecall: 0.948103792415\n",
        "\t\tF1: 0.94246031746\n",
        "\t\tSupport: 501\n",
        "\tPassive results:\n",
        "\t\tN: 350\n",
        "\t\tPrecision: 0.987767584098\n",
        "\t\tRecall: 0.644710578842\n",
        "\t\tF1: 0.780193236715\n",
        "\t\tSupport: 501\n",
        "completed run with N=375:"
       ]
      },
      {
       "output_type": "stream",
       "stream": "stdout",
       "text": [
        "\n",
        "\tActive results:\n",
        "\t\tN: 375\n",
        "\t\tPrecision: 0.936758893281\n",
        "\t\tRecall: 0.946107784431\n",
        "\t\tF1: 0.941410129096\n",
        "\t\tSupport: 501\n",
        "\tPassive results:\n",
        "\t\tN: 375\n",
        "\t\tPrecision: 0.984894259819\n",
        "\t\tRecall: 0.650698602794\n",
        "\t\tF1: 0.783653846154\n",
        "\t\tSupport: 501\n",
        "completed run with N=400:"
       ]
      },
      {
       "output_type": "stream",
       "stream": "stdout",
       "text": [
        "\n",
        "\tActive results:\n",
        "\t\tN: 400\n",
        "\t\tPrecision: 0.970464135021\n",
        "\t\tRecall: 0.918163672655\n",
        "\t\tF1: 0.94358974359\n",
        "\t\tSupport: 501\n",
        "\tPassive results:\n",
        "\t\tN: 400\n",
        "\t\tPrecision: 0.971590909091\n",
        "\t\tRecall: 0.682634730539\n",
        "\t\tF1: 0.801875732708\n",
        "\t\tSupport: 501\n",
        "completed run with N=425:"
       ]
      },
      {
       "output_type": "stream",
       "stream": "stdout",
       "text": [
        "\n",
        "\tActive results:\n",
        "\t\tN: 425\n",
        "\t\tPrecision: 0.945891783567\n",
        "\t\tRecall: 0.942115768463\n",
        "\t\tF1: 0.944\n",
        "\t\tSupport: 501\n",
        "\tPassive results:\n",
        "\t\tN: 425\n",
        "\t\tPrecision: 0.969359331476\n",
        "\t\tRecall: 0.694610778443\n",
        "\t\tF1: 0.809302325581\n",
        "\t\tSupport: 501\n",
        "completed run with N=450:"
       ]
      },
      {
       "output_type": "stream",
       "stream": "stdout",
       "text": [
        "\n",
        "\tActive results:\n",
        "\t\tN: 450\n",
        "\t\tPrecision: 0.955555555556\n",
        "\t\tRecall: 0.944111776447\n",
        "\t\tF1: 0.949799196787\n",
        "\t\tSupport: 501\n",
        "\tPassive results:\n",
        "\t\tN: 450\n",
        "\t\tPrecision: 0.970350404313\n",
        "\t\tRecall: 0.718562874251\n",
        "\t\tF1: 0.825688073394\n",
        "\t\tSupport: 501\n",
        "completed run with N=475:"
       ]
      },
      {
       "output_type": "stream",
       "stream": "stdout",
       "text": [
        "\n",
        "\tActive results:\n",
        "\t\tN: 475\n",
        "\t\tPrecision: 0.964948453608\n",
        "\t\tRecall: 0.934131736527\n",
        "\t\tF1: 0.949290060852\n",
        "\t\tSupport: 501\n",
        "\tPassive results:\n",
        "\t\tN: 475\n",
        "\t\tPrecision: 0.962765957447\n",
        "\t\tRecall: 0.72255489022\n",
        "\t\tF1: 0.825541619156\n",
        "\t\tSupport: 501\n",
        "completed run with N=500:"
       ]
      },
      {
       "output_type": "stream",
       "stream": "stdout",
       "text": [
        "\n",
        "\tActive results:\n",
        "\t\tN: 500\n",
        "\t\tPrecision: 0.959266802444\n",
        "\t\tRecall: 0.940119760479\n",
        "\t\tF1: 0.949596774194\n",
        "\t\tSupport: 501\n",
        "\tPassive results:\n",
        "\t\tN: 500\n",
        "\t\tPrecision: 0.963060686016\n",
        "\t\tRecall: 0.728542914172\n",
        "\t\tF1: 0.829545454545\n",
        "\t\tSupport: 501\n",
        "completed run with N=525:"
       ]
      },
      {
       "output_type": "stream",
       "stream": "stdout",
       "text": [
        "\n",
        "\tActive results:\n",
        "\t\tN: 525\n",
        "\t\tPrecision: 0.959349593496\n",
        "\t\tRecall: 0.942115768463\n",
        "\t\tF1: 0.950654582075\n",
        "\t\tSupport: 501\n",
        "\tPassive results:\n",
        "\t\tN: 525\n",
        "\t\tPrecision: 0.963060686016\n",
        "\t\tRecall: 0.728542914172\n",
        "\t\tF1: 0.829545454545\n",
        "\t\tSupport: 501\n",
        "completed run with N=550:"
       ]
      },
      {
       "output_type": "stream",
       "stream": "stdout",
       "text": [
        "\n",
        "\tActive results:\n",
        "\t\tN: 550\n",
        "\t\tPrecision: 0.961303462322\n",
        "\t\tRecall: 0.942115768463\n",
        "\t\tF1: 0.951612903226\n",
        "\t\tSupport: 501\n",
        "\tPassive results:\n",
        "\t\tN: 550\n",
        "\t\tPrecision: 0.968668407311\n",
        "\t\tRecall: 0.740518962076\n",
        "\t\tF1: 0.839366515837\n",
        "\t\tSupport: 501\n",
        "completed run with N=575:"
       ]
      },
      {
       "output_type": "stream",
       "stream": "stdout",
       "text": [
        "\n",
        "\tActive results:\n",
        "\t\tN: 575\n",
        "\t\tPrecision: 0.960985626283\n",
        "\t\tRecall: 0.934131736527\n",
        "\t\tF1: 0.947368421053\n",
        "\t\tSupport: 501\n",
        "\tPassive results:\n",
        "\t\tN: 575\n",
        "\t\tPrecision: 0.958762886598\n",
        "\t\tRecall: 0.74251497006\n",
        "\t\tF1: 0.836895388076\n",
        "\t\tSupport: 501\n",
        "completed run with N=600:"
       ]
      },
      {
       "output_type": "stream",
       "stream": "stdout",
       "text": [
        "\n",
        "\tActive results:\n",
        "\t\tN: 600\n",
        "\t\tPrecision: 0.953535353535\n",
        "\t\tRecall: 0.942115768463\n",
        "\t\tF1: 0.947791164659\n",
        "\t\tSupport: 501\n",
        "\tPassive results:\n",
        "\t\tN: 600\n",
        "\t\tPrecision: 0.960396039604\n",
        "\t\tRecall: 0.774451097804\n",
        "\t\tF1: 0.857458563536\n",
        "\t\tSupport: 501\n",
        "completed run with N=625:"
       ]
      },
      {
       "output_type": "stream",
       "stream": "stdout",
       "text": [
        "\n",
        "\tActive results:\n",
        "\t\tN: 625\n",
        "\t\tPrecision: 0.951417004049\n",
        "\t\tRecall: 0.938123752495\n",
        "\t\tF1: 0.94472361809\n",
        "\t\tSupport: 501\n",
        "\tPassive results:\n",
        "\t\tN: 625\n",
        "\t\tPrecision: 0.961352657005\n",
        "\t\tRecall: 0.794411177645\n",
        "\t\tF1: 0.869945355191\n",
        "\t\tSupport: 501\n",
        "completed run with N=650:"
       ]
      },
      {
       "output_type": "stream",
       "stream": "stdout",
       "text": [
        "\n",
        "\tActive results:\n",
        "\t\tN: 650\n",
        "\t\tPrecision: 0.955010224949\n",
        "\t\tRecall: 0.932135728543\n",
        "\t\tF1: 0.943434343434\n",
        "\t\tSupport: 501\n",
        "\tPassive results:\n",
        "\t\tN: 650\n",
        "\t\tPrecision: 0.962352941176\n",
        "\t\tRecall: 0.816367265469\n",
        "\t\tF1: 0.883369330454\n",
        "\t\tSupport: 501\n",
        "completed run with N=675:"
       ]
      },
      {
       "output_type": "stream",
       "stream": "stdout",
       "text": [
        "\n",
        "\tActive results:\n",
        "\t\tN: 675\n",
        "\t\tPrecision: 0.957230142566\n",
        "\t\tRecall: 0.938123752495\n",
        "\t\tF1: 0.947580645161\n",
        "\t\tSupport: 501\n",
        "\tPassive results:\n",
        "\t\tN: 675\n",
        "\t\tPrecision: 0.961259079903\n",
        "\t\tRecall: 0.792415169661\n",
        "\t\tF1: 0.868708971554\n",
        "\t\tSupport: 501\n",
        "completed run with N=700:"
       ]
      },
      {
       "output_type": "stream",
       "stream": "stdout",
       "text": [
        "\n",
        "\tActive results:\n",
        "\t\tN: 700\n",
        "\t\tPrecision: 0.955193482688\n",
        "\t\tRecall: 0.936127744511\n",
        "\t\tF1: 0.945564516129\n",
        "\t\tSupport: 501\n",
        "\tPassive results:\n",
        "\t\tN: 700\n",
        "\t\tPrecision: 0.961165048544\n",
        "\t\tRecall: 0.790419161677\n",
        "\t\tF1: 0.867469879518\n",
        "\t\tSupport: 501\n",
        "completed run with N=725:"
       ]
      },
      {
       "output_type": "stream",
       "stream": "stdout",
       "text": [
        "\n",
        "\tActive results:\n",
        "\t\tN: 725\n",
        "\t\tPrecision: 0.94422310757\n",
        "\t\tRecall: 0.946107784431\n",
        "\t\tF1: 0.945164506481\n",
        "\t\tSupport: 501\n",
        "\tPassive results:\n",
        "\t\tN: 725\n",
        "\t\tPrecision: 0.96359223301\n",
        "\t\tRecall: 0.792415169661\n",
        "\t\tF1: 0.869660460022\n",
        "\t\tSupport: 501\n",
        "completed run with N=750:"
       ]
      },
      {
       "output_type": "stream",
       "stream": "stdout",
       "text": [
        "\n",
        "\tActive results:\n",
        "\t\tN: 750\n",
        "\t\tPrecision: 0.953629032258\n",
        "\t\tRecall: 0.944111776447\n",
        "\t\tF1: 0.948846539619\n",
        "\t\tSupport: 501\n",
        "\tPassive results:\n",
        "\t\tN: 750\n",
        "\t\tPrecision: 0.968446601942\n",
        "\t\tRecall: 0.796407185629\n",
        "\t\tF1: 0.87404162103\n",
        "\t\tSupport: 501\n",
        "completed run with N=775:"
       ]
      },
      {
       "output_type": "stream",
       "stream": "stdout",
       "text": [
        "\n",
        "\tActive results:\n",
        "\t\tN: 775\n",
        "\t\tPrecision: 0.953722334004\n",
        "\t\tRecall: 0.946107784431\n",
        "\t\tF1: 0.949899799599\n",
        "\t\tSupport: 501\n",
        "\tPassive results:\n",
        "\t\tN: 775\n",
        "\t\tPrecision: 0.968523002421\n",
        "\t\tRecall: 0.798403193613\n",
        "\t\tF1: 0.875273522976\n",
        "\t\tSupport: 501\n",
        "completed run with N=800:"
       ]
      },
      {
       "output_type": "stream",
       "stream": "stdout",
       "text": [
        "\n",
        "\tActive results:\n",
        "\t\tN: 800\n",
        "\t\tPrecision: 0.953629032258\n",
        "\t\tRecall: 0.944111776447\n",
        "\t\tF1: 0.948846539619\n",
        "\t\tSupport: 501\n",
        "\tPassive results:\n",
        "\t\tN: 800\n",
        "\t\tPrecision: 0.968824940048\n",
        "\t\tRecall: 0.806387225549\n",
        "\t\tF1: 0.880174291939\n",
        "\t\tSupport: 501\n",
        "completed run with N=825:"
       ]
      },
      {
       "output_type": "stream",
       "stream": "stdout",
       "text": [
        "\n",
        "\tActive results:\n",
        "\t\tN: 825\n",
        "\t\tPrecision: 0.953629032258\n",
        "\t\tRecall: 0.944111776447\n",
        "\t\tF1: 0.948846539619\n",
        "\t\tSupport: 501\n",
        "\tPassive results:\n",
        "\t\tN: 825\n",
        "\t\tPrecision: 0.966903073286\n",
        "\t\tRecall: 0.816367265469\n",
        "\t\tF1: 0.885281385281\n",
        "\t\tSupport: 501\n",
        "completed run with N=850:"
       ]
      },
      {
       "output_type": "stream",
       "stream": "stdout",
       "text": [
        "\n",
        "\tActive results:\n",
        "\t\tN: 850\n",
        "\t\tPrecision: 0.957403651116\n",
        "\t\tRecall: 0.942115768463\n",
        "\t\tF1: 0.949698189135\n",
        "\t\tSupport: 501\n",
        "\tPassive results:\n",
        "\t\tN: 850\n",
        "\t\tPrecision: 0.97380952381\n",
        "\t\tRecall: 0.816367265469\n",
        "\t\tF1: 0.888165038002\n",
        "\t\tSupport: 501\n",
        "completed run with N=875:"
       ]
      },
      {
       "output_type": "stream",
       "stream": "stdout",
       "text": [
        "\n",
        "\tActive results:\n",
        "\t\tN: 875\n",
        "\t\tPrecision: 0.949899799599\n",
        "\t\tRecall: 0.946107784431\n",
        "\t\tF1: 0.948\n",
        "\t\tSupport: 501\n",
        "\tPassive results:\n",
        "\t\tN: 875\n",
        "\t\tPrecision: 0.973933649289\n",
        "\t\tRecall: 0.820359281437\n",
        "\t\tF1: 0.890574214518\n",
        "\t\tSupport: 501\n",
        "completed run with N=900:"
       ]
      },
      {
       "output_type": "stream",
       "stream": "stdout",
       "text": [
        "\n",
        "\tActive results:\n",
        "\t\tN: 900\n",
        "\t\tPrecision: 0.953629032258\n",
        "\t\tRecall: 0.944111776447\n",
        "\t\tF1: 0.948846539619\n",
        "\t\tSupport: 501\n",
        "\tPassive results:\n",
        "\t\tN: 900\n",
        "\t\tPrecision: 0.971830985915\n",
        "\t\tRecall: 0.826347305389\n",
        "\t\tF1: 0.893203883495\n",
        "\t\tSupport: 501\n",
        "completed run with N=925:"
       ]
      },
      {
       "output_type": "stream",
       "stream": "stdout",
       "text": [
        "\n",
        "\tActive results:\n",
        "\t\tN: 925\n",
        "\t\tPrecision: 0.953535353535\n",
        "\t\tRecall: 0.942115768463\n",
        "\t\tF1: 0.947791164659\n",
        "\t\tSupport: 501\n",
        "\tPassive results:\n",
        "\t\tN: 925\n",
        "\t\tPrecision: 0.969555035129\n",
        "\t\tRecall: 0.826347305389\n",
        "\t\tF1: 0.89224137931\n",
        "\t\tSupport: 501\n",
        "completed run with N=950:"
       ]
      },
      {
       "output_type": "stream",
       "stream": "stdout",
       "text": [
        "\n",
        "\tActive results:\n",
        "\t\tN: 950\n",
        "\t\tPrecision: 0.954\n",
        "\t\tRecall: 0.952095808383\n",
        "\t\tF1: 0.953046953047\n",
        "\t\tSupport: 501\n",
        "\tPassive results:\n",
        "\t\tN: 950\n",
        "\t\tPrecision: 0.971896955504\n",
        "\t\tRecall: 0.828343313373\n",
        "\t\tF1: 0.894396551724\n",
        "\t\tSupport: 501\n",
        "completed run with N=975:"
       ]
      },
      {
       "output_type": "stream",
       "stream": "stdout",
       "text": [
        "\n",
        "\tActive results:\n",
        "\t\tN: 975\n",
        "\t\tPrecision: 0.957746478873\n",
        "\t\tRecall: 0.950099800399\n",
        "\t\tF1: 0.953907815631\n",
        "\t\tSupport: 501\n",
        "\tPassive results:\n",
        "\t\tN: 975\n",
        "\t\tPrecision: 0.967289719626\n",
        "\t\tRecall: 0.826347305389\n",
        "\t\tF1: 0.891280947255\n",
        "\t\tSupport: 501\n",
        "completed run with N=1000:"
       ]
      },
      {
       "output_type": "stream",
       "stream": "stdout",
       "text": [
        "\n",
        "\tActive results:\n",
        "\t\tN: 1000\n",
        "\t\tPrecision: 0.959758551308\n",
        "\t\tRecall: 0.952095808383\n",
        "\t\tF1: 0.955911823647\n",
        "\t\tSupport: 501\n",
        "\tPassive results:\n",
        "\t\tN: 1000\n",
        "\t\tPrecision: 0.96766743649\n",
        "\t\tRecall: 0.836327345309\n",
        "\t\tF1: 0.89721627409\n",
        "\t\tSupport: 501\n",
        "completed run with N=1025:"
       ]
      },
      {
       "output_type": "stream",
       "stream": "stdout",
       "text": [
        "\n",
        "\tActive results:\n",
        "\t\tN: 1025\n",
        "\t\tPrecision: 0.955911823647\n",
        "\t\tRecall: 0.952095808383\n",
        "\t\tF1: 0.954\n",
        "\t\tSupport: 501\n",
        "\tPassive results:\n",
        "\t\tN: 1025\n",
        "\t\tPrecision: 0.969976905312\n",
        "\t\tRecall: 0.838323353293\n",
        "\t\tF1: 0.899357601713\n",
        "\t\tSupport: 501\n",
        "completed run with N=1050:"
       ]
      },
      {
       "output_type": "stream",
       "stream": "stdout",
       "text": [
        "\n",
        "\tActive results:\n",
        "\t\tN: 1050\n",
        "\t\tPrecision: 0.959758551308\n",
        "\t\tRecall: 0.952095808383\n",
        "\t\tF1: 0.955911823647\n",
        "\t\tSupport: 501\n",
        "\tPassive results:\n",
        "\t\tN: 1050\n",
        "\t\tPrecision: 0.968253968254\n",
        "\t\tRecall: 0.852295409182\n",
        "\t\tF1: 0.906581740977\n",
        "\t\tSupport: 501\n",
        "completed run with N=1075:"
       ]
      },
      {
       "output_type": "stream",
       "stream": "stdout",
       "text": [
        "\n",
        "\tActive results:\n",
        "\t\tN: 1075\n",
        "\t\tPrecision: 0.961693548387\n",
        "\t\tRecall: 0.952095808383\n",
        "\t\tF1: 0.956870611836\n",
        "\t\tSupport: 501\n",
        "\tPassive results:\n",
        "\t\tN: 1075\n",
        "\t\tPrecision: 0.966139954853\n",
        "\t\tRecall: 0.854291417166\n",
        "\t\tF1: 0.906779661017\n",
        "\t\tSupport: 501\n",
        "completed run with N=1100:"
       ]
      },
      {
       "output_type": "stream",
       "stream": "stdout",
       "text": [
        "\n",
        "\tActive results:\n",
        "\t\tN: 1100\n",
        "\t\tPrecision: 0.957915831663\n",
        "\t\tRecall: 0.954091816367\n",
        "\t\tF1: 0.956\n",
        "\t\tSupport: 501\n",
        "\tPassive results:\n",
        "\t\tN: 1100\n",
        "\t\tPrecision: 0.964285714286\n",
        "\t\tRecall: 0.862275449102\n",
        "\t\tF1: 0.91043203372\n",
        "\t\tSupport: 501\n",
        "completed run with N=1125:"
       ]
      },
      {
       "output_type": "stream",
       "stream": "stdout",
       "text": [
        "\n",
        "\tActive results:\n",
        "\t\tN: 1125\n",
        "\t\tPrecision: 0.95983935743\n",
        "\t\tRecall: 0.954091816367\n",
        "\t\tF1: 0.956956956957\n",
        "\t\tSupport: 501\n",
        "\tPassive results:\n",
        "\t\tN: 1125\n",
        "\t\tPrecision: 0.962389380531\n",
        "\t\tRecall: 0.868263473054\n",
        "\t\tF1: 0.912906610703\n",
        "\t\tSupport: 501\n",
        "completed run with N=1150:"
       ]
      },
      {
       "output_type": "stream",
       "stream": "stdout",
       "text": [
        "\n",
        "\tActive results:\n",
        "\t\tN: 1150\n",
        "\t\tPrecision: 0.95983935743\n",
        "\t\tRecall: 0.954091816367\n",
        "\t\tF1: 0.956956956957\n",
        "\t\tSupport: 501\n",
        "\tPassive results:\n",
        "\t\tN: 1150\n",
        "\t\tPrecision: 0.960264900662\n",
        "\t\tRecall: 0.868263473054\n",
        "\t\tF1: 0.911949685535\n",
        "\t\tSupport: 501\n",
        "completed run with N=1175:"
       ]
      },
      {
       "output_type": "stream",
       "stream": "stdout",
       "text": [
        "\n",
        "\tActive results:\n",
        "\t\tN: 1175\n",
        "\t\tPrecision: 0.961770623742\n",
        "\t\tRecall: 0.954091816367\n",
        "\t\tF1: 0.957915831663\n",
        "\t\tSupport: 501\n",
        "\tPassive results:\n",
        "\t\tN: 1175\n",
        "\t\tPrecision: 0.960698689956\n",
        "\t\tRecall: 0.878243512974\n",
        "\t\tF1: 0.917622523462\n",
        "\t\tSupport: 501\n",
        "completed run with N=1200:"
       ]
      },
      {
       "output_type": "stream",
       "stream": "stdout",
       "text": [
        "\n",
        "\tActive results:\n",
        "\t\tN: 1200\n",
        "\t\tPrecision: 0.961770623742\n",
        "\t\tRecall: 0.954091816367\n",
        "\t\tF1: 0.957915831663\n",
        "\t\tSupport: 501\n",
        "\tPassive results:\n",
        "\t\tN: 1200\n",
        "\t\tPrecision: 0.958605664488\n",
        "\t\tRecall: 0.878243512974\n",
        "\t\tF1: 0.916666666667\n",
        "\t\tSupport: 501\n",
        "completed run with N=1225:"
       ]
      },
      {
       "output_type": "stream",
       "stream": "stdout",
       "text": [
        "\n",
        "\tActive results:\n",
        "\t\tN: 1225\n",
        "\t\tPrecision: 0.961847389558\n",
        "\t\tRecall: 0.956087824351\n",
        "\t\tF1: 0.958958958959\n",
        "\t\tSupport: 501\n",
        "\tPassive results:\n",
        "\t\tN: 1225\n",
        "\t\tPrecision: 0.960698689956\n",
        "\t\tRecall: 0.878243512974\n",
        "\t\tF1: 0.917622523462\n",
        "\t\tSupport: 501\n",
        "completed run with N=1250:"
       ]
      },
      {
       "output_type": "stream",
       "stream": "stdout",
       "text": [
        "\n",
        "\tActive results:\n",
        "\t\tN: 1250\n",
        "\t\tPrecision: 0.96\n",
        "\t\tRecall: 0.958083832335\n",
        "\t\tF1: 0.959040959041\n",
        "\t\tSupport: 501\n",
        "\tPassive results:\n",
        "\t\tN: 1250\n",
        "\t\tPrecision: 0.958149779736\n",
        "\t\tRecall: 0.868263473054\n",
        "\t\tF1: 0.910994764398\n",
        "\t\tSupport: 501\n",
        "completed run with N=1275:"
       ]
      },
      {
       "output_type": "stream",
       "stream": "stdout",
       "text": [
        "\n",
        "\tActive results:\n",
        "\t\tN: 1275\n",
        "\t\tPrecision: 0.958083832335\n",
        "\t\tRecall: 0.958083832335\n",
        "\t\tF1: 0.958083832335\n",
        "\t\tSupport: 501\n",
        "\tPassive results:\n",
        "\t\tN: 1275\n",
        "\t\tPrecision: 0.960954446855\n",
        "\t\tRecall: 0.884231536926\n",
        "\t\tF1: 0.920997920998\n",
        "\t\tSupport: 501\n",
        "completed run with N=1300:"
       ]
      },
      {
       "output_type": "stream",
       "stream": "stdout",
       "text": [
        "\n",
        "\tActive results:\n",
        "\t\tN: 1300\n",
        "\t\tPrecision: 0.958083832335\n",
        "\t\tRecall: 0.958083832335\n",
        "\t\tF1: 0.958083832335\n",
        "\t\tSupport: 501\n",
        "\tPassive results:\n",
        "\t\tN: 1300\n",
        "\t\tPrecision: 0.958963282937\n",
        "\t\tRecall: 0.88622754491\n",
        "\t\tF1: 0.921161825726\n",
        "\t\tSupport: 501\n",
        "completed run with N=1325:"
       ]
      },
      {
       "output_type": "stream",
       "stream": "stdout",
       "text": [
        "\n",
        "\tActive results:\n",
        "\t\tN: 1325\n",
        "\t\tPrecision: 0.96\n",
        "\t\tRecall: 0.958083832335\n",
        "\t\tF1: 0.959040959041\n",
        "\t\tSupport: 501\n",
        "\tPassive results:\n",
        "\t\tN: 1325\n",
        "\t\tPrecision: 0.955128205128\n",
        "\t\tRecall: 0.892215568862\n",
        "\t\tF1: 0.922600619195\n",
        "\t\tSupport: 501\n",
        "completed run with N=1350:"
       ]
      },
      {
       "output_type": "stream",
       "stream": "stdout",
       "text": [
        "\n",
        "\tActive results:\n",
        "\t\tN: 1350\n",
        "\t\tPrecision: 0.961847389558\n",
        "\t\tRecall: 0.956087824351\n",
        "\t\tF1: 0.958958958959\n",
        "\t\tSupport: 501\n",
        "\tPassive results:\n",
        "\t\tN: 1350\n",
        "\t\tPrecision: 0.951374207188\n",
        "\t\tRecall: 0.898203592814\n",
        "\t\tF1: 0.924024640657\n",
        "\t\tSupport: 501\n",
        "completed run with N=1375:"
       ]
      },
      {
       "output_type": "stream",
       "stream": "stdout",
       "text": [
        "\n",
        "\tActive results:\n",
        "\t\tN: 1375\n",
        "\t\tPrecision: 0.959919839679\n",
        "\t\tRecall: 0.956087824351\n",
        "\t\tF1: 0.958\n",
        "\t\tSupport: 501\n",
        "\tPassive results:\n",
        "\t\tN: 1375\n",
        "\t\tPrecision: 0.945720250522\n",
        "\t\tRecall: 0.904191616766\n",
        "\t\tF1: 0.924489795918\n",
        "\t\tSupport: 501\n",
        "completed run with N=1400:"
       ]
      },
      {
       "output_type": "stream",
       "stream": "stdout",
       "text": [
        "\n",
        "\tActive results:\n",
        "\t\tN: 1400\n",
        "\t\tPrecision: 0.959919839679\n",
        "\t\tRecall: 0.956087824351\n",
        "\t\tF1: 0.958\n",
        "\t\tSupport: 501\n",
        "\tPassive results:\n",
        "\t\tN: 1400\n",
        "\t\tPrecision: 0.94769874477\n",
        "\t\tRecall: 0.904191616766\n",
        "\t\tF1: 0.925434116445\n",
        "\t\tSupport: 501\n",
        "completed run with N=1425:"
       ]
      },
      {
       "output_type": "stream",
       "stream": "stdout",
       "text": [
        "\n",
        "\tActive results:\n",
        "\t\tN: 1425\n",
        "\t\tPrecision: 0.96\n",
        "\t\tRecall: 0.958083832335\n",
        "\t\tF1: 0.959040959041\n",
        "\t\tSupport: 501\n",
        "\tPassive results:\n",
        "\t\tN: 1425\n",
        "\t\tPrecision: 0.949579831933\n",
        "\t\tRecall: 0.902195608782\n",
        "\t\tF1: 0.9252814739\n",
        "\t\tSupport: 501\n",
        "completed run with N=1450:"
       ]
      },
      {
       "output_type": "stream",
       "stream": "stdout",
       "text": [
        "\n",
        "\tActive results:\n",
        "\t\tN: 1450\n",
        "\t\tPrecision: 0.96\n",
        "\t\tRecall: 0.958083832335\n",
        "\t\tF1: 0.959040959041\n",
        "\t\tSupport: 501\n",
        "\tPassive results:\n",
        "\t\tN: 1450\n",
        "\t\tPrecision: 0.949579831933\n",
        "\t\tRecall: 0.902195608782\n",
        "\t\tF1: 0.9252814739\n",
        "\t\tSupport: 501\n",
        "completed run with N=1475:"
       ]
      },
      {
       "output_type": "stream",
       "stream": "stdout",
       "text": [
        "\n",
        "\tActive results:\n",
        "\t\tN: 1475\n",
        "\t\tPrecision: 0.961923847695\n",
        "\t\tRecall: 0.958083832335\n",
        "\t\tF1: 0.96\n",
        "\t\tSupport: 501\n",
        "\tPassive results:\n",
        "\t\tN: 1475\n",
        "\t\tPrecision: 0.946169772257\n",
        "\t\tRecall: 0.912175648703\n",
        "\t\tF1: 0.928861788618\n",
        "\t\tSupport: 501\n",
        "completed run with N=1500:"
       ]
      },
      {
       "output_type": "stream",
       "stream": "stdout",
       "text": [
        "\n",
        "\tActive results:\n",
        "\t\tN: 1500\n",
        "\t\tPrecision: 0.959919839679\n",
        "\t\tRecall: 0.956087824351\n",
        "\t\tF1: 0.958\n",
        "\t\tSupport: 501\n",
        "\tPassive results:\n",
        "\t\tN: 1500\n",
        "\t\tPrecision: 0.944099378882\n",
        "\t\tRecall: 0.910179640719\n",
        "\t\tF1: 0.926829268293\n",
        "\t\tSupport: 501\n",
        "completed run with N=1525:"
       ]
      },
      {
       "output_type": "stream",
       "stream": "stdout",
       "text": [
        "\n",
        "\tActive results:\n",
        "\t\tN: 1525\n",
        "\t\tPrecision: 0.959919839679\n",
        "\t\tRecall: 0.956087824351\n",
        "\t\tF1: 0.958\n",
        "\t\tSupport: 501\n",
        "\tPassive results:\n",
        "\t\tN: 1525\n",
        "\t\tPrecision: 0.946169772257\n",
        "\t\tRecall: 0.912175648703\n",
        "\t\tF1: 0.928861788618\n",
        "\t\tSupport: 501\n",
        "completed run with N=1550:"
       ]
      },
      {
       "output_type": "stream",
       "stream": "stdout",
       "text": [
        "\n",
        "\tActive results:\n",
        "\t\tN: 1550\n",
        "\t\tPrecision: 0.961847389558\n",
        "\t\tRecall: 0.956087824351\n",
        "\t\tF1: 0.958958958959\n",
        "\t\tSupport: 501\n",
        "\tPassive results:\n",
        "\t\tN: 1550\n",
        "\t\tPrecision: 0.946169772257\n",
        "\t\tRecall: 0.912175648703\n",
        "\t\tF1: 0.928861788618\n",
        "\t\tSupport: 501\n",
        "completed run with N=1575:"
       ]
      },
      {
       "output_type": "stream",
       "stream": "stdout",
       "text": [
        "\n",
        "\tActive results:\n",
        "\t\tN: 1575\n",
        "\t\tPrecision: 0.961770623742\n",
        "\t\tRecall: 0.954091816367\n",
        "\t\tF1: 0.957915831663\n",
        "\t\tSupport: 501\n",
        "\tPassive results:\n",
        "\t\tN: 1575\n",
        "\t\tPrecision: 0.946391752577\n",
        "\t\tRecall: 0.916167664671\n",
        "\t\tF1: 0.931034482759\n",
        "\t\tSupport: 501\n",
        "completed run with N=1600:"
       ]
      },
      {
       "output_type": "stream",
       "stream": "stdout",
       "text": [
        "\n",
        "\tActive results:\n",
        "\t\tN: 1600\n",
        "\t\tPrecision: 0.961923847695\n",
        "\t\tRecall: 0.958083832335\n",
        "\t\tF1: 0.96\n",
        "\t\tSupport: 501\n",
        "\tPassive results:\n",
        "\t\tN: 1600\n",
        "\t\tPrecision: 0.94250513347\n",
        "\t\tRecall: 0.916167664671\n",
        "\t\tF1: 0.929149797571\n",
        "\t\tSupport: 501\n",
        "completed run with N=1625:"
       ]
      },
      {
       "output_type": "stream",
       "stream": "stdout",
       "text": [
        "\n",
        "\tActive results:\n",
        "\t\tN: 1625\n",
        "\t\tPrecision: 0.958\n",
        "\t\tRecall: 0.956087824351\n",
        "\t\tF1: 0.957042957043\n",
        "\t\tSupport: 501\n",
        "\tPassive results:\n",
        "\t\tN: 1625\n",
        "\t\tPrecision: 0.940936863544\n",
        "\t\tRecall: 0.922155688623\n",
        "\t\tF1: 0.931451612903\n",
        "\t\tSupport: 501\n",
        "completed run with N=1650:"
       ]
      },
      {
       "output_type": "stream",
       "stream": "stdout",
       "text": [
        "\n",
        "\tActive results:\n",
        "\t\tN: 1650\n",
        "\t\tPrecision: 0.958083832335\n",
        "\t\tRecall: 0.958083832335\n",
        "\t\tF1: 0.958083832335\n",
        "\t\tSupport: 501\n",
        "\tPassive results:\n",
        "\t\tN: 1650\n",
        "\t\tPrecision: 0.942740286299\n",
        "\t\tRecall: 0.920159680639\n",
        "\t\tF1: 0.931313131313\n",
        "\t\tSupport: 501\n",
        "completed run with N=1675:"
       ]
      },
      {
       "output_type": "stream",
       "stream": "stdout",
       "text": [
        "\n",
        "\tActive results:\n",
        "\t\tN: 1675\n",
        "\t\tPrecision: 0.954274353877\n",
        "\t\tRecall: 0.958083832335\n",
        "\t\tF1: 0.956175298805\n",
        "\t\tSupport: 501\n",
        "\tPassive results:\n",
        "\t\tN: 1675\n",
        "\t\tPrecision: 0.942857142857\n",
        "\t\tRecall: 0.922155688623\n",
        "\t\tF1: 0.932391523713\n",
        "\t\tSupport: 501\n",
        "completed run with N=1700:"
       ]
      },
      {
       "output_type": "stream",
       "stream": "stdout",
       "text": [
        "\n",
        "\tActive results:\n",
        "\t\tN: 1700\n",
        "\t\tPrecision: 0.952380952381\n",
        "\t\tRecall: 0.958083832335\n",
        "\t\tF1: 0.955223880597\n",
        "\t\tSupport: 501\n",
        "\tPassive results:\n",
        "\t\tN: 1700\n",
        "\t\tPrecision: 0.942740286299\n",
        "\t\tRecall: 0.920159680639\n",
        "\t\tF1: 0.931313131313\n",
        "\t\tSupport: 501\n",
        "completed run with N=1725:"
       ]
      },
      {
       "output_type": "stream",
       "stream": "stdout",
       "text": [
        "\n",
        "\tActive results:\n",
        "\t\tN: 1725\n",
        "\t\tPrecision: 0.956262425447\n",
        "\t\tRecall: 0.960079840319\n",
        "\t\tF1: 0.958167330677\n",
        "\t\tSupport: 501\n",
        "\tPassive results:\n",
        "\t\tN: 1725\n",
        "\t\tPrecision: 0.941056910569\n",
        "\t\tRecall: 0.924151696607\n",
        "\t\tF1: 0.932527693857\n",
        "\t\tSupport: 501\n",
        "completed run with N=1750:"
       ]
      },
      {
       "output_type": "stream",
       "stream": "stdout",
       "text": [
        "\n",
        "\tActive results:\n",
        "\t\tN: 1750\n",
        "\t\tPrecision: 0.954545454545\n",
        "\t\tRecall: 0.964071856287\n",
        "\t\tF1: 0.959285004965\n",
        "\t\tSupport: 501\n",
        "\tPassive results:\n",
        "\t\tN: 1750\n",
        "\t\tPrecision: 0.939393939394\n",
        "\t\tRecall: 0.928143712575\n",
        "\t\tF1: 0.933734939759\n",
        "\t\tSupport: 501\n",
        "completed run with N=1775:"
       ]
      },
      {
       "output_type": "stream",
       "stream": "stdout",
       "text": [
        "\n",
        "\tActive results:\n",
        "\t\tN: 1775\n",
        "\t\tPrecision: 0.958250497018\n",
        "\t\tRecall: 0.962075848303\n",
        "\t\tF1: 0.96015936255\n",
        "\t\tSupport: 501\n",
        "\tPassive results:\n",
        "\t\tN: 1775\n",
        "\t\tPrecision: 0.941295546559\n",
        "\t\tRecall: 0.928143712575\n",
        "\t\tF1: 0.934673366834\n",
        "\t\tSupport: 501\n",
        "completed run with N=1800:"
       ]
      },
      {
       "output_type": "stream",
       "stream": "stdout",
       "text": [
        "\n",
        "\tActive results:\n",
        "\t\tN: 1800\n",
        "\t\tPrecision: 0.956435643564\n",
        "\t\tRecall: 0.964071856287\n",
        "\t\tF1: 0.960238568588\n",
        "\t\tSupport: 501\n",
        "\tPassive results:\n",
        "\t\tN: 1800\n",
        "\t\tPrecision: 0.939516129032\n",
        "\t\tRecall: 0.930139720559\n",
        "\t\tF1: 0.93480441324\n",
        "\t\tSupport: 501\n",
        "completed run with N=1825:"
       ]
      },
      {
       "output_type": "stream",
       "stream": "stdout",
       "text": [
        "\n",
        "\tActive results:\n",
        "\t\tN: 1825\n",
        "\t\tPrecision: 0.956349206349\n",
        "\t\tRecall: 0.962075848303\n",
        "\t\tF1: 0.9592039801\n",
        "\t\tSupport: 501\n",
        "\tPassive results:\n",
        "\t\tN: 1825\n",
        "\t\tPrecision: 0.939637826962\n",
        "\t\tRecall: 0.932135728543\n",
        "\t\tF1: 0.935871743487\n",
        "\t\tSupport: 501\n",
        "completed run with N=1850:"
       ]
      },
      {
       "output_type": "stream",
       "stream": "stdout",
       "text": [
        "\n",
        "\tActive results:\n",
        "\t\tN: 1850\n",
        "\t\tPrecision: 0.956349206349\n",
        "\t\tRecall: 0.962075848303\n",
        "\t\tF1: 0.9592039801\n",
        "\t\tSupport: 501\n",
        "\tPassive results:\n",
        "\t\tN: 1850\n",
        "\t\tPrecision: 0.935742971888\n",
        "\t\tRecall: 0.930139720559\n",
        "\t\tF1: 0.932932932933\n",
        "\t\tSupport: 501\n",
        "completed run with N=1875:"
       ]
      },
      {
       "output_type": "stream",
       "stream": "stdout",
       "text": [
        "\n",
        "\tActive results:\n",
        "\t\tN: 1875\n",
        "\t\tPrecision: 0.956175298805\n",
        "\t\tRecall: 0.958083832335\n",
        "\t\tF1: 0.957128614158\n",
        "\t\tSupport: 501\n",
        "\tPassive results:\n",
        "\t\tN: 1875\n",
        "\t\tPrecision: 0.934\n",
        "\t\tRecall: 0.932135728543\n",
        "\t\tF1: 0.933066933067\n",
        "\t\tSupport: 501\n",
        "completed run with N=1900:"
       ]
      },
      {
       "output_type": "stream",
       "stream": "stdout",
       "text": [
        "\n",
        "\tActive results:\n",
        "\t\tN: 1900\n",
        "\t\tPrecision: 0.96\n",
        "\t\tRecall: 0.958083832335\n",
        "\t\tF1: 0.959040959041\n",
        "\t\tSupport: 501\n",
        "\tPassive results:\n",
        "\t\tN: 1900\n",
        "\t\tPrecision: 0.934131736527\n",
        "\t\tRecall: 0.934131736527\n",
        "\t\tF1: 0.934131736527\n",
        "\t\tSupport: 501\n",
        "completed run with N=1925:"
       ]
      },
      {
       "output_type": "stream",
       "stream": "stdout",
       "text": [
        "\n",
        "\tActive results:\n",
        "\t\tN: 1925\n",
        "\t\tPrecision: 0.958083832335\n",
        "\t\tRecall: 0.958083832335\n",
        "\t\tF1: 0.958083832335\n",
        "\t\tSupport: 501\n",
        "\tPassive results:\n",
        "\t\tN: 1925\n",
        "\t\tPrecision: 0.934262948207\n",
        "\t\tRecall: 0.936127744511\n",
        "\t\tF1: 0.93519441675\n",
        "\t\tSupport: 501\n",
        "completed run with N=1950:"
       ]
      },
      {
       "output_type": "stream",
       "stream": "stdout",
       "text": [
        "\n",
        "\tActive results:\n",
        "\t\tN: 1950\n",
        "\t\tPrecision: 0.956175298805\n",
        "\t\tRecall: 0.958083832335\n",
        "\t\tF1: 0.957128614158\n",
        "\t\tSupport: 501\n",
        "\tPassive results:\n",
        "\t\tN: 1950\n",
        "\t\tPrecision: 0.932806324111\n",
        "\t\tRecall: 0.942115768463\n",
        "\t\tF1: 0.937437934459\n",
        "\t\tSupport: 501\n",
        "completed run with N=1975:"
       ]
      },
      {
       "output_type": "stream",
       "stream": "stdout",
       "text": [
        "\n",
        "\tActive results:\n",
        "\t\tN: 1975\n",
        "\t\tPrecision: 0.958\n",
        "\t\tRecall: 0.956087824351\n",
        "\t\tF1: 0.957042957043\n",
        "\t\tSupport: 501\n",
        "\tPassive results:\n",
        "\t\tN: 1975\n",
        "\t\tPrecision: 0.932673267327\n",
        "\t\tRecall: 0.940119760479\n",
        "\t\tF1: 0.936381709742\n",
        "\t\tSupport: 501\n",
        "completed run with N=2000:"
       ]
      },
      {
       "output_type": "stream",
       "stream": "stdout",
       "text": [
        "\n",
        "\tActive results:\n",
        "\t\tN: 2000\n",
        "\t\tPrecision: 0.956087824351\n",
        "\t\tRecall: 0.956087824351\n",
        "\t\tF1: 0.956087824351\n",
        "\t\tSupport: 501\n",
        "\tPassive results:\n",
        "\t\tN: 2000\n",
        "\t\tPrecision: 0.929273084479\n",
        "\t\tRecall: 0.944111776447\n",
        "\t\tF1: 0.936633663366\n",
        "\t\tSupport: 501\n",
        "completed run with N=2025:"
       ]
      },
      {
       "output_type": "stream",
       "stream": "stdout",
       "text": [
        "\n",
        "\tActive results:\n",
        "\t\tN: 2025\n",
        "\t\tPrecision: 0.958\n",
        "\t\tRecall: 0.956087824351\n",
        "\t\tF1: 0.957042957043\n",
        "\t\tSupport: 501\n",
        "\tPassive results:\n",
        "\t\tN: 2025\n",
        "\t\tPrecision: 0.931102362205\n",
        "\t\tRecall: 0.944111776447\n",
        "\t\tF1: 0.937561942517\n",
        "\t\tSupport: 501\n",
        "completed run with N=2050:"
       ]
      },
      {
       "output_type": "stream",
       "stream": "stdout",
       "text": [
        "\n",
        "\tActive results:\n",
        "\t\tN: 2050\n",
        "\t\tPrecision: 0.958\n",
        "\t\tRecall: 0.956087824351\n",
        "\t\tF1: 0.957042957043\n",
        "\t\tSupport: 501\n",
        "\tPassive results:\n",
        "\t\tN: 2050\n",
        "\t\tPrecision: 0.929273084479\n",
        "\t\tRecall: 0.944111776447\n",
        "\t\tF1: 0.936633663366\n",
        "\t\tSupport: 501\n",
        "completed run with N=2075:"
       ]
      },
      {
       "output_type": "stream",
       "stream": "stdout",
       "text": [
        "\n",
        "\tActive results:\n",
        "\t\tN: 2075\n",
        "\t\tPrecision: 0.958\n",
        "\t\tRecall: 0.956087824351\n",
        "\t\tF1: 0.957042957043\n",
        "\t\tSupport: 501\n",
        "\tPassive results:\n",
        "\t\tN: 2075\n",
        "\t\tPrecision: 0.932806324111\n",
        "\t\tRecall: 0.942115768463\n",
        "\t\tF1: 0.937437934459\n",
        "\t\tSupport: 501\n",
        "completed run with N=2100:"
       ]
      },
      {
       "output_type": "stream",
       "stream": "stdout",
       "text": [
        "\n",
        "\tActive results:\n",
        "\t\tN: 2100\n",
        "\t\tPrecision: 0.958083832335\n",
        "\t\tRecall: 0.958083832335\n",
        "\t\tF1: 0.958083832335\n",
        "\t\tSupport: 501\n",
        "\tPassive results:\n",
        "\t\tN: 2100\n",
        "\t\tPrecision: 0.932806324111\n",
        "\t\tRecall: 0.942115768463\n",
        "\t\tF1: 0.937437934459\n",
        "\t\tSupport: 501\n",
        "completed run with N=2125:"
       ]
      },
      {
       "output_type": "stream",
       "stream": "stdout",
       "text": [
        "\n",
        "\tActive results:\n",
        "\t\tN: 2125\n",
        "\t\tPrecision: 0.96\n",
        "\t\tRecall: 0.958083832335\n",
        "\t\tF1: 0.959040959041\n",
        "\t\tSupport: 501\n",
        "\tPassive results:\n",
        "\t\tN: 2125\n",
        "\t\tPrecision: 0.932806324111\n",
        "\t\tRecall: 0.942115768463\n",
        "\t\tF1: 0.937437934459\n",
        "\t\tSupport: 501\n",
        "completed run with N=2150:"
       ]
      },
      {
       "output_type": "stream",
       "stream": "stdout",
       "text": [
        "\n",
        "\tActive results:\n",
        "\t\tN: 2150\n",
        "\t\tPrecision: 0.956175298805\n",
        "\t\tRecall: 0.958083832335\n",
        "\t\tF1: 0.957128614158\n",
        "\t\tSupport: 501\n",
        "\tPassive results:\n",
        "\t\tN: 2150\n",
        "\t\tPrecision: 0.930966469428\n",
        "\t\tRecall: 0.942115768463\n",
        "\t\tF1: 0.936507936508\n",
        "\t\tSupport: 501\n",
        "completed run with N=2175:"
       ]
      },
      {
       "output_type": "stream",
       "stream": "stdout",
       "text": [
        "\n",
        "\tActive results:\n",
        "\t\tN: 2175\n",
        "\t\tPrecision: 0.954183266932\n",
        "\t\tRecall: 0.956087824351\n",
        "\t\tF1: 0.955134596211\n",
        "\t\tSupport: 501\n",
        "\tPassive results:\n",
        "\t\tN: 2175\n",
        "\t\tPrecision: 0.925636007828\n",
        "\t\tRecall: 0.944111776447\n",
        "\t\tF1: 0.934782608696\n",
        "\t\tSupport: 501\n",
        "completed run with N=2200:"
       ]
      },
      {
       "output_type": "stream",
       "stream": "stdout",
       "text": [
        "\n",
        "\tActive results:\n",
        "\t\tN: 2200\n",
        "\t\tPrecision: 0.954274353877\n",
        "\t\tRecall: 0.958083832335\n",
        "\t\tF1: 0.956175298805\n",
        "\t\tSupport: 501\n",
        "\tPassive results:\n",
        "\t\tN: 2200\n",
        "\t\tPrecision: 0.925636007828\n",
        "\t\tRecall: 0.944111776447\n",
        "\t\tF1: 0.934782608696\n",
        "\t\tSupport: 501\n",
        "completed run with N=2225:"
       ]
      },
      {
       "output_type": "stream",
       "stream": "stdout",
       "text": [
        "\n",
        "\tActive results:\n",
        "\t\tN: 2225\n",
        "\t\tPrecision: 0.954183266932\n",
        "\t\tRecall: 0.956087824351\n",
        "\t\tF1: 0.955134596211\n",
        "\t\tSupport: 501\n",
        "\tPassive results:\n",
        "\t\tN: 2225\n",
        "\t\tPrecision: 0.92578125\n",
        "\t\tRecall: 0.946107784431\n",
        "\t\tF1: 0.935834155972\n",
        "\t\tSupport: 501\n",
        "completed run with N=2250:"
       ]
      },
      {
       "output_type": "stream",
       "stream": "stdout",
       "text": [
        "\n",
        "\tActive results:\n",
        "\t\tN: 2250\n",
        "\t\tPrecision: 0.955911823647\n",
        "\t\tRecall: 0.952095808383\n",
        "\t\tF1: 0.954\n",
        "\t\tSupport: 501\n",
        "\tPassive results:\n",
        "\t\tN: 2250\n",
        "\t\tPrecision: 0.923976608187\n",
        "\t\tRecall: 0.946107784431\n",
        "\t\tF1: 0.934911242604\n",
        "\t\tSupport: 501\n",
        "completed run with N=2275:"
       ]
      },
      {
       "output_type": "stream",
       "stream": "stdout",
       "text": [
        "\n",
        "\tActive results:\n",
        "\t\tN: 2275\n",
        "\t\tPrecision: 0.955911823647\n",
        "\t\tRecall: 0.952095808383\n",
        "\t\tF1: 0.954\n",
        "\t\tSupport: 501\n",
        "\tPassive results:\n",
        "\t\tN: 2275\n",
        "\t\tPrecision: 0.925925925926\n",
        "\t\tRecall: 0.948103792415\n",
        "\t\tF1: 0.936883629191\n",
        "\t\tSupport: 501\n",
        "completed run with N=2300:"
       ]
      },
      {
       "output_type": "stream",
       "stream": "stdout",
       "text": [
        "\n",
        "\tActive results:\n",
        "\t\tN: 2300\n",
        "\t\tPrecision: 0.954\n",
        "\t\tRecall: 0.952095808383\n",
        "\t\tF1: 0.953046953047\n",
        "\t\tSupport: 501\n",
        "\tPassive results:\n",
        "\t\tN: 2300\n",
        "\t\tPrecision: 0.920542635659\n",
        "\t\tRecall: 0.948103792415\n",
        "\t\tF1: 0.934119960669\n",
        "\t\tSupport: 501\n",
        "completed run with N=2325:"
       ]
      },
      {
       "output_type": "stream",
       "stream": "stdout",
       "text": [
        "\n",
        "\tActive results:\n",
        "\t\tN: 2325\n",
        "\t\tPrecision: 0.956087824351\n",
        "\t\tRecall: 0.956087824351\n",
        "\t\tF1: 0.956087824351\n",
        "\t\tSupport: 501\n",
        "\tPassive results:\n",
        "\t\tN: 2325\n",
        "\t\tPrecision: 0.922630560928\n",
        "\t\tRecall: 0.952095808383\n",
        "\t\tF1: 0.937131630648\n",
        "\t\tSupport: 501\n",
        "completed run with N=2350:"
       ]
      },
      {
       "output_type": "stream",
       "stream": "stdout",
       "text": [
        "\n",
        "\tActive results:\n",
        "\t\tN: 2350\n",
        "\t\tPrecision: 0.958083832335\n",
        "\t\tRecall: 0.958083832335\n",
        "\t\tF1: 0.958083832335\n",
        "\t\tSupport: 501\n",
        "\tPassive results:\n",
        "\t\tN: 2350\n",
        "\t\tPrecision: 0.918918918919\n",
        "\t\tRecall: 0.950099800399\n",
        "\t\tF1: 0.934249263984\n",
        "\t\tSupport: 501\n",
        "completed run with N=2375:"
       ]
      },
      {
       "output_type": "stream",
       "stream": "stdout",
       "text": [
        "\n",
        "\tActive results:\n",
        "\t\tN: 2375\n",
        "\t\tPrecision: 0.958167330677\n",
        "\t\tRecall: 0.960079840319\n",
        "\t\tF1: 0.959122632104\n",
        "\t\tSupport: 501\n",
        "\tPassive results:\n",
        "\t\tN: 2375\n",
        "\t\tPrecision: 0.917307692308\n",
        "\t\tRecall: 0.952095808383\n",
        "\t\tF1: 0.934378060725\n",
        "\t\tSupport: 501\n",
        "completed run with N=2400:"
       ]
      },
      {
       "output_type": "stream",
       "stream": "stdout",
       "text": [
        "\n",
        "\tActive results:\n",
        "\t\tN: 2400\n",
        "\t\tPrecision: 0.958250497018\n",
        "\t\tRecall: 0.962075848303\n",
        "\t\tF1: 0.96015936255\n",
        "\t\tSupport: 501\n",
        "\tPassive results:\n",
        "\t\tN: 2400\n",
        "\t\tPrecision: 0.919075144509\n",
        "\t\tRecall: 0.952095808383\n",
        "\t\tF1: 0.935294117647\n",
        "\t\tSupport: 501\n",
        "completed run with N=2425:"
       ]
      },
      {
       "output_type": "stream",
       "stream": "stdout",
       "text": [
        "\n",
        "\tActive results:\n",
        "\t\tN: 2425\n",
        "\t\tPrecision: 0.958250497018\n",
        "\t\tRecall: 0.962075848303\n",
        "\t\tF1: 0.96015936255\n",
        "\t\tSupport: 501\n",
        "\tPassive results:\n",
        "\t\tN: 2425\n",
        "\t\tPrecision: 0.919075144509\n",
        "\t\tRecall: 0.952095808383\n",
        "\t\tF1: 0.935294117647\n",
        "\t\tSupport: 501\n",
        "completed run with N=2450:"
       ]
      },
      {
       "output_type": "stream",
       "stream": "stdout",
       "text": [
        "\n",
        "\tActive results:\n",
        "\t\tN: 2450\n",
        "\t\tPrecision: 0.958083832335\n",
        "\t\tRecall: 0.958083832335\n",
        "\t\tF1: 0.958083832335\n",
        "\t\tSupport: 501\n",
        "\tPassive results:\n",
        "\t\tN: 2450\n",
        "\t\tPrecision: 0.922480620155\n",
        "\t\tRecall: 0.950099800399\n",
        "\t\tF1: 0.936086529007\n",
        "\t\tSupport: 501\n",
        "completed run with N=2475:"
       ]
      },
      {
       "output_type": "stream",
       "stream": "stdout",
       "text": [
        "\n",
        "\tActive results:\n",
        "\t\tN: 2475\n",
        "\t\tPrecision: 0.961923847695\n",
        "\t\tRecall: 0.958083832335\n",
        "\t\tF1: 0.96\n",
        "\t\tSupport: 501\n",
        "\tPassive results:\n",
        "\t\tN: 2475\n",
        "\t\tPrecision: 0.920849420849\n",
        "\t\tRecall: 0.952095808383\n",
        "\t\tF1: 0.936211972522\n",
        "\t\tSupport: 501\n",
        "completed run with N=2500:"
       ]
      },
      {
       "output_type": "stream",
       "stream": "stdout",
       "text": [
        "\n",
        "\tActive results:\n",
        "\t\tN: 2500\n",
        "\t\tPrecision: 0.959919839679\n",
        "\t\tRecall: 0.956087824351\n",
        "\t\tF1: 0.958\n",
        "\t\tSupport: 501\n",
        "\tPassive results:\n",
        "\t\tN: 2500\n",
        "\t\tPrecision: 0.919075144509\n",
        "\t\tRecall: 0.952095808383\n",
        "\t\tF1: 0.935294117647\n",
        "\t\tSupport: 501\n",
        "completed run with N=2525:"
       ]
      },
      {
       "output_type": "stream",
       "stream": "stdout",
       "text": [
        "\n",
        "\tActive results:\n",
        "\t\tN: 2525\n",
        "\t\tPrecision: 0.962\n",
        "\t\tRecall: 0.960079840319\n",
        "\t\tF1: 0.961038961039\n",
        "\t\tSupport: 501\n",
        "\tPassive results:\n",
        "\t\tN: 2525\n",
        "\t\tPrecision: 0.919075144509\n",
        "\t\tRecall: 0.952095808383\n",
        "\t\tF1: 0.935294117647\n",
        "\t\tSupport: 501\n",
        "completed run with N=2550:"
       ]
      },
      {
       "output_type": "stream",
       "stream": "stdout",
       "text": [
        "\n",
        "\tActive results:\n",
        "\t\tN: 2550\n",
        "\t\tPrecision: 0.961923847695\n",
        "\t\tRecall: 0.958083832335\n",
        "\t\tF1: 0.96\n",
        "\t\tSupport: 501\n",
        "\tPassive results:\n",
        "\t\tN: 2550\n",
        "\t\tPrecision: 0.919075144509\n",
        "\t\tRecall: 0.952095808383\n",
        "\t\tF1: 0.935294117647\n",
        "\t\tSupport: 501\n",
        "completed run with N=2575:"
       ]
      },
      {
       "output_type": "stream",
       "stream": "stdout",
       "text": [
        "\n",
        "\tActive results:\n",
        "\t\tN: 2575\n",
        "\t\tPrecision: 0.960079840319\n",
        "\t\tRecall: 0.960079840319\n",
        "\t\tF1: 0.960079840319\n",
        "\t\tSupport: 501\n",
        "\tPassive results:\n",
        "\t\tN: 2575\n",
        "\t\tPrecision: 0.919075144509\n",
        "\t\tRecall: 0.952095808383\n",
        "\t\tF1: 0.935294117647\n",
        "\t\tSupport: 501\n",
        "completed run with N=2600:"
       ]
      },
      {
       "output_type": "stream",
       "stream": "stdout",
       "text": [
        "\n",
        "\tActive results:\n",
        "\t\tN: 2600\n",
        "\t\tPrecision: 0.96\n",
        "\t\tRecall: 0.958083832335\n",
        "\t\tF1: 0.959040959041\n",
        "\t\tSupport: 501\n",
        "\tPassive results:\n",
        "\t\tN: 2600\n",
        "\t\tPrecision: 0.917307692308\n",
        "\t\tRecall: 0.952095808383\n",
        "\t\tF1: 0.934378060725\n",
        "\t\tSupport: 501\n",
        "completed run with N=2625:"
       ]
      },
      {
       "output_type": "stream",
       "stream": "stdout",
       "text": [
        "\n",
        "\tActive results:\n",
        "\t\tN: 2625\n",
        "\t\tPrecision: 0.960079840319\n",
        "\t\tRecall: 0.960079840319\n",
        "\t\tF1: 0.960079840319\n",
        "\t\tSupport: 501\n",
        "\tPassive results:\n",
        "\t\tN: 2625\n",
        "\t\tPrecision: 0.917307692308\n",
        "\t\tRecall: 0.952095808383\n",
        "\t\tF1: 0.934378060725\n",
        "\t\tSupport: 501\n",
        "completed run with N=2650:"
       ]
      },
      {
       "output_type": "stream",
       "stream": "stdout",
       "text": [
        "\n",
        "\tActive results:\n",
        "\t\tN: 2650\n",
        "\t\tPrecision: 0.96\n",
        "\t\tRecall: 0.958083832335\n",
        "\t\tF1: 0.959040959041\n",
        "\t\tSupport: 501\n",
        "\tPassive results:\n",
        "\t\tN: 2650\n",
        "\t\tPrecision: 0.917307692308\n",
        "\t\tRecall: 0.952095808383\n",
        "\t\tF1: 0.934378060725\n",
        "\t\tSupport: 501\n",
        "completed run with N=2675:"
       ]
      },
      {
       "output_type": "stream",
       "stream": "stdout",
       "text": [
        "\n",
        "\tActive results:\n",
        "\t\tN: 2675\n",
        "\t\tPrecision: 0.956087824351\n",
        "\t\tRecall: 0.956087824351\n",
        "\t\tF1: 0.956087824351\n",
        "\t\tSupport: 501\n",
        "\tPassive results:\n",
        "\t\tN: 2675\n",
        "\t\tPrecision: 0.919075144509\n",
        "\t\tRecall: 0.952095808383\n",
        "\t\tF1: 0.935294117647\n",
        "\t\tSupport: 501\n",
        "completed run with N=2700:"
       ]
      },
      {
       "output_type": "stream",
       "stream": "stdout",
       "text": [
        "\n",
        "\tActive results:\n",
        "\t\tN: 2700\n",
        "\t\tPrecision: 0.959919839679\n",
        "\t\tRecall: 0.956087824351\n",
        "\t\tF1: 0.958\n",
        "\t\tSupport: 501\n",
        "\tPassive results:\n",
        "\t\tN: 2700\n",
        "\t\tPrecision: 0.915547024952\n",
        "\t\tRecall: 0.952095808383\n",
        "\t\tF1: 0.933463796477\n",
        "\t\tSupport: 501\n",
        "completed run with N=2725:"
       ]
      },
      {
       "output_type": "stream",
       "stream": "stdout",
       "text": [
        "\n",
        "\tActive results:\n",
        "\t\tN: 2725\n",
        "\t\tPrecision: 0.958\n",
        "\t\tRecall: 0.956087824351\n",
        "\t\tF1: 0.957042957043\n",
        "\t\tSupport: 501\n",
        "\tPassive results:\n",
        "\t\tN: 2725\n",
        "\t\tPrecision: 0.915547024952\n",
        "\t\tRecall: 0.952095808383\n",
        "\t\tF1: 0.933463796477\n",
        "\t\tSupport: 501\n",
        "completed run with N=2750:"
       ]
      },
      {
       "output_type": "stream",
       "stream": "stdout",
       "text": [
        "\n",
        "\tActive results:\n",
        "\t\tN: 2750\n",
        "\t\tPrecision: 0.957915831663\n",
        "\t\tRecall: 0.954091816367\n",
        "\t\tF1: 0.956\n",
        "\t\tSupport: 501\n",
        "\tPassive results:\n",
        "\t\tN: 2750\n",
        "\t\tPrecision: 0.913793103448\n",
        "\t\tRecall: 0.952095808383\n",
        "\t\tF1: 0.932551319648\n",
        "\t\tSupport: 501\n",
        "completed run with N=2775:"
       ]
      },
      {
       "output_type": "stream",
       "stream": "stdout",
       "text": [
        "\n",
        "\tActive results:\n",
        "\t\tN: 2775\n",
        "\t\tPrecision: 0.96\n",
        "\t\tRecall: 0.958083832335\n",
        "\t\tF1: 0.959040959041\n",
        "\t\tSupport: 501\n",
        "\tPassive results:\n",
        "\t\tN: 2775\n",
        "\t\tPrecision: 0.915547024952\n",
        "\t\tRecall: 0.952095808383\n",
        "\t\tF1: 0.933463796477\n",
        "\t\tSupport: 501\n",
        "completed run with N=2800:"
       ]
      },
      {
       "output_type": "stream",
       "stream": "stdout",
       "text": [
        "\n",
        "\tActive results:\n",
        "\t\tN: 2800\n",
        "\t\tPrecision: 0.958083832335\n",
        "\t\tRecall: 0.958083832335\n",
        "\t\tF1: 0.958083832335\n",
        "\t\tSupport: 501\n",
        "\tPassive results:\n",
        "\t\tN: 2800\n",
        "\t\tPrecision: 0.913793103448\n",
        "\t\tRecall: 0.952095808383\n",
        "\t\tF1: 0.932551319648\n",
        "\t\tSupport: 501\n",
        "completed run with N=2825:"
       ]
      },
      {
       "output_type": "stream",
       "stream": "stdout",
       "text": [
        "\n",
        "\tActive results:\n",
        "\t\tN: 2825\n",
        "\t\tPrecision: 0.961923847695\n",
        "\t\tRecall: 0.958083832335\n",
        "\t\tF1: 0.96\n",
        "\t\tSupport: 501\n",
        "\tPassive results:\n",
        "\t\tN: 2825\n",
        "\t\tPrecision: 0.913793103448\n",
        "\t\tRecall: 0.952095808383\n",
        "\t\tF1: 0.932551319648\n",
        "\t\tSupport: 501\n",
        "completed run with N=2850:"
       ]
      },
      {
       "output_type": "stream",
       "stream": "stdout",
       "text": [
        "\n",
        "\tActive results:\n",
        "\t\tN: 2850\n",
        "\t\tPrecision: 0.961923847695\n",
        "\t\tRecall: 0.958083832335\n",
        "\t\tF1: 0.96\n",
        "\t\tSupport: 501\n",
        "\tPassive results:\n",
        "\t\tN: 2850\n",
        "\t\tPrecision: 0.912045889101\n",
        "\t\tRecall: 0.952095808383\n",
        "\t\tF1: 0.931640625\n",
        "\t\tSupport: 501\n",
        "completed run with N=2875:"
       ]
      },
      {
       "output_type": "stream",
       "stream": "stdout",
       "text": [
        "\n",
        "\tActive results:\n",
        "\t\tN: 2875\n",
        "\t\tPrecision: 0.962\n",
        "\t\tRecall: 0.960079840319\n",
        "\t\tF1: 0.961038961039\n",
        "\t\tSupport: 501\n",
        "\tPassive results:\n",
        "\t\tN: 2875\n",
        "\t\tPrecision: 0.910305343511\n",
        "\t\tRecall: 0.952095808383\n",
        "\t\tF1: 0.930731707317\n",
        "\t\tSupport: 501\n",
        "completed run with N=2900:"
       ]
      },
      {
       "output_type": "stream",
       "stream": "stdout",
       "text": [
        "\n",
        "\tActive results:\n",
        "\t\tN: 2900\n",
        "\t\tPrecision: 0.961923847695\n",
        "\t\tRecall: 0.958083832335\n",
        "\t\tF1: 0.96\n",
        "\t\tSupport: 501\n",
        "\tPassive results:\n",
        "\t\tN: 2900\n",
        "\t\tPrecision: 0.910305343511\n",
        "\t\tRecall: 0.952095808383\n",
        "\t\tF1: 0.930731707317\n",
        "\t\tSupport: 501\n",
        "completed run with N=2925:"
       ]
      },
      {
       "output_type": "stream",
       "stream": "stdout",
       "text": [
        "\n",
        "\tActive results:\n",
        "\t\tN: 2925\n",
        "\t\tPrecision: 0.96\n",
        "\t\tRecall: 0.958083832335\n",
        "\t\tF1: 0.959040959041\n",
        "\t\tSupport: 501\n",
        "\tPassive results:\n",
        "\t\tN: 2925\n",
        "\t\tPrecision: 0.912213740458\n",
        "\t\tRecall: 0.954091816367\n",
        "\t\tF1: 0.932682926829\n",
        "\t\tSupport: 501\n",
        "completed run with N=2950:"
       ]
      },
      {
       "output_type": "stream",
       "stream": "stdout",
       "text": [
        "\n",
        "\tActive results:\n",
        "\t\tN: 2950\n",
        "\t\tPrecision: 0.960079840319\n",
        "\t\tRecall: 0.960079840319\n",
        "\t\tF1: 0.960079840319\n",
        "\t\tSupport: 501\n",
        "\tPassive results:\n",
        "\t\tN: 2950\n",
        "\t\tPrecision: 0.908745247148\n",
        "\t\tRecall: 0.954091816367\n",
        "\t\tF1: 0.930866601753\n",
        "\t\tSupport: 501\n",
        "completed run with N=2975:"
       ]
      },
      {
       "output_type": "stream",
       "stream": "stdout",
       "text": [
        "\n",
        "\tActive results:\n",
        "\t\tN: 2975\n",
        "\t\tPrecision: 0.958083832335\n",
        "\t\tRecall: 0.958083832335\n",
        "\t\tF1: 0.958083832335\n",
        "\t\tSupport: 501\n",
        "\tPassive results:\n",
        "\t\tN: 2975\n",
        "\t\tPrecision: 0.908745247148\n",
        "\t\tRecall: 0.954091816367\n",
        "\t\tF1: 0.930866601753\n",
        "\t\tSupport: 501\n",
        "completed run with N=3000:"
       ]
      },
      {
       "output_type": "stream",
       "stream": "stdout",
       "text": [
        "\n",
        "\tActive results:\n",
        "\t\tN: 3000\n",
        "\t\tPrecision: 0.958083832335\n",
        "\t\tRecall: 0.958083832335\n",
        "\t\tF1: 0.958083832335\n",
        "\t\tSupport: 501\n",
        "\tPassive results:\n",
        "\t\tN: 3000\n",
        "\t\tPrecision: 0.907020872865\n",
        "\t\tRecall: 0.954091816367\n",
        "\t\tF1: 0.929961089494\n",
        "\t\tSupport: 501\n",
        "completed run with N=3025:"
       ]
      },
      {
       "output_type": "stream",
       "stream": "stdout",
       "text": [
        "\n",
        "\tActive results:\n",
        "\t\tN: 3025\n",
        "\t\tPrecision: 0.956087824351\n",
        "\t\tRecall: 0.956087824351\n",
        "\t\tF1: 0.956087824351\n",
        "\t\tSupport: 501\n",
        "\tPassive results:\n",
        "\t\tN: 3025\n",
        "\t\tPrecision: 0.908745247148\n",
        "\t\tRecall: 0.954091816367\n",
        "\t\tF1: 0.930866601753\n",
        "\t\tSupport: 501\n",
        "completed run with N=3050:"
       ]
      },
      {
       "output_type": "stream",
       "stream": "stdout",
       "text": [
        "\n",
        "\tActive results:\n",
        "\t\tN: 3050\n",
        "\t\tPrecision: 0.954183266932\n",
        "\t\tRecall: 0.956087824351\n",
        "\t\tF1: 0.955134596211\n",
        "\t\tSupport: 501\n",
        "\tPassive results:\n",
        "\t\tN: 3050\n",
        "\t\tPrecision: 0.908745247148\n",
        "\t\tRecall: 0.954091816367\n",
        "\t\tF1: 0.930866601753\n",
        "\t\tSupport: 501\n",
        "completed run with N=3075:"
       ]
      },
      {
       "output_type": "stream",
       "stream": "stdout",
       "text": [
        "\n",
        "\tActive results:\n",
        "\t\tN: 3075\n",
        "\t\tPrecision: 0.954183266932\n",
        "\t\tRecall: 0.956087824351\n",
        "\t\tF1: 0.955134596211\n",
        "\t\tSupport: 501\n",
        "\tPassive results:\n",
        "\t\tN: 3075\n",
        "\t\tPrecision: 0.907372400756\n",
        "\t\tRecall: 0.958083832335\n",
        "\t\tF1: 0.932038834951\n",
        "\t\tSupport: 501\n",
        "completed run with N=3100:"
       ]
      },
      {
       "output_type": "stream",
       "stream": "stdout",
       "text": [
        "\n",
        "\tActive results:\n",
        "\t\tN: 3100\n",
        "\t\tPrecision: 0.954274353877\n",
        "\t\tRecall: 0.958083832335\n",
        "\t\tF1: 0.956175298805\n",
        "\t\tSupport: 501\n",
        "\tPassive results:\n",
        "\t\tN: 3100\n",
        "\t\tPrecision: 0.909090909091\n",
        "\t\tRecall: 0.958083832335\n",
        "\t\tF1: 0.932944606414\n",
        "\t\tSupport: 501\n",
        "completed run with N=3125:"
       ]
      },
      {
       "output_type": "stream",
       "stream": "stdout",
       "text": [
        "\n",
        "\tActive results:\n",
        "\t\tN: 3125\n",
        "\t\tPrecision: 0.954274353877\n",
        "\t\tRecall: 0.958083832335\n",
        "\t\tF1: 0.956175298805\n",
        "\t\tSupport: 501\n",
        "\tPassive results:\n",
        "\t\tN: 3125\n",
        "\t\tPrecision: 0.910984848485\n",
        "\t\tRecall: 0.960079840319\n",
        "\t\tF1: 0.934888241011\n",
        "\t\tSupport: 501\n",
        "completed run with N=3150:"
       ]
      },
      {
       "output_type": "stream",
       "stream": "stdout",
       "text": [
        "\n",
        "\tActive results:\n",
        "\t\tN: 3150\n",
        "\t\tPrecision: 0.954183266932\n",
        "\t\tRecall: 0.956087824351\n",
        "\t\tF1: 0.955134596211\n",
        "\t\tSupport: 501\n",
        "\tPassive results:\n",
        "\t\tN: 3150\n",
        "\t\tPrecision: 0.910815939279\n",
        "\t\tRecall: 0.958083832335\n",
        "\t\tF1: 0.933852140078\n",
        "\t\tSupport: 501\n",
        "completed run with N=3175:"
       ]
      },
      {
       "output_type": "stream",
       "stream": "stdout",
       "text": [
        "\n",
        "\tActive results:\n",
        "\t\tN: 3175\n",
        "\t\tPrecision: 0.954365079365\n",
        "\t\tRecall: 0.960079840319\n",
        "\t\tF1: 0.957213930348\n",
        "\t\tSupport: 501\n",
        "\tPassive results:\n",
        "\t\tN: 3175\n",
        "\t\tPrecision: 0.910815939279\n",
        "\t\tRecall: 0.958083832335\n",
        "\t\tF1: 0.933852140078\n",
        "\t\tSupport: 501\n",
        "completed run with N=3200:"
       ]
      },
      {
       "output_type": "stream",
       "stream": "stdout",
       "text": [
        "\n",
        "\tActive results:\n",
        "\t\tN: 3200\n",
        "\t\tPrecision: 0.952380952381\n",
        "\t\tRecall: 0.958083832335\n",
        "\t\tF1: 0.955223880597\n",
        "\t\tSupport: 501\n",
        "\tPassive results:\n",
        "\t\tN: 3200\n",
        "\t\tPrecision: 0.910815939279\n",
        "\t\tRecall: 0.958083832335\n",
        "\t\tF1: 0.933852140078\n",
        "\t\tSupport: 501\n",
        "completed run with N=3225:"
       ]
      },
      {
       "output_type": "stream",
       "stream": "stdout",
       "text": [
        "\n",
        "\tActive results:\n",
        "\t\tN: 3225\n",
        "\t\tPrecision: 0.958167330677\n",
        "\t\tRecall: 0.960079840319\n",
        "\t\tF1: 0.959122632104\n",
        "\t\tSupport: 501\n",
        "\tPassive results:\n",
        "\t\tN: 3225\n",
        "\t\tPrecision: 0.910815939279\n",
        "\t\tRecall: 0.958083832335\n",
        "\t\tF1: 0.933852140078\n",
        "\t\tSupport: 501\n",
        "completed run with N=3250:"
       ]
      },
      {
       "output_type": "stream",
       "stream": "stdout",
       "text": [
        "\n",
        "\tActive results:\n",
        "\t\tN: 3250\n",
        "\t\tPrecision: 0.954365079365\n",
        "\t\tRecall: 0.960079840319\n",
        "\t\tF1: 0.957213930348\n",
        "\t\tSupport: 501\n",
        "\tPassive results:\n",
        "\t\tN: 3250\n",
        "\t\tPrecision: 0.911153119093\n",
        "\t\tRecall: 0.962075848303\n",
        "\t\tF1: 0.935922330097\n",
        "\t\tSupport: 501\n",
        "completed run with N=3275:"
       ]
      },
      {
       "output_type": "stream",
       "stream": "stdout",
       "text": [
        "\n",
        "\tActive results:\n",
        "\t\tN: 3275\n",
        "\t\tPrecision: 0.954365079365\n",
        "\t\tRecall: 0.960079840319\n",
        "\t\tF1: 0.957213930348\n",
        "\t\tSupport: 501\n",
        "\tPassive results:\n",
        "\t\tN: 3275\n",
        "\t\tPrecision: 0.911153119093\n",
        "\t\tRecall: 0.962075848303\n",
        "\t\tF1: 0.935922330097\n",
        "\t\tSupport: 501\n",
        "completed run with N=3300:"
       ]
      },
      {
       "output_type": "stream",
       "stream": "stdout",
       "text": [
        "\n",
        "\tActive results:\n",
        "\t\tN: 3300\n",
        "\t\tPrecision: 0.958167330677\n",
        "\t\tRecall: 0.960079840319\n",
        "\t\tF1: 0.959122632104\n",
        "\t\tSupport: 501\n",
        "\tPassive results:\n",
        "\t\tN: 3300\n",
        "\t\tPrecision: 0.911153119093\n",
        "\t\tRecall: 0.962075848303\n",
        "\t\tF1: 0.935922330097\n",
        "\t\tSupport: 501\n",
        "completed run with N=3325:"
       ]
      },
      {
       "output_type": "stream",
       "stream": "stdout",
       "text": [
        "\n",
        "\tActive results:\n",
        "\t\tN: 3325\n",
        "\t\tPrecision: 0.956262425447\n",
        "\t\tRecall: 0.960079840319\n",
        "\t\tF1: 0.958167330677\n",
        "\t\tSupport: 501\n",
        "\tPassive results:\n",
        "\t\tN: 3325\n",
        "\t\tPrecision: 0.911153119093\n",
        "\t\tRecall: 0.962075848303\n",
        "\t\tF1: 0.935922330097\n",
        "\t\tSupport: 501\n",
        "completed run with N=3350:"
       ]
      },
      {
       "output_type": "stream",
       "stream": "stdout",
       "text": [
        "\n",
        "\tActive results:\n",
        "\t\tN: 3350\n",
        "\t\tPrecision: 0.954365079365\n",
        "\t\tRecall: 0.960079840319\n",
        "\t\tF1: 0.957213930348\n",
        "\t\tSupport: 501\n",
        "\tPassive results:\n",
        "\t\tN: 3350\n",
        "\t\tPrecision: 0.911153119093\n",
        "\t\tRecall: 0.962075848303\n",
        "\t\tF1: 0.935922330097\n",
        "\t\tSupport: 501\n",
        "completed run with N=3375:"
       ]
      },
      {
       "output_type": "stream",
       "stream": "stdout",
       "text": [
        "\n",
        "\tActive results:\n",
        "\t\tN: 3375\n",
        "\t\tPrecision: 0.956349206349\n",
        "\t\tRecall: 0.962075848303\n",
        "\t\tF1: 0.9592039801\n",
        "\t\tSupport: 501\n",
        "\tPassive results:\n",
        "\t\tN: 3375\n",
        "\t\tPrecision: 0.911153119093\n",
        "\t\tRecall: 0.962075848303\n",
        "\t\tF1: 0.935922330097\n",
        "\t\tSupport: 501\n",
        "completed run with N=3400:"
       ]
      },
      {
       "output_type": "stream",
       "stream": "stdout",
       "text": [
        "\n",
        "\tActive results:\n",
        "\t\tN: 3400\n",
        "\t\tPrecision: 0.958333333333\n",
        "\t\tRecall: 0.964071856287\n",
        "\t\tF1: 0.961194029851\n",
        "\t\tSupport: 501\n",
        "\tPassive results:\n",
        "\t\tN: 3400\n",
        "\t\tPrecision: 0.911153119093\n",
        "\t\tRecall: 0.962075848303\n",
        "\t\tF1: 0.935922330097\n",
        "\t\tSupport: 501\n",
        "completed run with N=3425:"
       ]
      },
      {
       "output_type": "stream",
       "stream": "stdout",
       "text": [
        "\n",
        "\tActive results:\n",
        "\t\tN: 3425\n",
        "\t\tPrecision: 0.956349206349\n",
        "\t\tRecall: 0.962075848303\n",
        "\t\tF1: 0.9592039801\n",
        "\t\tSupport: 501\n",
        "\tPassive results:\n",
        "\t\tN: 3425\n",
        "\t\tPrecision: 0.909433962264\n",
        "\t\tRecall: 0.962075848303\n",
        "\t\tF1: 0.935014548982\n",
        "\t\tSupport: 501\n",
        "completed run with N=3450:"
       ]
      },
      {
       "output_type": "stream",
       "stream": "stdout",
       "text": [
        "\n",
        "\tActive results:\n",
        "\t\tN: 3450\n",
        "\t\tPrecision: 0.958333333333\n",
        "\t\tRecall: 0.964071856287\n",
        "\t\tF1: 0.961194029851\n",
        "\t\tSupport: 501\n",
        "\tPassive results:\n",
        "\t\tN: 3450\n",
        "\t\tPrecision: 0.909433962264\n",
        "\t\tRecall: 0.962075848303\n",
        "\t\tF1: 0.935014548982\n",
        "\t\tSupport: 501\n",
        "completed run with N=3475:"
       ]
      },
      {
       "output_type": "stream",
       "stream": "stdout",
       "text": [
        "\n",
        "\tActive results:\n",
        "\t\tN: 3475\n",
        "\t\tPrecision: 0.956435643564\n",
        "\t\tRecall: 0.964071856287\n",
        "\t\tF1: 0.960238568588\n",
        "\t\tSupport: 501\n",
        "\tPassive results:\n",
        "\t\tN: 3475\n",
        "\t\tPrecision: 0.907721280603\n",
        "\t\tRecall: 0.962075848303\n",
        "\t\tF1: 0.934108527132\n",
        "\t\tSupport: 501\n",
        "completed run with N=3500:"
       ]
      },
      {
       "output_type": "stream",
       "stream": "stdout",
       "text": [
        "\n",
        "\tActive results:\n",
        "\t\tN: 3500\n",
        "\t\tPrecision: 0.95652173913\n",
        "\t\tRecall: 0.966067864271\n",
        "\t\tF1: 0.961271102284\n",
        "\t\tSupport: 501\n",
        "\tPassive results:\n",
        "\t\tN: 3500\n",
        "\t\tPrecision: 0.907721280603\n",
        "\t\tRecall: 0.962075848303\n",
        "\t\tF1: 0.934108527132\n",
        "\t\tSupport: 501\n",
        "completed run with N=3525:"
       ]
      },
      {
       "output_type": "stream",
       "stream": "stdout",
       "text": [
        "\n",
        "\tActive results:\n",
        "\t\tN: 3525\n",
        "\t\tPrecision: 0.958415841584\n",
        "\t\tRecall: 0.966067864271\n",
        "\t\tF1: 0.962226640159\n",
        "\t\tSupport: 501\n",
        "\tPassive results:\n",
        "\t\tN: 3525\n",
        "\t\tPrecision: 0.906015037594\n",
        "\t\tRecall: 0.962075848303\n",
        "\t\tF1: 0.933204259439\n",
        "\t\tSupport: 501\n",
        "completed run with N=3550:"
       ]
      },
      {
       "output_type": "stream",
       "stream": "stdout",
       "text": [
        "\n",
        "\tActive results:\n",
        "\t\tN: 3550\n",
        "\t\tPrecision: 0.958415841584\n",
        "\t\tRecall: 0.966067864271\n",
        "\t\tF1: 0.962226640159\n",
        "\t\tSupport: 501\n",
        "\tPassive results:\n",
        "\t\tN: 3550\n",
        "\t\tPrecision: 0.906015037594\n",
        "\t\tRecall: 0.962075848303\n",
        "\t\tF1: 0.933204259439\n",
        "\t\tSupport: 501\n",
        "completed run with N=3575:"
       ]
      },
      {
       "output_type": "stream",
       "stream": "stdout",
       "text": [
        "\n",
        "\tActive results:\n",
        "\t\tN: 3575\n",
        "\t\tPrecision: 0.958333333333\n",
        "\t\tRecall: 0.964071856287\n",
        "\t\tF1: 0.961194029851\n",
        "\t\tSupport: 501\n",
        "\tPassive results:\n",
        "\t\tN: 3575\n",
        "\t\tPrecision: 0.904315196998\n",
        "\t\tRecall: 0.962075848303\n",
        "\t\tF1: 0.932301740812\n",
        "\t\tSupport: 501\n",
        "completed run with N=3600:"
       ]
      },
      {
       "output_type": "stream",
       "stream": "stdout",
       "text": [
        "\n",
        "\tActive results:\n",
        "\t\tN: 3600\n",
        "\t\tPrecision: 0.958333333333\n",
        "\t\tRecall: 0.964071856287\n",
        "\t\tF1: 0.961194029851\n",
        "\t\tSupport: 501\n",
        "\tPassive results:\n",
        "\t\tN: 3600\n",
        "\t\tPrecision: 0.904315196998\n",
        "\t\tRecall: 0.962075848303\n",
        "\t\tF1: 0.932301740812\n",
        "\t\tSupport: 501\n",
        "completed run with N=3625:"
       ]
      },
      {
       "output_type": "stream",
       "stream": "stdout",
       "text": [
        "\n",
        "\tActive results:\n",
        "\t\tN: 3625\n",
        "\t\tPrecision: 0.958415841584\n",
        "\t\tRecall: 0.966067864271\n",
        "\t\tF1: 0.962226640159\n",
        "\t\tSupport: 501\n",
        "\tPassive results:\n",
        "\t\tN: 3625\n",
        "\t\tPrecision: 0.902621722846\n",
        "\t\tRecall: 0.962075848303\n",
        "\t\tF1: 0.931400966184\n",
        "\t\tSupport: 501\n",
        "completed run with N=3650:"
       ]
      },
      {
       "output_type": "stream",
       "stream": "stdout",
       "text": [
        "\n",
        "\tActive results:\n",
        "\t\tN: 3650\n",
        "\t\tPrecision: 0.952755905512\n",
        "\t\tRecall: 0.966067864271\n",
        "\t\tF1: 0.959365708622\n",
        "\t\tSupport: 501\n",
        "\tPassive results:\n",
        "\t\tN: 3650\n",
        "\t\tPrecision: 0.902621722846\n",
        "\t\tRecall: 0.962075848303\n",
        "\t\tF1: 0.931400966184\n",
        "\t\tSupport: 501\n",
        "completed run with N=3675:"
       ]
      },
      {
       "output_type": "stream",
       "stream": "stdout",
       "text": [
        "\n",
        "\tActive results:\n",
        "\t\tN: 3675\n",
        "\t\tPrecision: 0.950884086444\n",
        "\t\tRecall: 0.966067864271\n",
        "\t\tF1: 0.958415841584\n",
        "\t\tSupport: 501\n",
        "\tPassive results:\n",
        "\t\tN: 3675\n",
        "\t\tPrecision: 0.902621722846\n",
        "\t\tRecall: 0.962075848303\n",
        "\t\tF1: 0.931400966184\n",
        "\t\tSupport: 501\n",
        "completed run with N=3700:"
       ]
      },
      {
       "output_type": "stream",
       "stream": "stdout",
       "text": [
        "\n",
        "\tActive results:\n",
        "\t\tN: 3700\n",
        "\t\tPrecision: 0.950884086444\n",
        "\t\tRecall: 0.966067864271\n",
        "\t\tF1: 0.958415841584\n",
        "\t\tSupport: 501\n",
        "\tPassive results:\n",
        "\t\tN: 3700\n",
        "\t\tPrecision: 0.904315196998\n",
        "\t\tRecall: 0.962075848303\n",
        "\t\tF1: 0.932301740812\n",
        "\t\tSupport: 501\n",
        "completed run with N=3725:"
       ]
      },
      {
       "output_type": "stream",
       "stream": "stdout",
       "text": [
        "\n",
        "\tActive results:\n",
        "\t\tN: 3725\n",
        "\t\tPrecision: 0.950787401575\n",
        "\t\tRecall: 0.964071856287\n",
        "\t\tF1: 0.957383548067\n",
        "\t\tSupport: 501\n",
        "\tPassive results:\n",
        "\t\tN: 3725\n",
        "\t\tPrecision: 0.902621722846\n",
        "\t\tRecall: 0.962075848303\n",
        "\t\tF1: 0.931400966184\n",
        "\t\tSupport: 501\n",
        "completed run with N=3750:"
       ]
      },
      {
       "output_type": "stream",
       "stream": "stdout",
       "text": [
        "\n",
        "\tActive results:\n",
        "\t\tN: 3750\n",
        "\t\tPrecision: 0.94695481336\n",
        "\t\tRecall: 0.962075848303\n",
        "\t\tF1: 0.954455445545\n",
        "\t\tSupport: 501\n",
        "\tPassive results:\n",
        "\t\tN: 3750\n",
        "\t\tPrecision: 0.902621722846\n",
        "\t\tRecall: 0.962075848303\n",
        "\t\tF1: 0.931400966184\n",
        "\t\tSupport: 501\n",
        "completed run with N=3775:"
       ]
      },
      {
       "output_type": "stream",
       "stream": "stdout",
       "text": [
        "\n",
        "\tActive results:\n",
        "\t\tN: 3775\n",
        "\t\tPrecision: 0.948717948718\n",
        "\t\tRecall: 0.960079840319\n",
        "\t\tF1: 0.954365079365\n",
        "\t\tSupport: 501\n",
        "\tPassive results:\n",
        "\t\tN: 3775\n",
        "\t\tPrecision: 0.904315196998\n",
        "\t\tRecall: 0.962075848303\n",
        "\t\tF1: 0.932301740812\n",
        "\t\tSupport: 501\n",
        "completed run with N=3800:"
       ]
      },
      {
       "output_type": "stream",
       "stream": "stdout",
       "text": [
        "\n",
        "\tActive results:\n",
        "\t\tN: 3800\n",
        "\t\tPrecision: 0.945098039216\n",
        "\t\tRecall: 0.962075848303\n",
        "\t\tF1: 0.953511374876\n",
        "\t\tSupport: 501\n",
        "\tPassive results:\n",
        "\t\tN: 3800\n",
        "\t\tPrecision: 0.902621722846\n",
        "\t\tRecall: 0.962075848303\n",
        "\t\tF1: 0.931400966184\n",
        "\t\tSupport: 501\n",
        "completed run with N=3825:"
       ]
      },
      {
       "output_type": "stream",
       "stream": "stdout",
       "text": [
        "\n",
        "\tActive results:\n",
        "\t\tN: 3825\n",
        "\t\tPrecision: 0.947058823529\n",
        "\t\tRecall: 0.964071856287\n",
        "\t\tF1: 0.955489614243\n",
        "\t\tSupport: 501\n",
        "\tPassive results:\n",
        "\t\tN: 3825\n",
        "\t\tPrecision: 0.904315196998\n",
        "\t\tRecall: 0.962075848303\n",
        "\t\tF1: 0.932301740812\n",
        "\t\tSupport: 501\n",
        "completed run with N=3850:"
       ]
      },
      {
       "output_type": "stream",
       "stream": "stdout",
       "text": [
        "\n",
        "\tActive results:\n",
        "\t\tN: 3850\n",
        "\t\tPrecision: 0.94695481336\n",
        "\t\tRecall: 0.962075848303\n",
        "\t\tF1: 0.954455445545\n",
        "\t\tSupport: 501\n",
        "\tPassive results:\n",
        "\t\tN: 3850\n",
        "\t\tPrecision: 0.902621722846\n",
        "\t\tRecall: 0.962075848303\n",
        "\t\tF1: 0.931400966184\n",
        "\t\tSupport: 501\n",
        "completed run with N=3875:"
       ]
      },
      {
       "output_type": "stream",
       "stream": "stdout",
       "text": [
        "\n",
        "\tActive results:\n",
        "\t\tN: 3875\n",
        "\t\tPrecision: 0.946850393701\n",
        "\t\tRecall: 0.960079840319\n",
        "\t\tF1: 0.953419226957\n",
        "\t\tSupport: 501\n",
        "\tPassive results:\n",
        "\t\tN: 3875\n",
        "\t\tPrecision: 0.902621722846\n",
        "\t\tRecall: 0.962075848303\n",
        "\t\tF1: 0.931400966184\n",
        "\t\tSupport: 501\n",
        "completed run with N=3900:"
       ]
      },
      {
       "output_type": "stream",
       "stream": "stdout",
       "text": [
        "\n",
        "\tActive results:\n",
        "\t\tN: 3900\n",
        "\t\tPrecision: 0.944990176817\n",
        "\t\tRecall: 0.960079840319\n",
        "\t\tF1: 0.952475247525\n",
        "\t\tSupport: 501\n",
        "\tPassive results:\n",
        "\t\tN: 3900\n",
        "\t\tPrecision: 0.902621722846\n",
        "\t\tRecall: 0.962075848303\n",
        "\t\tF1: 0.931400966184\n",
        "\t\tSupport: 501\n",
        "completed run with N=3925:"
       ]
      },
      {
       "output_type": "stream",
       "stream": "stdout",
       "text": [
        "\n",
        "\tActive results:\n",
        "\t\tN: 3925\n",
        "\t\tPrecision: 0.945098039216\n",
        "\t\tRecall: 0.962075848303\n",
        "\t\tF1: 0.953511374876\n",
        "\t\tSupport: 501\n",
        "\tPassive results:\n",
        "\t\tN: 3925\n",
        "\t\tPrecision: 0.902621722846\n",
        "\t\tRecall: 0.962075848303\n",
        "\t\tF1: 0.931400966184\n",
        "\t\tSupport: 501\n",
        "completed run with N=3950:"
       ]
      },
      {
       "output_type": "stream",
       "stream": "stdout",
       "text": [
        "\n",
        "\tActive results:\n",
        "\t\tN: 3950\n",
        "\t\tPrecision: 0.946850393701\n",
        "\t\tRecall: 0.960079840319\n",
        "\t\tF1: 0.953419226957\n",
        "\t\tSupport: 501\n",
        "\tPassive results:\n",
        "\t\tN: 3950\n",
        "\t\tPrecision: 0.900934579439\n",
        "\t\tRecall: 0.962075848303\n",
        "\t\tF1: 0.930501930502\n",
        "\t\tSupport: 501\n",
        "completed run with N=3975:"
       ]
      },
      {
       "output_type": "stream",
       "stream": "stdout",
       "text": [
        "\n",
        "\tActive results:\n",
        "\t\tN: 3975\n",
        "\t\tPrecision: 0.948818897638\n",
        "\t\tRecall: 0.962075848303\n",
        "\t\tF1: 0.955401387512\n",
        "\t\tSupport: 501\n",
        "\tPassive results:\n",
        "\t\tN: 3975\n",
        "\t\tPrecision: 0.900934579439\n",
        "\t\tRecall: 0.962075848303\n",
        "\t\tF1: 0.930501930502\n",
        "\t\tSupport: 501\n",
        "completed run with N=4000:"
       ]
      },
      {
       "output_type": "stream",
       "stream": "stdout",
       "text": [
        "\n",
        "\tActive results:\n",
        "\t\tN: 4000\n",
        "\t\tPrecision: 0.94695481336\n",
        "\t\tRecall: 0.962075848303\n",
        "\t\tF1: 0.954455445545\n",
        "\t\tSupport: 501\n",
        "\tPassive results:\n",
        "\t\tN: 4000\n",
        "\t\tPrecision: 0.899065420561\n",
        "\t\tRecall: 0.960079840319\n",
        "\t\tF1: 0.928571428571\n",
        "\t\tSupport: 501\n",
        "completed run with N=4025:"
       ]
      },
      {
       "output_type": "stream",
       "stream": "stdout",
       "text": [
        "\n",
        "\tActive results:\n",
        "\t\tN: 4025\n",
        "\t\tPrecision: 0.944990176817\n",
        "\t\tRecall: 0.960079840319\n",
        "\t\tF1: 0.952475247525\n",
        "\t\tSupport: 501\n",
        "\tPassive results:\n",
        "\t\tN: 4025\n",
        "\t\tPrecision: 0.899253731343\n",
        "\t\tRecall: 0.962075848303\n",
        "\t\tF1: 0.929604628737\n",
        "\t\tSupport: 501\n",
        "completed run with N=4050:"
       ]
      },
      {
       "output_type": "stream",
       "stream": "stdout",
       "text": [
        "\n",
        "\tActive results:\n",
        "\t\tN: 4050\n",
        "\t\tPrecision: 0.944990176817\n",
        "\t\tRecall: 0.960079840319\n",
        "\t\tF1: 0.952475247525\n",
        "\t\tSupport: 501\n",
        "\tPassive results:\n",
        "\t\tN: 4050\n",
        "\t\tPrecision: 0.899441340782\n",
        "\t\tRecall: 0.964071856287\n",
        "\t\tF1: 0.93063583815\n",
        "\t\tSupport: 501\n",
        "completed run with N=4075:"
       ]
      },
      {
       "output_type": "stream",
       "stream": "stdout",
       "text": [
        "\n",
        "\tActive results:\n",
        "\t\tN: 4075\n",
        "\t\tPrecision: 0.944990176817\n",
        "\t\tRecall: 0.960079840319\n",
        "\t\tF1: 0.952475247525\n",
        "\t\tSupport: 501\n",
        "\tPassive results:\n",
        "\t\tN: 4075\n",
        "\t\tPrecision: 0.899441340782\n",
        "\t\tRecall: 0.964071856287\n",
        "\t\tF1: 0.93063583815\n",
        "\t\tSupport: 501\n",
        "completed run with N=4100:"
       ]
      },
      {
       "output_type": "stream",
       "stream": "stdout",
       "text": [
        "\n",
        "\tActive results:\n",
        "\t\tN: 4100\n",
        "\t\tPrecision: 0.944990176817\n",
        "\t\tRecall: 0.960079840319\n",
        "\t\tF1: 0.952475247525\n",
        "\t\tSupport: 501\n",
        "\tPassive results:\n",
        "\t\tN: 4100\n",
        "\t\tPrecision: 0.899253731343\n",
        "\t\tRecall: 0.962075848303\n",
        "\t\tF1: 0.929604628737\n",
        "\t\tSupport: 501\n",
        "completed run with N=4125:"
       ]
      },
      {
       "output_type": "stream",
       "stream": "stdout",
       "text": [
        "\n",
        "\tActive results:\n",
        "\t\tN: 4125\n",
        "\t\tPrecision: 0.944990176817\n",
        "\t\tRecall: 0.960079840319\n",
        "\t\tF1: 0.952475247525\n",
        "\t\tSupport: 501\n",
        "\tPassive results:\n",
        "\t\tN: 4125\n",
        "\t\tPrecision: 0.897579143389\n",
        "\t\tRecall: 0.962075848303\n",
        "\t\tF1: 0.928709055877\n",
        "\t\tSupport: 501\n",
        "completed run with N=4150:"
       ]
      },
      {
       "output_type": "stream",
       "stream": "stdout",
       "text": [
        "\n",
        "\tActive results:\n",
        "\t\tN: 4150\n",
        "\t\tPrecision: 0.944990176817\n",
        "\t\tRecall: 0.960079840319\n",
        "\t\tF1: 0.952475247525\n",
        "\t\tSupport: 501\n",
        "\tPassive results:\n",
        "\t\tN: 4150\n",
        "\t\tPrecision: 0.895910780669\n",
        "\t\tRecall: 0.962075848303\n",
        "\t\tF1: 0.92781520693\n",
        "\t\tSupport: 501\n",
        "completed run with N=4175:"
       ]
      },
      {
       "output_type": "stream",
       "stream": "stdout",
       "text": [
        "\n",
        "\tActive results:\n",
        "\t\tN: 4175\n",
        "\t\tPrecision: 0.946850393701\n",
        "\t\tRecall: 0.960079840319\n",
        "\t\tF1: 0.953419226957\n",
        "\t\tSupport: 501\n",
        "\tPassive results:\n",
        "\t\tN: 4175\n",
        "\t\tPrecision: 0.894248608534\n",
        "\t\tRecall: 0.962075848303\n",
        "\t\tF1: 0.926923076923\n",
        "\t\tSupport: 501\n",
        "completed run with N=4200:"
       ]
      },
      {
       "output_type": "stream",
       "stream": "stdout",
       "text": [
        "\n",
        "\tActive results:\n",
        "\t\tN: 4200\n",
        "\t\tPrecision: 0.946850393701\n",
        "\t\tRecall: 0.960079840319\n",
        "\t\tF1: 0.953419226957\n",
        "\t\tSupport: 501\n",
        "\tPassive results:\n",
        "\t\tN: 4200\n",
        "\t\tPrecision: 0.895910780669\n",
        "\t\tRecall: 0.962075848303\n",
        "\t\tF1: 0.92781520693\n",
        "\t\tSupport: 501\n",
        "completed run with N=4225:"
       ]
      },
      {
       "output_type": "stream",
       "stream": "stdout",
       "text": [
        "\n",
        "\tActive results:\n",
        "\t\tN: 4225\n",
        "\t\tPrecision: 0.944990176817\n",
        "\t\tRecall: 0.960079840319\n",
        "\t\tF1: 0.952475247525\n",
        "\t\tSupport: 501\n",
        "\tPassive results:\n",
        "\t\tN: 4225\n",
        "\t\tPrecision: 0.897959183673\n",
        "\t\tRecall: 0.966067864271\n",
        "\t\tF1: 0.930769230769\n",
        "\t\tSupport: 501\n",
        "completed run with N=4250:"
       ]
      },
      {
       "output_type": "stream",
       "stream": "stdout",
       "text": [
        "\n",
        "\tActive results:\n",
        "\t\tN: 4250\n",
        "\t\tPrecision: 0.944990176817\n",
        "\t\tRecall: 0.960079840319\n",
        "\t\tF1: 0.952475247525\n",
        "\t\tSupport: 501\n",
        "\tPassive results:\n",
        "\t\tN: 4250\n",
        "\t\tPrecision: 0.897959183673\n",
        "\t\tRecall: 0.966067864271\n",
        "\t\tF1: 0.930769230769\n",
        "\t\tSupport: 501\n",
        "completed run with N=4275:"
       ]
      },
      {
       "output_type": "stream",
       "stream": "stdout",
       "text": [
        "\n",
        "\tActive results:\n",
        "\t\tN: 4275\n",
        "\t\tPrecision: 0.944990176817\n",
        "\t\tRecall: 0.960079840319\n",
        "\t\tF1: 0.952475247525\n",
        "\t\tSupport: 501\n",
        "\tPassive results:\n",
        "\t\tN: 4275\n",
        "\t\tPrecision: 0.896296296296\n",
        "\t\tRecall: 0.966067864271\n",
        "\t\tF1: 0.929875120077\n",
        "\t\tSupport: 501\n",
        "completed run with N=4300:"
       ]
      },
      {
       "output_type": "stream",
       "stream": "stdout",
       "text": [
        "\n",
        "\tActive results:\n",
        "\t\tN: 4300\n",
        "\t\tPrecision: 0.944990176817\n",
        "\t\tRecall: 0.960079840319\n",
        "\t\tF1: 0.952475247525\n",
        "\t\tSupport: 501\n",
        "\tPassive results:\n",
        "\t\tN: 4300\n",
        "\t\tPrecision: 0.897959183673\n",
        "\t\tRecall: 0.966067864271\n",
        "\t\tF1: 0.930769230769\n",
        "\t\tSupport: 501\n",
        "completed run with N=4325:"
       ]
      },
      {
       "output_type": "stream",
       "stream": "stdout",
       "text": [
        "\n",
        "\tActive results:\n",
        "\t\tN: 4325\n",
        "\t\tPrecision: 0.945098039216\n",
        "\t\tRecall: 0.962075848303\n",
        "\t\tF1: 0.953511374876\n",
        "\t\tSupport: 501\n",
        "\tPassive results:\n",
        "\t\tN: 4325\n",
        "\t\tPrecision: 0.897959183673\n",
        "\t\tRecall: 0.966067864271\n",
        "\t\tF1: 0.930769230769\n",
        "\t\tSupport: 501\n",
        "completed run with N=4350:"
       ]
      },
      {
       "output_type": "stream",
       "stream": "stdout",
       "text": [
        "\n",
        "\tActive results:\n",
        "\t\tN: 4350\n",
        "\t\tPrecision: 0.945098039216\n",
        "\t\tRecall: 0.962075848303\n",
        "\t\tF1: 0.953511374876\n",
        "\t\tSupport: 501\n",
        "\tPassive results:\n",
        "\t\tN: 4350\n",
        "\t\tPrecision: 0.896296296296\n",
        "\t\tRecall: 0.966067864271\n",
        "\t\tF1: 0.929875120077\n",
        "\t\tSupport: 501\n",
        "completed run with N=4375:"
       ]
      },
      {
       "output_type": "stream",
       "stream": "stdout",
       "text": [
        "\n",
        "\tActive results:\n",
        "\t\tN: 4375\n",
        "\t\tPrecision: 0.945098039216\n",
        "\t\tRecall: 0.962075848303\n",
        "\t\tF1: 0.953511374876\n",
        "\t\tSupport: 501\n",
        "\tPassive results:\n",
        "\t\tN: 4375\n",
        "\t\tPrecision: 0.896296296296\n",
        "\t\tRecall: 0.966067864271\n",
        "\t\tF1: 0.929875120077\n",
        "\t\tSupport: 501\n",
        "completed run with N=4400:"
       ]
      },
      {
       "output_type": "stream",
       "stream": "stdout",
       "text": [
        "\n",
        "\tActive results:\n",
        "\t\tN: 4400\n",
        "\t\tPrecision: 0.945098039216\n",
        "\t\tRecall: 0.962075848303\n",
        "\t\tF1: 0.953511374876\n",
        "\t\tSupport: 501\n",
        "\tPassive results:\n",
        "\t\tN: 4400\n",
        "\t\tPrecision: 0.896296296296\n",
        "\t\tRecall: 0.966067864271\n",
        "\t\tF1: 0.929875120077\n",
        "\t\tSupport: 501\n",
        "completed run with N=4425:"
       ]
      },
      {
       "output_type": "stream",
       "stream": "stdout",
       "text": [
        "\n",
        "\tActive results:\n",
        "\t\tN: 4425\n",
        "\t\tPrecision: 0.94695481336\n",
        "\t\tRecall: 0.962075848303\n",
        "\t\tF1: 0.954455445545\n",
        "\t\tSupport: 501\n",
        "\tPassive results:\n",
        "\t\tN: 4425\n",
        "\t\tPrecision: 0.894639556377\n",
        "\t\tRecall: 0.966067864271\n",
        "\t\tF1: 0.928982725528\n",
        "\t\tSupport: 501\n",
        "completed run with N=4450:"
       ]
      },
      {
       "output_type": "stream",
       "stream": "stdout",
       "text": [
        "\n",
        "\tActive results:\n",
        "\t\tN: 4450\n",
        "\t\tPrecision: 0.947058823529\n",
        "\t\tRecall: 0.964071856287\n",
        "\t\tF1: 0.955489614243\n",
        "\t\tSupport: 501\n",
        "\tPassive results:\n",
        "\t\tN: 4450\n",
        "\t\tPrecision: 0.894639556377\n",
        "\t\tRecall: 0.966067864271\n",
        "\t\tF1: 0.928982725528\n",
        "\t\tSupport: 501\n",
        "completed run with N=4475:"
       ]
      },
      {
       "output_type": "stream",
       "stream": "stdout",
       "text": [
        "\n",
        "\tActive results:\n",
        "\t\tN: 4475\n",
        "\t\tPrecision: 0.947058823529\n",
        "\t\tRecall: 0.964071856287\n",
        "\t\tF1: 0.955489614243\n",
        "\t\tSupport: 501\n",
        "\tPassive results:\n",
        "\t\tN: 4475\n",
        "\t\tPrecision: 0.896296296296\n",
        "\t\tRecall: 0.966067864271\n",
        "\t\tF1: 0.929875120077\n",
        "\t\tSupport: 501\n",
        "completed run with N=4500:"
       ]
      },
      {
       "output_type": "stream",
       "stream": "stdout",
       "text": [
        "\n",
        "\tActive results:\n",
        "\t\tN: 4500\n",
        "\t\tPrecision: 0.945205479452\n",
        "\t\tRecall: 0.964071856287\n",
        "\t\tF1: 0.954545454545\n",
        "\t\tSupport: 501\n",
        "\tPassive results:\n",
        "\t\tN: 4500\n",
        "\t\tPrecision: 0.897959183673\n",
        "\t\tRecall: 0.966067864271\n",
        "\t\tF1: 0.930769230769\n",
        "\t\tSupport: 501\n",
        "completed run with N=4525:"
       ]
      },
      {
       "output_type": "stream",
       "stream": "stdout",
       "text": [
        "\n",
        "\tActive results:\n",
        "\t\tN: 4525\n",
        "\t\tPrecision: 0.947058823529\n",
        "\t\tRecall: 0.964071856287\n",
        "\t\tF1: 0.955489614243\n",
        "\t\tSupport: 501\n",
        "\tPassive results:\n",
        "\t\tN: 4525\n",
        "\t\tPrecision: 0.896296296296\n",
        "\t\tRecall: 0.966067864271\n",
        "\t\tF1: 0.929875120077\n",
        "\t\tSupport: 501\n",
        "completed run with N=4550:"
       ]
      },
      {
       "output_type": "stream",
       "stream": "stdout",
       "text": [
        "\n",
        "\tActive results:\n",
        "\t\tN: 4550\n",
        "\t\tPrecision: 0.947058823529\n",
        "\t\tRecall: 0.964071856287\n",
        "\t\tF1: 0.955489614243\n",
        "\t\tSupport: 501\n",
        "\tPassive results:\n",
        "\t\tN: 4550\n",
        "\t\tPrecision: 0.896296296296\n",
        "\t\tRecall: 0.966067864271\n",
        "\t\tF1: 0.929875120077\n",
        "\t\tSupport: 501\n",
        "completed run with N=4575:"
       ]
      },
      {
       "output_type": "stream",
       "stream": "stdout",
       "text": [
        "\n",
        "\tActive results:\n",
        "\t\tN: 4575\n",
        "\t\tPrecision: 0.948919449902\n",
        "\t\tRecall: 0.964071856287\n",
        "\t\tF1: 0.956435643564\n",
        "\t\tSupport: 501\n",
        "\tPassive results:\n",
        "\t\tN: 4575\n",
        "\t\tPrecision: 0.896296296296\n",
        "\t\tRecall: 0.966067864271\n",
        "\t\tF1: 0.929875120077\n",
        "\t\tSupport: 501\n",
        "completed run with N=4600:"
       ]
      },
      {
       "output_type": "stream",
       "stream": "stdout",
       "text": [
        "\n",
        "\tActive results:\n",
        "\t\tN: 4600\n",
        "\t\tPrecision: 0.947058823529\n",
        "\t\tRecall: 0.964071856287\n",
        "\t\tF1: 0.955489614243\n",
        "\t\tSupport: 501\n",
        "\tPassive results:\n",
        "\t\tN: 4600\n",
        "\t\tPrecision: 0.896296296296\n",
        "\t\tRecall: 0.966067864271\n",
        "\t\tF1: 0.929875120077\n",
        "\t\tSupport: 501\n",
        "completed run with N=4625:"
       ]
      },
      {
       "output_type": "stream",
       "stream": "stdout",
       "text": [
        "\n",
        "\tActive results:\n",
        "\t\tN: 4625\n",
        "\t\tPrecision: 0.947162426614\n",
        "\t\tRecall: 0.966067864271\n",
        "\t\tF1: 0.95652173913\n",
        "\t\tSupport: 501\n",
        "\tPassive results:\n",
        "\t\tN: 4625\n",
        "\t\tPrecision: 0.896296296296\n",
        "\t\tRecall: 0.966067864271\n",
        "\t\tF1: 0.929875120077\n",
        "\t\tSupport: 501\n",
        "completed run with N=4650:"
       ]
      },
      {
       "output_type": "stream",
       "stream": "stdout",
       "text": [
        "\n",
        "\tActive results:\n",
        "\t\tN: 4650\n",
        "\t\tPrecision: 0.947162426614\n",
        "\t\tRecall: 0.966067864271\n",
        "\t\tF1: 0.95652173913\n",
        "\t\tSupport: 501\n",
        "\tPassive results:\n",
        "\t\tN: 4650\n",
        "\t\tPrecision: 0.894639556377\n",
        "\t\tRecall: 0.966067864271\n",
        "\t\tF1: 0.928982725528\n",
        "\t\tSupport: 501\n",
        "completed run with N=4675:"
       ]
      },
      {
       "output_type": "stream",
       "stream": "stdout",
       "text": [
        "\n",
        "\tActive results:\n",
        "\t\tN: 4675\n",
        "\t\tPrecision: 0.947162426614\n",
        "\t\tRecall: 0.966067864271\n",
        "\t\tF1: 0.95652173913\n",
        "\t\tSupport: 501\n",
        "\tPassive results:\n",
        "\t\tN: 4675\n",
        "\t\tPrecision: 0.894639556377\n",
        "\t\tRecall: 0.966067864271\n",
        "\t\tF1: 0.928982725528\n",
        "\t\tSupport: 501\n",
        "completed run with N=4700:"
       ]
      },
      {
       "output_type": "stream",
       "stream": "stdout",
       "text": [
        "\n",
        "\tActive results:\n",
        "\t\tN: 4700\n",
        "\t\tPrecision: 0.947162426614\n",
        "\t\tRecall: 0.966067864271\n",
        "\t\tF1: 0.95652173913\n",
        "\t\tSupport: 501\n",
        "\tPassive results:\n",
        "\t\tN: 4700\n",
        "\t\tPrecision: 0.896296296296\n",
        "\t\tRecall: 0.966067864271\n",
        "\t\tF1: 0.929875120077\n",
        "\t\tSupport: 501\n",
        "completed run with N=4725:"
       ]
      },
      {
       "output_type": "stream",
       "stream": "stdout",
       "text": [
        "\n",
        "\tActive results:\n",
        "\t\tN: 4725\n",
        "\t\tPrecision: 0.949019607843\n",
        "\t\tRecall: 0.966067864271\n",
        "\t\tF1: 0.95746785361\n",
        "\t\tSupport: 501\n",
        "\tPassive results:\n",
        "\t\tN: 4725\n",
        "\t\tPrecision: 0.894639556377\n",
        "\t\tRecall: 0.966067864271\n",
        "\t\tF1: 0.928982725528\n",
        "\t\tSupport: 501\n",
        "completed run with N=4750:"
       ]
      },
      {
       "output_type": "stream",
       "stream": "stdout",
       "text": [
        "\n",
        "\tActive results:\n",
        "\t\tN: 4750\n",
        "\t\tPrecision: 0.947162426614\n",
        "\t\tRecall: 0.966067864271\n",
        "\t\tF1: 0.95652173913\n",
        "\t\tSupport: 501\n",
        "\tPassive results:\n",
        "\t\tN: 4750\n",
        "\t\tPrecision: 0.891344383057\n",
        "\t\tRecall: 0.966067864271\n",
        "\t\tF1: 0.927203065134\n",
        "\t\tSupport: 501\n",
        "completed run with N=4775:"
       ]
      },
      {
       "output_type": "stream",
       "stream": "stdout",
       "text": [
        "\n",
        "\tActive results:\n",
        "\t\tN: 4775\n",
        "\t\tPrecision: 0.947162426614\n",
        "\t\tRecall: 0.966067864271\n",
        "\t\tF1: 0.95652173913\n",
        "\t\tSupport: 501\n",
        "\tPassive results:\n",
        "\t\tN: 4775\n",
        "\t\tPrecision: 0.889705882353\n",
        "\t\tRecall: 0.966067864271\n",
        "\t\tF1: 0.926315789474\n",
        "\t\tSupport: 501\n",
        "completed run with N=4800:"
       ]
      },
      {
       "output_type": "stream",
       "stream": "stdout",
       "text": [
        "\n",
        "\tActive results:\n",
        "\t\tN: 4800\n",
        "\t\tPrecision: 0.943469785575\n",
        "\t\tRecall: 0.966067864271\n",
        "\t\tF1: 0.954635108481\n",
        "\t\tSupport: 501\n",
        "\tPassive results:\n",
        "\t\tN: 4800\n",
        "\t\tPrecision: 0.891544117647\n",
        "\t\tRecall: 0.968063872255\n",
        "\t\tF1: 0.928229665072\n",
        "\t\tSupport: 501\n",
        "completed run with N=4825:"
       ]
      },
      {
       "output_type": "stream",
       "stream": "stdout",
       "text": [
        "\n",
        "\tActive results:\n",
        "\t\tN: 4825\n",
        "\t\tPrecision: 0.943469785575\n",
        "\t\tRecall: 0.966067864271\n",
        "\t\tF1: 0.954635108481\n",
        "\t\tSupport: 501\n",
        "\tPassive results:\n",
        "\t\tN: 4825\n",
        "\t\tPrecision: 0.889908256881\n",
        "\t\tRecall: 0.968063872255\n",
        "\t\tF1: 0.927342256214\n",
        "\t\tSupport: 501\n",
        "completed run with N=4850:"
       ]
      },
      {
       "output_type": "stream",
       "stream": "stdout",
       "text": [
        "\n",
        "\tActive results:\n",
        "\t\tN: 4850\n",
        "\t\tPrecision: 0.943469785575\n",
        "\t\tRecall: 0.966067864271\n",
        "\t\tF1: 0.954635108481\n",
        "\t\tSupport: 501\n",
        "\tPassive results:\n",
        "\t\tN: 4850\n",
        "\t\tPrecision: 0.889908256881\n",
        "\t\tRecall: 0.968063872255\n",
        "\t\tF1: 0.927342256214\n",
        "\t\tSupport: 501\n",
        "completed run with N=4875:"
       ]
      },
      {
       "output_type": "stream",
       "stream": "stdout",
       "text": [
        "\n",
        "\tActive results:\n",
        "\t\tN: 4875\n",
        "\t\tPrecision: 0.943469785575\n",
        "\t\tRecall: 0.966067864271\n",
        "\t\tF1: 0.954635108481\n",
        "\t\tSupport: 501\n",
        "\tPassive results:\n",
        "\t\tN: 4875\n",
        "\t\tPrecision: 0.886654478976\n",
        "\t\tRecall: 0.968063872255\n",
        "\t\tF1: 0.925572519084\n",
        "\t\tSupport: 501\n",
        "completed run with N=4900:"
       ]
      },
      {
       "output_type": "stream",
       "stream": "stdout",
       "text": [
        "\n",
        "\tActive results:\n",
        "\t\tN: 4900\n",
        "\t\tPrecision: 0.939805825243\n",
        "\t\tRecall: 0.966067864271\n",
        "\t\tF1: 0.952755905512\n",
        "\t\tSupport: 501\n",
        "\tPassive results:\n",
        "\t\tN: 4900\n",
        "\t\tPrecision: 0.886654478976\n",
        "\t\tRecall: 0.968063872255\n",
        "\t\tF1: 0.925572519084\n",
        "\t\tSupport: 501\n",
        "completed run with N=4925:"
       ]
      },
      {
       "output_type": "stream",
       "stream": "stdout",
       "text": [
        "\n",
        "\tActive results:\n",
        "\t\tN: 4925\n",
        "\t\tPrecision: 0.941520467836\n",
        "\t\tRecall: 0.964071856287\n",
        "\t\tF1: 0.952662721893\n",
        "\t\tSupport: 501\n",
        "\tPassive results:\n",
        "\t\tN: 4925\n",
        "\t\tPrecision: 0.886654478976\n",
        "\t\tRecall: 0.968063872255\n",
        "\t\tF1: 0.925572519084\n",
        "\t\tSupport: 501\n",
        "completed run with N=4950:"
       ]
      },
      {
       "output_type": "stream",
       "stream": "stdout",
       "text": [
        "\n",
        "\tActive results:\n",
        "\t\tN: 4950\n",
        "\t\tPrecision: 0.941520467836\n",
        "\t\tRecall: 0.964071856287\n",
        "\t\tF1: 0.952662721893\n",
        "\t\tSupport: 501\n",
        "\tPassive results:\n",
        "\t\tN: 4950\n",
        "\t\tPrecision: 0.888278388278\n",
        "\t\tRecall: 0.968063872255\n",
        "\t\tF1: 0.926456542502\n",
        "\t\tSupport: 501\n",
        "completed run with N=4975:"
       ]
      },
      {
       "output_type": "stream",
       "stream": "stdout",
       "text": [
        "\n",
        "\tActive results:\n",
        "\t\tN: 4975\n",
        "\t\tPrecision: 0.941520467836\n",
        "\t\tRecall: 0.964071856287\n",
        "\t\tF1: 0.952662721893\n",
        "\t\tSupport: 501\n",
        "\tPassive results:\n",
        "\t\tN: 4975\n",
        "\t\tPrecision: 0.888278388278\n",
        "\t\tRecall: 0.968063872255\n",
        "\t\tF1: 0.926456542502\n",
        "\t\tSupport: 501\n",
        "completed run with N=5000:"
       ]
      },
      {
       "output_type": "stream",
       "stream": "stdout",
       "text": [
        "\n",
        "\tActive results:\n",
        "\t\tN: 5000\n",
        "\t\tPrecision: 0.941520467836\n",
        "\t\tRecall: 0.964071856287\n",
        "\t\tF1: 0.952662721893\n",
        "\t\tSupport: 501\n",
        "\tPassive results:\n",
        "\t\tN: 5000\n",
        "\t\tPrecision: 0.88503649635\n",
        "\t\tRecall: 0.968063872255\n",
        "\t\tF1: 0.924690181125\n",
        "\t\tSupport: 501\n",
        "completed run with N=5025:"
       ]
      },
      {
       "output_type": "stream",
       "stream": "stdout",
       "text": [
        "\n",
        "\tActive results:\n",
        "\t\tN: 5025\n",
        "\t\tPrecision: 0.939688715953\n",
        "\t\tRecall: 0.964071856287\n",
        "\t\tF1: 0.951724137931\n",
        "\t\tSupport: 501\n",
        "\tPassive results:\n",
        "\t\tN: 5025\n",
        "\t\tPrecision: 0.886654478976\n",
        "\t\tRecall: 0.968063872255\n",
        "\t\tF1: 0.925572519084\n",
        "\t\tSupport: 501\n",
        "completed run with N=5050:"
       ]
      },
      {
       "output_type": "stream",
       "stream": "stdout",
       "text": [
        "\n",
        "\tActive results:\n",
        "\t\tN: 5050\n",
        "\t\tPrecision: 0.941520467836\n",
        "\t\tRecall: 0.964071856287\n",
        "\t\tF1: 0.952662721893\n",
        "\t\tSupport: 501\n",
        "\tPassive results:\n",
        "\t\tN: 5050\n",
        "\t\tPrecision: 0.886654478976\n",
        "\t\tRecall: 0.968063872255\n",
        "\t\tF1: 0.925572519084\n",
        "\t\tSupport: 501\n",
        "completed run with N=5075:"
       ]
      },
      {
       "output_type": "stream",
       "stream": "stdout",
       "text": [
        "\n",
        "\tActive results:\n",
        "\t\tN: 5075\n",
        "\t\tPrecision: 0.939688715953\n",
        "\t\tRecall: 0.964071856287\n",
        "\t\tF1: 0.951724137931\n",
        "\t\tSupport: 501\n",
        "\tPassive results:\n",
        "\t\tN: 5075\n",
        "\t\tPrecision: 0.886654478976\n",
        "\t\tRecall: 0.968063872255\n",
        "\t\tF1: 0.925572519084\n",
        "\t\tSupport: 501\n",
        "completed run with N=5100:"
       ]
      },
      {
       "output_type": "stream",
       "stream": "stdout",
       "text": [
        "\n",
        "\tActive results:\n",
        "\t\tN: 5100\n",
        "\t\tPrecision: 0.939688715953\n",
        "\t\tRecall: 0.964071856287\n",
        "\t\tF1: 0.951724137931\n",
        "\t\tSupport: 501\n",
        "\tPassive results:\n",
        "\t\tN: 5100\n",
        "\t\tPrecision: 0.886654478976\n",
        "\t\tRecall: 0.968063872255\n",
        "\t\tF1: 0.925572519084\n",
        "\t\tSupport: 501\n",
        "completed run with N=5125:"
       ]
      },
      {
       "output_type": "stream",
       "stream": "stdout",
       "text": [
        "\n",
        "\tActive results:\n",
        "\t\tN: 5125\n",
        "\t\tPrecision: 0.939805825243\n",
        "\t\tRecall: 0.966067864271\n",
        "\t\tF1: 0.952755905512\n",
        "\t\tSupport: 501\n",
        "\tPassive results:\n",
        "\t\tN: 5125\n",
        "\t\tPrecision: 0.886654478976\n",
        "\t\tRecall: 0.968063872255\n",
        "\t\tF1: 0.925572519084\n",
        "\t\tSupport: 501\n",
        "completed run with N=5150:"
       ]
      },
      {
       "output_type": "stream",
       "stream": "stdout",
       "text": [
        "\n",
        "\tActive results:\n",
        "\t\tN: 5150\n",
        "\t\tPrecision: 0.941634241245\n",
        "\t\tRecall: 0.966067864271\n",
        "\t\tF1: 0.953694581281\n",
        "\t\tSupport: 501\n",
        "\tPassive results:\n",
        "\t\tN: 5150\n",
        "\t\tPrecision: 0.888278388278\n",
        "\t\tRecall: 0.968063872255\n",
        "\t\tF1: 0.926456542502\n",
        "\t\tSupport: 501\n",
        "completed run with N=5175:"
       ]
      },
      {
       "output_type": "stream",
       "stream": "stdout",
       "text": [
        "\n",
        "\tActive results:\n",
        "\t\tN: 5175\n",
        "\t\tPrecision: 0.941634241245\n",
        "\t\tRecall: 0.966067864271\n",
        "\t\tF1: 0.953694581281\n",
        "\t\tSupport: 501\n",
        "\tPassive results:\n",
        "\t\tN: 5175\n",
        "\t\tPrecision: 0.888278388278\n",
        "\t\tRecall: 0.968063872255\n",
        "\t\tF1: 0.926456542502\n",
        "\t\tSupport: 501\n",
        "completed run with N=5200:"
       ]
      },
      {
       "output_type": "stream",
       "stream": "stdout",
       "text": [
        "\n",
        "\tActive results:\n",
        "\t\tN: 5200\n",
        "\t\tPrecision: 0.941634241245\n",
        "\t\tRecall: 0.966067864271\n",
        "\t\tF1: 0.953694581281\n",
        "\t\tSupport: 501\n",
        "\tPassive results:\n",
        "\t\tN: 5200\n",
        "\t\tPrecision: 0.888278388278\n",
        "\t\tRecall: 0.968063872255\n",
        "\t\tF1: 0.926456542502\n",
        "\t\tSupport: 501\n",
        "completed run with N=5225:"
       ]
      },
      {
       "output_type": "stream",
       "stream": "stdout",
       "text": [
        "\n",
        "\tActive results:\n",
        "\t\tN: 5225\n",
        "\t\tPrecision: 0.941634241245\n",
        "\t\tRecall: 0.966067864271\n",
        "\t\tF1: 0.953694581281\n",
        "\t\tSupport: 501\n",
        "\tPassive results:\n",
        "\t\tN: 5225\n",
        "\t\tPrecision: 0.888278388278\n",
        "\t\tRecall: 0.968063872255\n",
        "\t\tF1: 0.926456542502\n",
        "\t\tSupport: 501\n",
        "completed run with N=5250:"
       ]
      },
      {
       "output_type": "stream",
       "stream": "stdout",
       "text": [
        "\n",
        "\tActive results:\n",
        "\t\tN: 5250\n",
        "\t\tPrecision: 0.941634241245\n",
        "\t\tRecall: 0.966067864271\n",
        "\t\tF1: 0.953694581281\n",
        "\t\tSupport: 501\n",
        "\tPassive results:\n",
        "\t\tN: 5250\n",
        "\t\tPrecision: 0.888278388278\n",
        "\t\tRecall: 0.968063872255\n",
        "\t\tF1: 0.926456542502\n",
        "\t\tSupport: 501\n",
        "completed run with N=5275:"
       ]
      },
      {
       "output_type": "stream",
       "stream": "stdout",
       "text": [
        "\n",
        "\tActive results:\n",
        "\t\tN: 5275\n",
        "\t\tPrecision: 0.941520467836\n",
        "\t\tRecall: 0.964071856287\n",
        "\t\tF1: 0.952662721893\n",
        "\t\tSupport: 501\n",
        "\tPassive results:\n",
        "\t\tN: 5275\n",
        "\t\tPrecision: 0.886654478976\n",
        "\t\tRecall: 0.968063872255\n",
        "\t\tF1: 0.925572519084\n",
        "\t\tSupport: 501\n",
        "completed run with N=5300:"
       ]
      },
      {
       "output_type": "stream",
       "stream": "stdout",
       "text": [
        "\n",
        "\tActive results:\n",
        "\t\tN: 5300\n",
        "\t\tPrecision: 0.94140625\n",
        "\t\tRecall: 0.962075848303\n",
        "\t\tF1: 0.951628825271\n",
        "\t\tSupport: 501\n",
        "\tPassive results:\n",
        "\t\tN: 5300\n",
        "\t\tPrecision: 0.886654478976\n",
        "\t\tRecall: 0.968063872255\n",
        "\t\tF1: 0.925572519084\n",
        "\t\tSupport: 501\n",
        "completed run with N=5325:"
       ]
      },
      {
       "output_type": "stream",
       "stream": "stdout",
       "text": [
        "\n",
        "\tActive results:\n",
        "\t\tN: 5325\n",
        "\t\tPrecision: 0.937743190661\n",
        "\t\tRecall: 0.962075848303\n",
        "\t\tF1: 0.949753694581\n",
        "\t\tSupport: 501\n",
        "\tPassive results:\n",
        "\t\tN: 5325\n",
        "\t\tPrecision: 0.888278388278\n",
        "\t\tRecall: 0.968063872255\n",
        "\t\tF1: 0.926456542502\n",
        "\t\tSupport: 501\n",
        "completed run with N=5350:"
       ]
      },
      {
       "output_type": "stream",
       "stream": "stdout",
       "text": [
        "\n",
        "\tActive results:\n",
        "\t\tN: 5350\n",
        "\t\tPrecision: 0.939571150097\n",
        "\t\tRecall: 0.962075848303\n",
        "\t\tF1: 0.950690335306\n",
        "\t\tSupport: 501\n",
        "\tPassive results:\n",
        "\t\tN: 5350\n",
        "\t\tPrecision: 0.888278388278\n",
        "\t\tRecall: 0.968063872255\n",
        "\t\tF1: 0.926456542502\n",
        "\t\tSupport: 501\n",
        "completed run with N=5375:"
       ]
      },
      {
       "output_type": "stream",
       "stream": "stdout",
       "text": [
        "\n",
        "\tActive results:\n",
        "\t\tN: 5375\n",
        "\t\tPrecision: 0.943359375\n",
        "\t\tRecall: 0.964071856287\n",
        "\t\tF1: 0.953603158934\n",
        "\t\tSupport: 501\n",
        "\tPassive results:\n",
        "\t\tN: 5375\n",
        "\t\tPrecision: 0.888482632541\n",
        "\t\tRecall: 0.97005988024\n",
        "\t\tF1: 0.927480916031\n",
        "\t\tSupport: 501\n",
        "completed run with N=5400:"
       ]
      },
      {
       "output_type": "stream",
       "stream": "stdout",
       "text": [
        "\n",
        "\tActive results:\n",
        "\t\tN: 5400\n",
        "\t\tPrecision: 0.94140625\n",
        "\t\tRecall: 0.962075848303\n",
        "\t\tF1: 0.951628825271\n",
        "\t\tSupport: 501\n",
        "\tPassive results:\n",
        "\t\tN: 5400\n",
        "\t\tPrecision: 0.89010989011\n",
        "\t\tRecall: 0.97005988024\n",
        "\t\tF1: 0.928366762178\n",
        "\t\tSupport: 501\n",
        "completed run with N=5425:"
       ]
      },
      {
       "output_type": "stream",
       "stream": "stdout",
       "text": [
        "\n",
        "\tActive results:\n",
        "\t\tN: 5425\n",
        "\t\tPrecision: 0.94324853229\n",
        "\t\tRecall: 0.962075848303\n",
        "\t\tF1: 0.95256916996\n",
        "\t\tSupport: 501\n",
        "\tPassive results:\n",
        "\t\tN: 5425\n",
        "\t\tPrecision: 0.888482632541\n",
        "\t\tRecall: 0.97005988024\n",
        "\t\tF1: 0.927480916031\n",
        "\t\tSupport: 501\n",
        "completed run with N=5450:"
       ]
      },
      {
       "output_type": "stream",
       "stream": "stdout",
       "text": [
        "\n",
        "\tActive results:\n",
        "\t\tN: 5450\n",
        "\t\tPrecision: 0.939571150097\n",
        "\t\tRecall: 0.962075848303\n",
        "\t\tF1: 0.950690335306\n",
        "\t\tSupport: 501\n",
        "\tPassive results:\n",
        "\t\tN: 5450\n",
        "\t\tPrecision: 0.89010989011\n",
        "\t\tRecall: 0.97005988024\n",
        "\t\tF1: 0.928366762178\n",
        "\t\tSupport: 501\n",
        "completed run with N=5475:"
       ]
      },
      {
       "output_type": "stream",
       "stream": "stdout",
       "text": [
        "\n",
        "\tActive results:\n",
        "\t\tN: 5475\n",
        "\t\tPrecision: 0.939688715953\n",
        "\t\tRecall: 0.964071856287\n",
        "\t\tF1: 0.951724137931\n",
        "\t\tSupport: 501\n",
        "\tPassive results:\n",
        "\t\tN: 5475\n",
        "\t\tPrecision: 0.888482632541\n",
        "\t\tRecall: 0.97005988024\n",
        "\t\tF1: 0.927480916031\n",
        "\t\tSupport: 501\n",
        "completed run with N=5500:"
       ]
      },
      {
       "output_type": "stream",
       "stream": "stdout",
       "text": [
        "\n",
        "\tActive results:\n",
        "\t\tN: 5500\n",
        "\t\tPrecision: 0.939571150097\n",
        "\t\tRecall: 0.962075848303\n",
        "\t\tF1: 0.950690335306\n",
        "\t\tSupport: 501\n",
        "\tPassive results:\n",
        "\t\tN: 5500\n",
        "\t\tPrecision: 0.888482632541\n",
        "\t\tRecall: 0.97005988024\n",
        "\t\tF1: 0.927480916031\n",
        "\t\tSupport: 501\n",
        "completed run with N=5525:"
       ]
      },
      {
       "output_type": "stream",
       "stream": "stdout",
       "text": [
        "\n",
        "\tActive results:\n",
        "\t\tN: 5525\n",
        "\t\tPrecision: 0.939805825243\n",
        "\t\tRecall: 0.966067864271\n",
        "\t\tF1: 0.952755905512\n",
        "\t\tSupport: 501\n",
        "\tPassive results:\n",
        "\t\tN: 5525\n",
        "\t\tPrecision: 0.886861313869\n",
        "\t\tRecall: 0.97005988024\n",
        "\t\tF1: 0.926596758818\n",
        "\t\tSupport: 501\n",
        "completed run with N=5550:"
       ]
      },
      {
       "output_type": "stream",
       "stream": "stdout",
       "text": [
        "\n",
        "\tActive results:\n",
        "\t\tN: 5550\n",
        "\t\tPrecision: 0.938104448743\n",
        "\t\tRecall: 0.968063872255\n",
        "\t\tF1: 0.952848722986\n",
        "\t\tSupport: 501\n",
        "\tPassive results:\n",
        "\t\tN: 5550\n",
        "\t\tPrecision: 0.888482632541\n",
        "\t\tRecall: 0.97005988024\n",
        "\t\tF1: 0.927480916031\n",
        "\t\tSupport: 501\n",
        "completed run with N=5575:"
       ]
      },
      {
       "output_type": "stream",
       "stream": "stdout",
       "text": [
        "\n",
        "\tActive results:\n",
        "\t\tN: 5575\n",
        "\t\tPrecision: 0.934489402697\n",
        "\t\tRecall: 0.968063872255\n",
        "\t\tF1: 0.950980392157\n",
        "\t\tSupport: 501\n",
        "\tPassive results:\n",
        "\t\tN: 5575\n",
        "\t\tPrecision: 0.888482632541\n",
        "\t\tRecall: 0.97005988024\n",
        "\t\tF1: 0.927480916031\n",
        "\t\tSupport: 501\n",
        "completed run with N=5600:"
       ]
      },
      {
       "output_type": "stream",
       "stream": "stdout",
       "text": [
        "\n",
        "\tActive results:\n",
        "\t\tN: 5600\n",
        "\t\tPrecision: 0.938104448743\n",
        "\t\tRecall: 0.968063872255\n",
        "\t\tF1: 0.952848722986\n",
        "\t\tSupport: 501\n",
        "\tPassive results:\n",
        "\t\tN: 5600\n",
        "\t\tPrecision: 0.888482632541\n",
        "\t\tRecall: 0.97005988024\n",
        "\t\tF1: 0.927480916031\n",
        "\t\tSupport: 501\n",
        "completed run with N=5625:"
       ]
      },
      {
       "output_type": "stream",
       "stream": "stdout",
       "text": [
        "\n",
        "\tActive results:\n",
        "\t\tN: 5625\n",
        "\t\tPrecision: 0.938104448743\n",
        "\t\tRecall: 0.968063872255\n",
        "\t\tF1: 0.952848722986\n",
        "\t\tSupport: 501\n",
        "\tPassive results:\n",
        "\t\tN: 5625\n",
        "\t\tPrecision: 0.89010989011\n",
        "\t\tRecall: 0.97005988024\n",
        "\t\tF1: 0.928366762178\n",
        "\t\tSupport: 501\n",
        "completed run with N=5650:"
       ]
      },
      {
       "output_type": "stream",
       "stream": "stdout",
       "text": [
        "\n",
        "\tActive results:\n",
        "\t\tN: 5650\n",
        "\t\tPrecision: 0.936293436293\n",
        "\t\tRecall: 0.968063872255\n",
        "\t\tF1: 0.951913640824\n",
        "\t\tSupport: 501\n",
        "\tPassive results:\n",
        "\t\tN: 5650\n",
        "\t\tPrecision: 0.888482632541\n",
        "\t\tRecall: 0.97005988024\n",
        "\t\tF1: 0.927480916031\n",
        "\t\tSupport: 501\n",
        "completed run with N=5675:"
       ]
      },
      {
       "output_type": "stream",
       "stream": "stdout",
       "text": [
        "\n",
        "\tActive results:\n",
        "\t\tN: 5675\n",
        "\t\tPrecision: 0.934489402697\n",
        "\t\tRecall: 0.968063872255\n",
        "\t\tF1: 0.950980392157\n",
        "\t\tSupport: 501\n",
        "\tPassive results:\n",
        "\t\tN: 5675\n",
        "\t\tPrecision: 0.888482632541\n",
        "\t\tRecall: 0.97005988024\n",
        "\t\tF1: 0.927480916031\n",
        "\t\tSupport: 501\n",
        "completed run with N=5700:"
       ]
      },
      {
       "output_type": "stream",
       "stream": "stdout",
       "text": [
        "\n",
        "\tActive results:\n",
        "\t\tN: 5700\n",
        "\t\tPrecision: 0.932562620424\n",
        "\t\tRecall: 0.966067864271\n",
        "\t\tF1: 0.949019607843\n",
        "\t\tSupport: 501\n",
        "\tPassive results:\n",
        "\t\tN: 5700\n",
        "\t\tPrecision: 0.888482632541\n",
        "\t\tRecall: 0.97005988024\n",
        "\t\tF1: 0.927480916031\n",
        "\t\tSupport: 501\n",
        "completed run with N=5725:"
       ]
      },
      {
       "output_type": "stream",
       "stream": "stdout",
       "text": [
        "\n",
        "\tActive results:\n",
        "\t\tN: 5725\n",
        "\t\tPrecision: 0.932562620424\n",
        "\t\tRecall: 0.966067864271\n",
        "\t\tF1: 0.949019607843\n",
        "\t\tSupport: 501\n",
        "\tPassive results:\n",
        "\t\tN: 5725\n",
        "\t\tPrecision: 0.888482632541\n",
        "\t\tRecall: 0.97005988024\n",
        "\t\tF1: 0.927480916031\n",
        "\t\tSupport: 501\n",
        "completed run with N=5750:"
       ]
      },
      {
       "output_type": "stream",
       "stream": "stdout",
       "text": [
        "\n",
        "\tActive results:\n",
        "\t\tN: 5750\n",
        "\t\tPrecision: 0.932562620424\n",
        "\t\tRecall: 0.966067864271\n",
        "\t\tF1: 0.949019607843\n",
        "\t\tSupport: 501\n",
        "\tPassive results:\n",
        "\t\tN: 5750\n",
        "\t\tPrecision: 0.888482632541\n",
        "\t\tRecall: 0.97005988024\n",
        "\t\tF1: 0.927480916031\n",
        "\t\tSupport: 501\n",
        "completed run with N=5775:"
       ]
      },
      {
       "output_type": "stream",
       "stream": "stdout",
       "text": [
        "\n",
        "\tActive results:\n",
        "\t\tN: 5775\n",
        "\t\tPrecision: 0.932562620424\n",
        "\t\tRecall: 0.966067864271\n",
        "\t\tF1: 0.949019607843\n",
        "\t\tSupport: 501\n",
        "\tPassive results:\n",
        "\t\tN: 5775\n",
        "\t\tPrecision: 0.888482632541\n",
        "\t\tRecall: 0.97005988024\n",
        "\t\tF1: 0.927480916031\n",
        "\t\tSupport: 501\n",
        "completed run with N=5800:"
       ]
      },
      {
       "output_type": "stream",
       "stream": "stdout",
       "text": [
        "\n",
        "\tActive results:\n",
        "\t\tN: 5800\n",
        "\t\tPrecision: 0.930769230769\n",
        "\t\tRecall: 0.966067864271\n",
        "\t\tF1: 0.948090107738\n",
        "\t\tSupport: 501\n",
        "\tPassive results:\n",
        "\t\tN: 5800\n",
        "\t\tPrecision: 0.888482632541\n",
        "\t\tRecall: 0.97005988024\n",
        "\t\tF1: 0.927480916031\n",
        "\t\tSupport: 501\n",
        "completed run with N=5825:"
       ]
      },
      {
       "output_type": "stream",
       "stream": "stdout",
       "text": [
        "\n",
        "\tActive results:\n",
        "\t\tN: 5825\n",
        "\t\tPrecision: 0.932562620424\n",
        "\t\tRecall: 0.966067864271\n",
        "\t\tF1: 0.949019607843\n",
        "\t\tSupport: 501\n",
        "\tPassive results:\n",
        "\t\tN: 5825\n",
        "\t\tPrecision: 0.886861313869\n",
        "\t\tRecall: 0.97005988024\n",
        "\t\tF1: 0.926596758818\n",
        "\t\tSupport: 501\n",
        "completed run with N=5850:"
       ]
      },
      {
       "output_type": "stream",
       "stream": "stdout",
       "text": [
        "\n",
        "\tActive results:\n",
        "\t\tN: 5850\n",
        "\t\tPrecision: 0.930769230769\n",
        "\t\tRecall: 0.966067864271\n",
        "\t\tF1: 0.948090107738\n",
        "\t\tSupport: 501\n",
        "\tPassive results:\n",
        "\t\tN: 5850\n",
        "\t\tPrecision: 0.886861313869\n",
        "\t\tRecall: 0.97005988024\n",
        "\t\tF1: 0.926596758818\n",
        "\t\tSupport: 501\n",
        "completed run with N=5875:"
       ]
      },
      {
       "output_type": "stream",
       "stream": "stdout",
       "text": [
        "\n",
        "\tActive results:\n",
        "\t\tN: 5875\n",
        "\t\tPrecision: 0.928982725528\n",
        "\t\tRecall: 0.966067864271\n",
        "\t\tF1: 0.947162426614\n",
        "\t\tSupport: 501\n",
        "\tPassive results:\n",
        "\t\tN: 5875\n",
        "\t\tPrecision: 0.887067395264\n",
        "\t\tRecall: 0.972055888224\n",
        "\t\tF1: 0.927619047619\n",
        "\t\tSupport: 501\n",
        "completed run with N=5900:"
       ]
      },
      {
       "output_type": "stream",
       "stream": "stdout",
       "text": [
        "\n",
        "\tActive results:\n",
        "\t\tN: 5900\n",
        "\t\tPrecision: 0.929118773946\n",
        "\t\tRecall: 0.968063872255\n",
        "\t\tF1: 0.948191593353\n",
        "\t\tSupport: 501\n",
        "\tPassive results:\n",
        "\t\tN: 5900\n",
        "\t\tPrecision: 0.886861313869\n",
        "\t\tRecall: 0.97005988024\n",
        "\t\tF1: 0.926596758818\n",
        "\t\tSupport: 501\n",
        "completed run with N=5925:"
       ]
      },
      {
       "output_type": "stream",
       "stream": "stdout",
       "text": [
        "\n",
        "\tActive results:\n",
        "\t\tN: 5925\n",
        "\t\tPrecision: 0.927342256214\n",
        "\t\tRecall: 0.968063872255\n",
        "\t\tF1: 0.947265625\n",
        "\t\tSupport: 501\n",
        "\tPassive results:\n",
        "\t\tN: 5925\n",
        "\t\tPrecision: 0.886861313869\n",
        "\t\tRecall: 0.97005988024\n",
        "\t\tF1: 0.926596758818\n",
        "\t\tSupport: 501\n",
        "completed run with N=5950:"
       ]
      },
      {
       "output_type": "stream",
       "stream": "stdout",
       "text": [
        "\n",
        "\tActive results:\n",
        "\t\tN: 5950\n",
        "\t\tPrecision: 0.925572519084\n",
        "\t\tRecall: 0.968063872255\n",
        "\t\tF1: 0.946341463415\n",
        "\t\tSupport: 501\n",
        "\tPassive results:\n",
        "\t\tN: 5950\n",
        "\t\tPrecision: 0.888482632541\n",
        "\t\tRecall: 0.97005988024\n",
        "\t\tF1: 0.927480916031\n",
        "\t\tSupport: 501\n",
        "completed run with N=5975:"
       ]
      },
      {
       "output_type": "stream",
       "stream": "stdout",
       "text": [
        "\n",
        "\tActive results:\n",
        "\t\tN: 5975\n",
        "\t\tPrecision: 0.927342256214\n",
        "\t\tRecall: 0.968063872255\n",
        "\t\tF1: 0.947265625\n",
        "\t\tSupport: 501\n",
        "\tPassive results:\n",
        "\t\tN: 5975\n",
        "\t\tPrecision: 0.888482632541\n",
        "\t\tRecall: 0.97005988024\n",
        "\t\tF1: 0.927480916031\n",
        "\t\tSupport: 501\n",
        "completed run with N=6000:"
       ]
      },
      {
       "output_type": "stream",
       "stream": "stdout",
       "text": [
        "\n",
        "\tActive results:\n",
        "\t\tN: 6000\n",
        "\t\tPrecision: 0.927342256214\n",
        "\t\tRecall: 0.968063872255\n",
        "\t\tF1: 0.947265625\n",
        "\t\tSupport: 501\n",
        "\tPassive results:\n",
        "\t\tN: 6000\n",
        "\t\tPrecision: 0.89010989011\n",
        "\t\tRecall: 0.97005988024\n",
        "\t\tF1: 0.928366762178\n",
        "\t\tSupport: 501\n",
        "completed run with N=6025:"
       ]
      },
      {
       "output_type": "stream",
       "stream": "stdout",
       "text": [
        "\n",
        "\tActive results:\n",
        "\t\tN: 6025\n",
        "\t\tPrecision: 0.927342256214\n",
        "\t\tRecall: 0.968063872255\n",
        "\t\tF1: 0.947265625\n",
        "\t\tSupport: 501\n",
        "\tPassive results:\n",
        "\t\tN: 6025\n",
        "\t\tPrecision: 0.89010989011\n",
        "\t\tRecall: 0.97005988024\n",
        "\t\tF1: 0.928366762178\n",
        "\t\tSupport: 501\n",
        "completed run with N=6050:"
       ]
      },
      {
       "output_type": "stream",
       "stream": "stdout",
       "text": [
        "\n",
        "\tActive results:\n",
        "\t\tN: 6050\n",
        "\t\tPrecision: 0.92380952381\n",
        "\t\tRecall: 0.968063872255\n",
        "\t\tF1: 0.945419103314\n",
        "\t\tSupport: 501\n",
        "\tPassive results:\n",
        "\t\tN: 6050\n",
        "\t\tPrecision: 0.89010989011\n",
        "\t\tRecall: 0.97005988024\n",
        "\t\tF1: 0.928366762178\n",
        "\t\tSupport: 501\n",
        "completed run with N=6075:"
       ]
      },
      {
       "output_type": "stream",
       "stream": "stdout",
       "text": [
        "\n",
        "\tActive results:\n",
        "\t\tN: 6075\n",
        "\t\tPrecision: 0.922053231939\n",
        "\t\tRecall: 0.968063872255\n",
        "\t\tF1: 0.944498539435\n",
        "\t\tSupport: 501\n",
        "\tPassive results:\n",
        "\t\tN: 6075\n",
        "\t\tPrecision: 0.89010989011\n",
        "\t\tRecall: 0.97005988024\n",
        "\t\tF1: 0.928366762178\n",
        "\t\tSupport: 501\n",
        "completed run with N=6100:"
       ]
      },
      {
       "output_type": "stream",
       "stream": "stdout",
       "text": [
        "\n",
        "\tActive results:\n",
        "\t\tN: 6100\n",
        "\t\tPrecision: 0.922053231939\n",
        "\t\tRecall: 0.968063872255\n",
        "\t\tF1: 0.944498539435\n",
        "\t\tSupport: 501\n",
        "\tPassive results:\n",
        "\t\tN: 6100\n",
        "\t\tPrecision: 0.89010989011\n",
        "\t\tRecall: 0.97005988024\n",
        "\t\tF1: 0.928366762178\n",
        "\t\tSupport: 501\n",
        "completed run with N=6125:"
       ]
      },
      {
       "output_type": "stream",
       "stream": "stdout",
       "text": [
        "\n",
        "\tActive results:\n",
        "\t\tN: 6125\n",
        "\t\tPrecision: 0.92220113852\n",
        "\t\tRecall: 0.97005988024\n",
        "\t\tF1: 0.945525291829\n",
        "\t\tSupport: 501\n",
        "\tPassive results:\n",
        "\t\tN: 6125\n",
        "\t\tPrecision: 0.890310786106\n",
        "\t\tRecall: 0.972055888224\n",
        "\t\tF1: 0.929389312977\n",
        "\t\tSupport: 501\n",
        "completed run with N=6150:"
       ]
      },
      {
       "output_type": "stream",
       "stream": "stdout",
       "text": [
        "\n",
        "\tActive results:\n",
        "\t\tN: 6150\n",
        "\t\tPrecision: 0.92220113852\n",
        "\t\tRecall: 0.97005988024\n",
        "\t\tF1: 0.945525291829\n",
        "\t\tSupport: 501\n",
        "\tPassive results:\n",
        "\t\tN: 6150\n",
        "\t\tPrecision: 0.890310786106\n",
        "\t\tRecall: 0.972055888224\n",
        "\t\tF1: 0.929389312977\n",
        "\t\tSupport: 501\n",
        "completed run with N=6175:"
       ]
      },
      {
       "output_type": "stream",
       "stream": "stdout",
       "text": [
        "\n",
        "\tActive results:\n",
        "\t\tN: 6175\n",
        "\t\tPrecision: 0.92220113852\n",
        "\t\tRecall: 0.97005988024\n",
        "\t\tF1: 0.945525291829\n",
        "\t\tSupport: 501\n",
        "\tPassive results:\n",
        "\t\tN: 6175\n",
        "\t\tPrecision: 0.890310786106\n",
        "\t\tRecall: 0.972055888224\n",
        "\t\tF1: 0.929389312977\n",
        "\t\tSupport: 501\n",
        "completed run with N=6200:"
       ]
      },
      {
       "output_type": "stream",
       "stream": "stdout",
       "text": [
        "\n",
        "\tActive results:\n",
        "\t\tN: 6200\n",
        "\t\tPrecision: 0.92220113852\n",
        "\t\tRecall: 0.97005988024\n",
        "\t\tF1: 0.945525291829\n",
        "\t\tSupport: 501\n",
        "\tPassive results:\n",
        "\t\tN: 6200\n",
        "\t\tPrecision: 0.890310786106\n",
        "\t\tRecall: 0.972055888224\n",
        "\t\tF1: 0.929389312977\n",
        "\t\tSupport: 501\n",
        "completed run with N=6225:"
       ]
      },
      {
       "output_type": "stream",
       "stream": "stdout",
       "text": [
        "\n",
        "\tActive results:\n",
        "\t\tN: 6225\n",
        "\t\tPrecision: 0.92220113852\n",
        "\t\tRecall: 0.97005988024\n",
        "\t\tF1: 0.945525291829\n",
        "\t\tSupport: 501\n",
        "\tPassive results:\n",
        "\t\tN: 6225\n",
        "\t\tPrecision: 0.890310786106\n",
        "\t\tRecall: 0.972055888224\n",
        "\t\tF1: 0.929389312977\n",
        "\t\tSupport: 501\n",
        "completed run with N=6250:"
       ]
      },
      {
       "output_type": "stream",
       "stream": "stdout",
       "text": [
        "\n",
        "\tActive results:\n",
        "\t\tN: 6250\n",
        "\t\tPrecision: 0.92220113852\n",
        "\t\tRecall: 0.97005988024\n",
        "\t\tF1: 0.945525291829\n",
        "\t\tSupport: 501\n",
        "\tPassive results:\n",
        "\t\tN: 6250\n",
        "\t\tPrecision: 0.890310786106\n",
        "\t\tRecall: 0.972055888224\n",
        "\t\tF1: 0.929389312977\n",
        "\t\tSupport: 501\n",
        "completed run with N=6275:"
       ]
      },
      {
       "output_type": "stream",
       "stream": "stdout",
       "text": [
        "\n",
        "\tActive results:\n",
        "\t\tN: 6275\n",
        "\t\tPrecision: 0.920454545455\n",
        "\t\tRecall: 0.97005988024\n",
        "\t\tF1: 0.944606413994\n",
        "\t\tSupport: 501\n",
        "\tPassive results:\n",
        "\t\tN: 6275\n",
        "\t\tPrecision: 0.89010989011\n",
        "\t\tRecall: 0.97005988024\n",
        "\t\tF1: 0.928366762178\n",
        "\t\tSupport: 501\n",
        "completed run with N=6300:"
       ]
      },
      {
       "output_type": "stream",
       "stream": "stdout",
       "text": [
        "\n",
        "\tActive results:\n",
        "\t\tN: 6300\n",
        "\t\tPrecision: 0.920454545455\n",
        "\t\tRecall: 0.97005988024\n",
        "\t\tF1: 0.944606413994\n",
        "\t\tSupport: 501\n",
        "\tPassive results:\n",
        "\t\tN: 6300\n",
        "\t\tPrecision: 0.888482632541\n",
        "\t\tRecall: 0.97005988024\n",
        "\t\tF1: 0.927480916031\n",
        "\t\tSupport: 501\n",
        "completed run with N=6325:"
       ]
      },
      {
       "output_type": "stream",
       "stream": "stdout",
       "text": [
        "\n",
        "\tActive results:\n",
        "\t\tN: 6325\n",
        "\t\tPrecision: 0.918714555766\n",
        "\t\tRecall: 0.97005988024\n",
        "\t\tF1: 0.943689320388\n",
        "\t\tSupport: 501\n",
        "\tPassive results:\n",
        "\t\tN: 6325\n",
        "\t\tPrecision: 0.888482632541\n",
        "\t\tRecall: 0.97005988024\n",
        "\t\tF1: 0.927480916031\n",
        "\t\tSupport: 501\n",
        "completed run with N=6350:"
       ]
      },
      {
       "output_type": "stream",
       "stream": "stdout",
       "text": [
        "\n",
        "\tActive results:\n",
        "\t\tN: 6350\n",
        "\t\tPrecision: 0.920454545455\n",
        "\t\tRecall: 0.97005988024\n",
        "\t\tF1: 0.944606413994\n",
        "\t\tSupport: 501\n",
        "\tPassive results:\n",
        "\t\tN: 6350\n",
        "\t\tPrecision: 0.89010989011\n",
        "\t\tRecall: 0.97005988024\n",
        "\t\tF1: 0.928366762178\n",
        "\t\tSupport: 501\n",
        "completed run with N=6375:"
       ]
      },
      {
       "output_type": "stream",
       "stream": "stdout",
       "text": [
        "\n",
        "\tActive results:\n",
        "\t\tN: 6375\n",
        "\t\tPrecision: 0.92220113852\n",
        "\t\tRecall: 0.97005988024\n",
        "\t\tF1: 0.945525291829\n",
        "\t\tSupport: 501\n",
        "\tPassive results:\n",
        "\t\tN: 6375\n",
        "\t\tPrecision: 0.89010989011\n",
        "\t\tRecall: 0.97005988024\n",
        "\t\tF1: 0.928366762178\n",
        "\t\tSupport: 501\n",
        "completed run with N=6400:"
       ]
      },
      {
       "output_type": "stream",
       "stream": "stdout",
       "text": [
        "\n",
        "\tActive results:\n",
        "\t\tN: 6400\n",
        "\t\tPrecision: 0.918560606061\n",
        "\t\tRecall: 0.968063872255\n",
        "\t\tF1: 0.942662779397\n",
        "\t\tSupport: 501\n",
        "\tPassive results:\n",
        "\t\tN: 6400\n",
        "\t\tPrecision: 0.89010989011\n",
        "\t\tRecall: 0.97005988024\n",
        "\t\tF1: 0.928366762178\n",
        "\t\tSupport: 501\n",
        "completed run with N=6425:"
       ]
      },
      {
       "output_type": "stream",
       "stream": "stdout",
       "text": [
        "\n",
        "\tActive results:\n",
        "\t\tN: 6425\n",
        "\t\tPrecision: 0.916824196597\n",
        "\t\tRecall: 0.968063872255\n",
        "\t\tF1: 0.941747572816\n",
        "\t\tSupport: 501\n",
        "\tPassive results:\n",
        "\t\tN: 6425\n",
        "\t\tPrecision: 0.89010989011\n",
        "\t\tRecall: 0.97005988024\n",
        "\t\tF1: 0.928366762178\n",
        "\t\tSupport: 501\n",
        "completed run with N=6450:"
       ]
      },
      {
       "output_type": "stream",
       "stream": "stdout",
       "text": [
        "\n",
        "\tActive results:\n",
        "\t\tN: 6450\n",
        "\t\tPrecision: 0.916666666667\n",
        "\t\tRecall: 0.966067864271\n",
        "\t\tF1: 0.940719144801\n",
        "\t\tSupport: 501\n",
        "\tPassive results:\n",
        "\t\tN: 6450\n",
        "\t\tPrecision: 0.89010989011\n",
        "\t\tRecall: 0.97005988024\n",
        "\t\tF1: 0.928366762178\n",
        "\t\tSupport: 501\n",
        "completed run with N=6475:"
       ]
      },
      {
       "output_type": "stream",
       "stream": "stdout",
       "text": [
        "\n",
        "\tActive results:\n",
        "\t\tN: 6475\n",
        "\t\tPrecision: 0.915094339623\n",
        "\t\tRecall: 0.968063872255\n",
        "\t\tF1: 0.94083414161\n",
        "\t\tSupport: 501\n",
        "\tPassive results:\n",
        "\t\tN: 6475\n",
        "\t\tPrecision: 0.89010989011\n",
        "\t\tRecall: 0.97005988024\n",
        "\t\tF1: 0.928366762178\n",
        "\t\tSupport: 501\n",
        "completed run with N=6500:"
       ]
      },
      {
       "output_type": "stream",
       "stream": "stdout",
       "text": [
        "\n",
        "\tActive results:\n",
        "\t\tN: 6500\n",
        "\t\tPrecision: 0.916666666667\n",
        "\t\tRecall: 0.966067864271\n",
        "\t\tF1: 0.940719144801\n",
        "\t\tSupport: 501\n",
        "\tPassive results:\n",
        "\t\tN: 6500\n",
        "\t\tPrecision: 0.888482632541\n",
        "\t\tRecall: 0.97005988024\n",
        "\t\tF1: 0.927480916031\n",
        "\t\tSupport: 501\n",
        "completed run with N=6525:"
       ]
      },
      {
       "output_type": "stream",
       "stream": "stdout",
       "text": [
        "\n",
        "\tActive results:\n",
        "\t\tN: 6525\n",
        "\t\tPrecision: 0.916666666667\n",
        "\t\tRecall: 0.966067864271\n",
        "\t\tF1: 0.940719144801\n",
        "\t\tSupport: 501\n",
        "\tPassive results:\n",
        "\t\tN: 6525\n",
        "\t\tPrecision: 0.888482632541\n",
        "\t\tRecall: 0.97005988024\n",
        "\t\tF1: 0.927480916031\n",
        "\t\tSupport: 501\n",
        "completed run with N=6550:"
       ]
      },
      {
       "output_type": "stream",
       "stream": "stdout",
       "text": [
        "\n",
        "\tActive results:\n",
        "\t\tN: 6550\n",
        "\t\tPrecision: 0.916981132075\n",
        "\t\tRecall: 0.97005988024\n",
        "\t\tF1: 0.94277400582\n",
        "\t\tSupport: 501\n",
        "\tPassive results:\n",
        "\t\tN: 6550\n",
        "\t\tPrecision: 0.886861313869\n",
        "\t\tRecall: 0.97005988024\n",
        "\t\tF1: 0.926596758818\n",
        "\t\tSupport: 501\n",
        "completed run with N=6575:"
       ]
      },
      {
       "output_type": "stream",
       "stream": "stdout",
       "text": [
        "\n",
        "\tActive results:\n",
        "\t\tN: 6575\n",
        "\t\tPrecision: 0.916824196597\n",
        "\t\tRecall: 0.968063872255\n",
        "\t\tF1: 0.941747572816\n",
        "\t\tSupport: 501\n",
        "\tPassive results:\n",
        "\t\tN: 6575\n",
        "\t\tPrecision: 0.886861313869\n",
        "\t\tRecall: 0.97005988024\n",
        "\t\tF1: 0.926596758818\n",
        "\t\tSupport: 501\n",
        "completed run with N=6600:"
       ]
      },
      {
       "output_type": "stream",
       "stream": "stdout",
       "text": [
        "\n",
        "\tActive results:\n",
        "\t\tN: 6600\n",
        "\t\tPrecision: 0.913533834586\n",
        "\t\tRecall: 0.97005988024\n",
        "\t\tF1: 0.940948693127\n",
        "\t\tSupport: 501\n",
        "\tPassive results:\n",
        "\t\tN: 6600\n",
        "\t\tPrecision: 0.888482632541\n",
        "\t\tRecall: 0.97005988024\n",
        "\t\tF1: 0.927480916031\n",
        "\t\tSupport: 501\n",
        "completed run with N=6625:"
       ]
      },
      {
       "output_type": "stream",
       "stream": "stdout",
       "text": [
        "\n",
        "\tActive results:\n",
        "\t\tN: 6625\n",
        "\t\tPrecision: 0.913533834586\n",
        "\t\tRecall: 0.97005988024\n",
        "\t\tF1: 0.940948693127\n",
        "\t\tSupport: 501\n",
        "\tPassive results:\n",
        "\t\tN: 6625\n",
        "\t\tPrecision: 0.886861313869\n",
        "\t\tRecall: 0.97005988024\n",
        "\t\tF1: 0.926596758818\n",
        "\t\tSupport: 501\n",
        "completed run with N=6650:"
       ]
      },
      {
       "output_type": "stream",
       "stream": "stdout",
       "text": [
        "\n",
        "\tActive results:\n",
        "\t\tN: 6650\n",
        "\t\tPrecision: 0.915094339623\n",
        "\t\tRecall: 0.968063872255\n",
        "\t\tF1: 0.94083414161\n",
        "\t\tSupport: 501\n",
        "\tPassive results:\n",
        "\t\tN: 6650\n",
        "\t\tPrecision: 0.886861313869\n",
        "\t\tRecall: 0.97005988024\n",
        "\t\tF1: 0.926596758818\n",
        "\t\tSupport: 501\n",
        "completed run with N=6675:"
       ]
      },
      {
       "output_type": "stream",
       "stream": "stdout",
       "text": [
        "\n",
        "\tActive results:\n",
        "\t\tN: 6675\n",
        "\t\tPrecision: 0.911654135338\n",
        "\t\tRecall: 0.968063872255\n",
        "\t\tF1: 0.939012584705\n",
        "\t\tSupport: 501\n",
        "\tPassive results:\n",
        "\t\tN: 6675\n",
        "\t\tPrecision: 0.888482632541\n",
        "\t\tRecall: 0.97005988024\n",
        "\t\tF1: 0.927480916031\n",
        "\t\tSupport: 501\n",
        "completed run with N=6700:"
       ]
      },
      {
       "output_type": "stream",
       "stream": "stdout",
       "text": [
        "\n",
        "\tActive results:\n",
        "\t\tN: 6700\n",
        "\t\tPrecision: 0.911654135338\n",
        "\t\tRecall: 0.968063872255\n",
        "\t\tF1: 0.939012584705\n",
        "\t\tSupport: 501\n",
        "\tPassive results:\n",
        "\t\tN: 6700\n",
        "\t\tPrecision: 0.888686131387\n",
        "\t\tRecall: 0.972055888224\n",
        "\t\tF1: 0.928503336511\n",
        "\t\tSupport: 501\n",
        "completed run with N=6725:"
       ]
      },
      {
       "output_type": "stream",
       "stream": "stdout",
       "text": [
        "\n",
        "\tActive results:\n",
        "\t\tN: 6725\n",
        "\t\tPrecision: 0.911487758945\n",
        "\t\tRecall: 0.966067864271\n",
        "\t\tF1: 0.937984496124\n",
        "\t\tSupport: 501\n",
        "\tPassive results:\n",
        "\t\tN: 6725\n",
        "\t\tPrecision: 0.887067395264\n",
        "\t\tRecall: 0.972055888224\n",
        "\t\tF1: 0.927619047619\n",
        "\t\tSupport: 501\n",
        "completed run with N=6750:"
       ]
      },
      {
       "output_type": "stream",
       "stream": "stdout",
       "text": [
        "\n",
        "\tActive results:\n",
        "\t\tN: 6750\n",
        "\t\tPrecision: 0.909943714822\n",
        "\t\tRecall: 0.968063872255\n",
        "\t\tF1: 0.938104448743\n",
        "\t\tSupport: 501\n",
        "\tPassive results:\n",
        "\t\tN: 6750\n",
        "\t\tPrecision: 0.887067395264\n",
        "\t\tRecall: 0.972055888224\n",
        "\t\tF1: 0.927619047619\n",
        "\t\tSupport: 501\n",
        "completed run with N=6775:"
       ]
      },
      {
       "output_type": "stream",
       "stream": "stdout",
       "text": [
        "\n",
        "\tActive results:\n",
        "\t\tN: 6775\n",
        "\t\tPrecision: 0.909943714822\n",
        "\t\tRecall: 0.968063872255\n",
        "\t\tF1: 0.938104448743\n",
        "\t\tSupport: 501\n",
        "\tPassive results:\n",
        "\t\tN: 6775\n",
        "\t\tPrecision: 0.885454545455\n",
        "\t\tRecall: 0.972055888224\n",
        "\t\tF1: 0.926736441484\n",
        "\t\tSupport: 501\n",
        "completed run with N=6800:"
       ]
      },
      {
       "output_type": "stream",
       "stream": "stdout",
       "text": [
        "\n",
        "\tActive results:\n",
        "\t\tN: 6800\n",
        "\t\tPrecision: 0.909943714822\n",
        "\t\tRecall: 0.968063872255\n",
        "\t\tF1: 0.938104448743\n",
        "\t\tSupport: 501\n",
        "\tPassive results:\n",
        "\t\tN: 6800\n",
        "\t\tPrecision: 0.885454545455\n",
        "\t\tRecall: 0.972055888224\n",
        "\t\tF1: 0.926736441484\n",
        "\t\tSupport: 501\n",
        "completed run with N=6825:"
       ]
      },
      {
       "output_type": "stream",
       "stream": "stdout",
       "text": [
        "\n",
        "\tActive results:\n",
        "\t\tN: 6825\n",
        "\t\tPrecision: 0.909943714822\n",
        "\t\tRecall: 0.968063872255\n",
        "\t\tF1: 0.938104448743\n",
        "\t\tSupport: 501\n",
        "\tPassive results:\n",
        "\t\tN: 6825\n",
        "\t\tPrecision: 0.883847549909\n",
        "\t\tRecall: 0.972055888224\n",
        "\t\tF1: 0.925855513308\n",
        "\t\tSupport: 501\n",
        "completed run with N=6850:"
       ]
      },
      {
       "output_type": "stream",
       "stream": "stdout",
       "text": [
        "\n",
        "\tActive results:\n",
        "\t\tN: 6850\n",
        "\t\tPrecision: 0.910112359551\n",
        "\t\tRecall: 0.97005988024\n",
        "\t\tF1: 0.939130434783\n",
        "\t\tSupport: 501\n",
        "\tPassive results:\n",
        "\t\tN: 6850\n",
        "\t\tPrecision: 0.885454545455\n",
        "\t\tRecall: 0.972055888224\n",
        "\t\tF1: 0.926736441484\n",
        "\t\tSupport: 501\n",
        "completed run with N=6875:"
       ]
      },
      {
       "output_type": "stream",
       "stream": "stdout",
       "text": [
        "\n",
        "\tActive results:\n",
        "\t\tN: 6875\n",
        "\t\tPrecision: 0.908239700375\n",
        "\t\tRecall: 0.968063872255\n",
        "\t\tF1: 0.937198067633\n",
        "\t\tSupport: 501\n",
        "\tPassive results:\n",
        "\t\tN: 6875\n",
        "\t\tPrecision: 0.885454545455\n",
        "\t\tRecall: 0.972055888224\n",
        "\t\tF1: 0.926736441484\n",
        "\t\tSupport: 501\n",
        "completed run with N=6900:"
       ]
      },
      {
       "output_type": "stream",
       "stream": "stdout",
       "text": [
        "\n",
        "\tActive results:\n",
        "\t\tN: 6900\n",
        "\t\tPrecision: 0.908411214953\n",
        "\t\tRecall: 0.97005988024\n",
        "\t\tF1: 0.938223938224\n",
        "\t\tSupport: 501\n",
        "\tPassive results:\n",
        "\t\tN: 6900\n",
        "\t\tPrecision: 0.883847549909\n",
        "\t\tRecall: 0.972055888224\n",
        "\t\tF1: 0.925855513308\n",
        "\t\tSupport: 501\n",
        "completed run with N=6925:"
       ]
      },
      {
       "output_type": "stream",
       "stream": "stdout",
       "text": [
        "\n",
        "\tActive results:\n",
        "\t\tN: 6925\n",
        "\t\tPrecision: 0.908411214953\n",
        "\t\tRecall: 0.97005988024\n",
        "\t\tF1: 0.938223938224\n",
        "\t\tSupport: 501\n",
        "\tPassive results:\n",
        "\t\tN: 6925\n",
        "\t\tPrecision: 0.885454545455\n",
        "\t\tRecall: 0.972055888224\n",
        "\t\tF1: 0.926736441484\n",
        "\t\tSupport: 501\n",
        "completed run with N=6950:"
       ]
      },
      {
       "output_type": "stream",
       "stream": "stdout",
       "text": [
        "\n",
        "\tActive results:\n",
        "\t\tN: 6950\n",
        "\t\tPrecision: 0.908411214953\n",
        "\t\tRecall: 0.97005988024\n",
        "\t\tF1: 0.938223938224\n",
        "\t\tSupport: 501\n",
        "\tPassive results:\n",
        "\t\tN: 6950\n",
        "\t\tPrecision: 0.885245901639\n",
        "\t\tRecall: 0.97005988024\n",
        "\t\tF1: 0.925714285714\n",
        "\t\tSupport: 501\n",
        "completed run with N=6975:"
       ]
      },
      {
       "output_type": "stream",
       "stream": "stdout",
       "text": [
        "\n",
        "\tActive results:\n",
        "\t\tN: 6975\n",
        "\t\tPrecision: 0.908239700375\n",
        "\t\tRecall: 0.968063872255\n",
        "\t\tF1: 0.937198067633\n",
        "\t\tSupport: 501\n",
        "\tPassive results:\n",
        "\t\tN: 6975\n",
        "\t\tPrecision: 0.883636363636\n",
        "\t\tRecall: 0.97005988024\n",
        "\t\tF1: 0.924833491912\n",
        "\t\tSupport: 501\n",
        "completed run with N=7000:"
       ]
      },
      {
       "output_type": "stream",
       "stream": "stdout",
       "text": [
        "\n",
        "\tActive results:\n",
        "\t\tN: 7000\n",
        "\t\tPrecision: 0.908239700375\n",
        "\t\tRecall: 0.968063872255\n",
        "\t\tF1: 0.937198067633\n",
        "\t\tSupport: 501\n",
        "\tPassive results:\n",
        "\t\tN: 7000\n",
        "\t\tPrecision: 0.883636363636\n",
        "\t\tRecall: 0.97005988024\n",
        "\t\tF1: 0.924833491912\n",
        "\t\tSupport: 501\n",
        "completed run with N=7025:"
       ]
      },
      {
       "output_type": "stream",
       "stream": "stdout",
       "text": [
        "\n",
        "\tActive results:\n",
        "\t\tN: 7025\n",
        "\t\tPrecision: 0.908067542214\n",
        "\t\tRecall: 0.966067864271\n",
        "\t\tF1: 0.936170212766\n",
        "\t\tSupport: 501\n",
        "\tPassive results:\n",
        "\t\tN: 7025\n",
        "\t\tPrecision: 0.883636363636\n",
        "\t\tRecall: 0.97005988024\n",
        "\t\tF1: 0.924833491912\n",
        "\t\tSupport: 501\n",
        "completed run with N=7050:"
       ]
      },
      {
       "output_type": "stream",
       "stream": "stdout",
       "text": [
        "\n",
        "\tActive results:\n",
        "\t\tN: 7050\n",
        "\t\tPrecision: 0.908239700375\n",
        "\t\tRecall: 0.968063872255\n",
        "\t\tF1: 0.937198067633\n",
        "\t\tSupport: 501\n",
        "\tPassive results:\n",
        "\t\tN: 7050\n",
        "\t\tPrecision: 0.882246376812\n",
        "\t\tRecall: 0.972055888224\n",
        "\t\tF1: 0.92497625831\n",
        "\t\tSupport: 501\n",
        "completed run with N=7075:"
       ]
      },
      {
       "output_type": "stream",
       "stream": "stdout",
       "text": [
        "\n",
        "\tActive results:\n",
        "\t\tN: 7075\n",
        "\t\tPrecision: 0.908239700375\n",
        "\t\tRecall: 0.968063872255\n",
        "\t\tF1: 0.937198067633\n",
        "\t\tSupport: 501\n",
        "\tPassive results:\n",
        "\t\tN: 7075\n",
        "\t\tPrecision: 0.882246376812\n",
        "\t\tRecall: 0.972055888224\n",
        "\t\tF1: 0.92497625831\n",
        "\t\tSupport: 501\n",
        "completed run with N=7100:"
       ]
      },
      {
       "output_type": "stream",
       "stream": "stdout",
       "text": [
        "\n",
        "\tActive results:\n",
        "\t\tN: 7100\n",
        "\t\tPrecision: 0.906542056075\n",
        "\t\tRecall: 0.968063872255\n",
        "\t\tF1: 0.936293436293\n",
        "\t\tSupport: 501\n",
        "\tPassive results:\n",
        "\t\tN: 7100\n",
        "\t\tPrecision: 0.882246376812\n",
        "\t\tRecall: 0.972055888224\n",
        "\t\tF1: 0.92497625831\n",
        "\t\tSupport: 501\n",
        "completed run with N=7125:"
       ]
      },
      {
       "output_type": "stream",
       "stream": "stdout",
       "text": [
        "\n",
        "\tActive results:\n",
        "\t\tN: 7125\n",
        "\t\tPrecision: 0.906542056075\n",
        "\t\tRecall: 0.968063872255\n",
        "\t\tF1: 0.936293436293\n",
        "\t\tSupport: 501\n",
        "\tPassive results:\n",
        "\t\tN: 7125\n",
        "\t\tPrecision: 0.882246376812\n",
        "\t\tRecall: 0.972055888224\n",
        "\t\tF1: 0.92497625831\n",
        "\t\tSupport: 501\n",
        "completed run with N=7150:"
       ]
      },
      {
       "output_type": "stream",
       "stream": "stdout",
       "text": [
        "\n",
        "\tActive results:\n",
        "\t\tN: 7150\n",
        "\t\tPrecision: 0.906542056075\n",
        "\t\tRecall: 0.968063872255\n",
        "\t\tF1: 0.936293436293\n",
        "\t\tSupport: 501\n",
        "\tPassive results:\n",
        "\t\tN: 7150\n",
        "\t\tPrecision: 0.883847549909\n",
        "\t\tRecall: 0.972055888224\n",
        "\t\tF1: 0.925855513308\n",
        "\t\tSupport: 501\n",
        "completed run with N=7175:"
       ]
      },
      {
       "output_type": "stream",
       "stream": "stdout",
       "text": [
        "\n",
        "\tActive results:\n",
        "\t\tN: 7175\n",
        "\t\tPrecision: 0.906542056075\n",
        "\t\tRecall: 0.968063872255\n",
        "\t\tF1: 0.936293436293\n",
        "\t\tSupport: 501\n",
        "\tPassive results:\n",
        "\t\tN: 7175\n",
        "\t\tPrecision: 0.883847549909\n",
        "\t\tRecall: 0.972055888224\n",
        "\t\tF1: 0.925855513308\n",
        "\t\tSupport: 501\n",
        "completed run with N=7200:"
       ]
      },
      {
       "output_type": "stream",
       "stream": "stdout",
       "text": [
        "\n",
        "\tActive results:\n",
        "\t\tN: 7200\n",
        "\t\tPrecision: 0.90671641791\n",
        "\t\tRecall: 0.97005988024\n",
        "\t\tF1: 0.937319189971\n",
        "\t\tSupport: 501\n",
        "\tPassive results:\n",
        "\t\tN: 7200\n",
        "\t\tPrecision: 0.883847549909\n",
        "\t\tRecall: 0.972055888224\n",
        "\t\tF1: 0.925855513308\n",
        "\t\tSupport: 501\n",
        "completed run with N=7225:"
       ]
      },
      {
       "output_type": "stream",
       "stream": "stdout",
       "text": [
        "\n",
        "\tActive results:\n",
        "\t\tN: 7225\n",
        "\t\tPrecision: 0.906890130354\n",
        "\t\tRecall: 0.972055888224\n",
        "\t\tF1: 0.938342967245\n",
        "\t\tSupport: 501\n",
        "\tPassive results:\n",
        "\t\tN: 7225\n",
        "\t\tPrecision: 0.882246376812\n",
        "\t\tRecall: 0.972055888224\n",
        "\t\tF1: 0.92497625831\n",
        "\t\tSupport: 501\n",
        "completed run with N=7250:"
       ]
      },
      {
       "output_type": "stream",
       "stream": "stdout",
       "text": [
        "\n",
        "\tActive results:\n",
        "\t\tN: 7250\n",
        "\t\tPrecision: 0.906890130354\n",
        "\t\tRecall: 0.972055888224\n",
        "\t\tF1: 0.938342967245\n",
        "\t\tSupport: 501\n",
        "\tPassive results:\n",
        "\t\tN: 7250\n",
        "\t\tPrecision: 0.882246376812\n",
        "\t\tRecall: 0.972055888224\n",
        "\t\tF1: 0.92497625831\n",
        "\t\tSupport: 501\n",
        "completed run with N=7275:"
       ]
      },
      {
       "output_type": "stream",
       "stream": "stdout",
       "text": [
        "\n",
        "\tActive results:\n",
        "\t\tN: 7275\n",
        "\t\tPrecision: 0.906890130354\n",
        "\t\tRecall: 0.972055888224\n",
        "\t\tF1: 0.938342967245\n",
        "\t\tSupport: 501\n",
        "\tPassive results:\n",
        "\t\tN: 7275\n",
        "\t\tPrecision: 0.882246376812\n",
        "\t\tRecall: 0.972055888224\n",
        "\t\tF1: 0.92497625831\n",
        "\t\tSupport: 501\n",
        "completed run with N=7300:"
       ]
      },
      {
       "output_type": "stream",
       "stream": "stdout",
       "text": [
        "\n",
        "\tActive results:\n",
        "\t\tN: 7300\n",
        "\t\tPrecision: 0.905204460967\n",
        "\t\tRecall: 0.972055888224\n",
        "\t\tF1: 0.937439846006\n",
        "\t\tSupport: 501\n",
        "\tPassive results:\n",
        "\t\tN: 7300\n",
        "\t\tPrecision: 0.882246376812\n",
        "\t\tRecall: 0.972055888224\n",
        "\t\tF1: 0.92497625831\n",
        "\t\tSupport: 501\n",
        "completed run with N=7325:"
       ]
      },
      {
       "output_type": "stream",
       "stream": "stdout",
       "text": [
        "\n",
        "\tActive results:\n",
        "\t\tN: 7325\n",
        "\t\tPrecision: 0.903525046382\n",
        "\t\tRecall: 0.972055888224\n",
        "\t\tF1: 0.936538461538\n",
        "\t\tSupport: 501\n",
        "\tPassive results:\n",
        "\t\tN: 7325\n",
        "\t\tPrecision: 0.882459312839\n",
        "\t\tRecall: 0.974051896208\n",
        "\t\tF1: 0.925996204934\n",
        "\t\tSupport: 501\n",
        "completed run with N=7350:"
       ]
      },
      {
       "output_type": "stream",
       "stream": "stdout",
       "text": [
        "\n",
        "\tActive results:\n",
        "\t\tN: 7350\n",
        "\t\tPrecision: 0.903525046382\n",
        "\t\tRecall: 0.972055888224\n",
        "\t\tF1: 0.936538461538\n",
        "\t\tSupport: 501\n",
        "\tPassive results:\n",
        "\t\tN: 7350\n",
        "\t\tPrecision: 0.882459312839\n",
        "\t\tRecall: 0.974051896208\n",
        "\t\tF1: 0.925996204934\n",
        "\t\tSupport: 501\n",
        "completed run with N=7375:"
       ]
      },
      {
       "output_type": "stream",
       "stream": "stdout",
       "text": [
        "\n",
        "\tActive results:\n",
        "\t\tN: 7375\n",
        "\t\tPrecision: 0.903525046382\n",
        "\t\tRecall: 0.972055888224\n",
        "\t\tF1: 0.936538461538\n",
        "\t\tSupport: 501\n",
        "\tPassive results:\n",
        "\t\tN: 7375\n",
        "\t\tPrecision: 0.882459312839\n",
        "\t\tRecall: 0.974051896208\n",
        "\t\tF1: 0.925996204934\n",
        "\t\tSupport: 501\n",
        "completed run with N=7400:"
       ]
      },
      {
       "output_type": "stream",
       "stream": "stdout",
       "text": [
        "\n",
        "\tActive results:\n",
        "\t\tN: 7400\n",
        "\t\tPrecision: 0.903525046382\n",
        "\t\tRecall: 0.972055888224\n",
        "\t\tF1: 0.936538461538\n",
        "\t\tSupport: 501\n",
        "\tPassive results:\n",
        "\t\tN: 7400\n",
        "\t\tPrecision: 0.880866425993\n",
        "\t\tRecall: 0.974051896208\n",
        "\t\tF1: 0.925118483412\n",
        "\t\tSupport: 501\n",
        "completed run with N=7425:"
       ]
      },
      {
       "output_type": "stream",
       "stream": "stdout",
       "text": [
        "\n",
        "\tActive results:\n",
        "\t\tN: 7425\n",
        "\t\tPrecision: 0.903525046382\n",
        "\t\tRecall: 0.972055888224\n",
        "\t\tF1: 0.936538461538\n",
        "\t\tSupport: 501\n",
        "\tPassive results:\n",
        "\t\tN: 7425\n",
        "\t\tPrecision: 0.880650994575\n",
        "\t\tRecall: 0.972055888224\n",
        "\t\tF1: 0.924098671727\n",
        "\t\tSupport: 501\n",
        "completed run with N=7450:"
       ]
      },
      {
       "output_type": "stream",
       "stream": "stdout",
       "text": [
        "\n",
        "\tActive results:\n",
        "\t\tN: 7450\n",
        "\t\tPrecision: 0.903525046382\n",
        "\t\tRecall: 0.972055888224\n",
        "\t\tF1: 0.936538461538\n",
        "\t\tSupport: 501\n",
        "\tPassive results:\n",
        "\t\tN: 7450\n",
        "\t\tPrecision: 0.880650994575\n",
        "\t\tRecall: 0.972055888224\n",
        "\t\tF1: 0.924098671727\n",
        "\t\tSupport: 501\n",
        "completed run with N=7475:"
       ]
      },
      {
       "output_type": "stream",
       "stream": "stdout",
       "text": [
        "\n",
        "\tActive results:\n",
        "\t\tN: 7475\n",
        "\t\tPrecision: 0.903525046382\n",
        "\t\tRecall: 0.972055888224\n",
        "\t\tF1: 0.936538461538\n",
        "\t\tSupport: 501\n",
        "\tPassive results:\n",
        "\t\tN: 7475\n",
        "\t\tPrecision: 0.880650994575\n",
        "\t\tRecall: 0.972055888224\n",
        "\t\tF1: 0.924098671727\n",
        "\t\tSupport: 501\n",
        "completed run with N=7500:"
       ]
      },
      {
       "output_type": "stream",
       "stream": "stdout",
       "text": [
        "\n",
        "\tActive results:\n",
        "\t\tN: 7500\n",
        "\t\tPrecision: 0.903525046382\n",
        "\t\tRecall: 0.972055888224\n",
        "\t\tF1: 0.936538461538\n",
        "\t\tSupport: 501\n",
        "\tPassive results:\n",
        "\t\tN: 7500\n",
        "\t\tPrecision: 0.880650994575\n",
        "\t\tRecall: 0.972055888224\n",
        "\t\tF1: 0.924098671727\n",
        "\t\tSupport: 501\n",
        "completed run with N=7525:"
       ]
      },
      {
       "output_type": "stream",
       "stream": "stdout",
       "text": [
        "\n",
        "\tActive results:\n",
        "\t\tN: 7525\n",
        "\t\tPrecision: 0.903525046382\n",
        "\t\tRecall: 0.972055888224\n",
        "\t\tF1: 0.936538461538\n",
        "\t\tSupport: 501\n",
        "\tPassive results:\n",
        "\t\tN: 7525\n",
        "\t\tPrecision: 0.880650994575\n",
        "\t\tRecall: 0.972055888224\n",
        "\t\tF1: 0.924098671727\n",
        "\t\tSupport: 501\n",
        "completed run with N=7550:"
       ]
      },
      {
       "output_type": "stream",
       "stream": "stdout",
       "text": [
        "\n",
        "\tActive results:\n",
        "\t\tN: 7550\n",
        "\t\tPrecision: 0.901851851852\n",
        "\t\tRecall: 0.972055888224\n",
        "\t\tF1: 0.935638808838\n",
        "\t\tSupport: 501\n",
        "\tPassive results:\n",
        "\t\tN: 7550\n",
        "\t\tPrecision: 0.880650994575\n",
        "\t\tRecall: 0.972055888224\n",
        "\t\tF1: 0.924098671727\n",
        "\t\tSupport: 501\n",
        "completed run with N=7575:"
       ]
      },
      {
       "output_type": "stream",
       "stream": "stdout",
       "text": [
        "\n",
        "\tActive results:\n",
        "\t\tN: 7575\n",
        "\t\tPrecision: 0.902033271719\n",
        "\t\tRecall: 0.974051896208\n",
        "\t\tF1: 0.936660268714\n",
        "\t\tSupport: 501\n",
        "\tPassive results:\n",
        "\t\tN: 7575\n",
        "\t\tPrecision: 0.882246376812\n",
        "\t\tRecall: 0.972055888224\n",
        "\t\tF1: 0.92497625831\n",
        "\t\tSupport: 501\n",
        "completed run with N=7600:"
       ]
      },
      {
       "output_type": "stream",
       "stream": "stdout",
       "text": [
        "\n",
        "\tActive results:\n",
        "\t\tN: 7600\n",
        "\t\tPrecision: 0.902033271719\n",
        "\t\tRecall: 0.974051896208\n",
        "\t\tF1: 0.936660268714\n",
        "\t\tSupport: 501\n",
        "\tPassive results:\n",
        "\t\tN: 7600\n",
        "\t\tPrecision: 0.882459312839\n",
        "\t\tRecall: 0.974051896208\n",
        "\t\tF1: 0.925996204934\n",
        "\t\tSupport: 501\n",
        "completed run with N=7625:"
       ]
      },
      {
       "output_type": "stream",
       "stream": "stdout",
       "text": [
        "\n",
        "\tActive results:\n",
        "\t\tN: 7625\n",
        "\t\tPrecision: 0.90036900369\n",
        "\t\tRecall: 0.974051896208\n",
        "\t\tF1: 0.935762224353\n",
        "\t\tSupport: 501\n",
        "\tPassive results:\n",
        "\t\tN: 7625\n",
        "\t\tPrecision: 0.882459312839\n",
        "\t\tRecall: 0.974051896208\n",
        "\t\tF1: 0.925996204934\n",
        "\t\tSupport: 501\n",
        "completed run with N=7650:"
       ]
      },
      {
       "output_type": "stream",
       "stream": "stdout",
       "text": [
        "\n",
        "\tActive results:\n",
        "\t\tN: 7650\n",
        "\t\tPrecision: 0.90036900369\n",
        "\t\tRecall: 0.974051896208\n",
        "\t\tF1: 0.935762224353\n",
        "\t\tSupport: 501\n",
        "\tPassive results:\n",
        "\t\tN: 7650\n",
        "\t\tPrecision: 0.880866425993\n",
        "\t\tRecall: 0.974051896208\n",
        "\t\tF1: 0.925118483412\n",
        "\t\tSupport: 501\n",
        "completed run with N=7675:"
       ]
      },
      {
       "output_type": "stream",
       "stream": "stdout",
       "text": [
        "\n",
        "\tActive results:\n",
        "\t\tN: 7675\n",
        "\t\tPrecision: 0.898897058824\n",
        "\t\tRecall: 0.976047904192\n",
        "\t\tF1: 0.935885167464\n",
        "\t\tSupport: 501\n",
        "\tPassive results:\n",
        "\t\tN: 7675\n",
        "\t\tPrecision: 0.880866425993\n",
        "\t\tRecall: 0.974051896208\n",
        "\t\tF1: 0.925118483412\n",
        "\t\tSupport: 501\n",
        "completed run with N=7700:"
       ]
      },
      {
       "output_type": "stream",
       "stream": "stdout",
       "text": [
        "\n",
        "\tActive results:\n",
        "\t\tN: 7700\n",
        "\t\tPrecision: 0.898897058824\n",
        "\t\tRecall: 0.976047904192\n",
        "\t\tF1: 0.935885167464\n",
        "\t\tSupport: 501\n",
        "\tPassive results:\n",
        "\t\tN: 7700\n",
        "\t\tPrecision: 0.880866425993\n",
        "\t\tRecall: 0.974051896208\n",
        "\t\tF1: 0.925118483412\n",
        "\t\tSupport: 501\n",
        "completed run with N=7725:"
       ]
      },
      {
       "output_type": "stream",
       "stream": "stdout",
       "text": [
        "\n",
        "\tActive results:\n",
        "\t\tN: 7725\n",
        "\t\tPrecision: 0.898710865562\n",
        "\t\tRecall: 0.974051896208\n",
        "\t\tF1: 0.934865900383\n",
        "\t\tSupport: 501\n",
        "\tPassive results:\n",
        "\t\tN: 7725\n",
        "\t\tPrecision: 0.882459312839\n",
        "\t\tRecall: 0.974051896208\n",
        "\t\tF1: 0.925996204934\n",
        "\t\tSupport: 501\n",
        "completed run with N=7750:"
       ]
      },
      {
       "output_type": "stream",
       "stream": "stdout",
       "text": [
        "\n",
        "\tActive results:\n",
        "\t\tN: 7750\n",
        "\t\tPrecision: 0.898710865562\n",
        "\t\tRecall: 0.974051896208\n",
        "\t\tF1: 0.934865900383\n",
        "\t\tSupport: 501\n",
        "\tPassive results:\n",
        "\t\tN: 7750\n",
        "\t\tPrecision: 0.882459312839\n",
        "\t\tRecall: 0.974051896208\n",
        "\t\tF1: 0.925996204934\n",
        "\t\tSupport: 501\n",
        "completed run with N=7775:"
       ]
      },
      {
       "output_type": "stream",
       "stream": "stdout",
       "text": [
        "\n",
        "\tActive results:\n",
        "\t\tN: 7775\n",
        "\t\tPrecision: 0.898897058824\n",
        "\t\tRecall: 0.976047904192\n",
        "\t\tF1: 0.935885167464\n",
        "\t\tSupport: 501\n",
        "\tPassive results:\n",
        "\t\tN: 7775\n",
        "\t\tPrecision: 0.882459312839\n",
        "\t\tRecall: 0.974051896208\n",
        "\t\tF1: 0.925996204934\n",
        "\t\tSupport: 501\n",
        "completed run with N=7800:"
       ]
      },
      {
       "output_type": "stream",
       "stream": "stdout",
       "text": [
        "\n",
        "\tActive results:\n",
        "\t\tN: 7800\n",
        "\t\tPrecision: 0.897247706422\n",
        "\t\tRecall: 0.976047904192\n",
        "\t\tF1: 0.934990439771\n",
        "\t\tSupport: 501\n",
        "\tPassive results:\n",
        "\t\tN: 7800\n",
        "\t\tPrecision: 0.882459312839\n",
        "\t\tRecall: 0.974051896208\n",
        "\t\tF1: 0.925996204934\n",
        "\t\tSupport: 501\n",
        "completed run with N=7825:"
       ]
      },
      {
       "output_type": "stream",
       "stream": "stdout",
       "text": [
        "\n",
        "\tActive results:\n",
        "\t\tN: 7825\n",
        "\t\tPrecision: 0.895604395604\n",
        "\t\tRecall: 0.976047904192\n",
        "\t\tF1: 0.934097421203\n",
        "\t\tSupport: 501\n",
        "\tPassive results:\n",
        "\t\tN: 7825\n",
        "\t\tPrecision: 0.882459312839\n",
        "\t\tRecall: 0.974051896208\n",
        "\t\tF1: 0.925996204934\n",
        "\t\tSupport: 501\n",
        "completed run with N=7850:"
       ]
      },
      {
       "output_type": "stream",
       "stream": "stdout",
       "text": [
        "\n",
        "\tActive results:\n",
        "\t\tN: 7850\n",
        "\t\tPrecision: 0.897247706422\n",
        "\t\tRecall: 0.976047904192\n",
        "\t\tF1: 0.934990439771\n",
        "\t\tSupport: 501\n",
        "\tPassive results:\n",
        "\t\tN: 7850\n",
        "\t\tPrecision: 0.880866425993\n",
        "\t\tRecall: 0.974051896208\n",
        "\t\tF1: 0.925118483412\n",
        "\t\tSupport: 501\n",
        "completed run with N=7875:"
       ]
      },
      {
       "output_type": "stream",
       "stream": "stdout",
       "text": [
        "\n",
        "\tActive results:\n",
        "\t\tN: 7875\n",
        "\t\tPrecision: 0.895604395604\n",
        "\t\tRecall: 0.976047904192\n",
        "\t\tF1: 0.934097421203\n",
        "\t\tSupport: 501\n",
        "\tPassive results:\n",
        "\t\tN: 7875\n",
        "\t\tPrecision: 0.882459312839\n",
        "\t\tRecall: 0.974051896208\n",
        "\t\tF1: 0.925996204934\n",
        "\t\tSupport: 501\n",
        "completed run with N=7900:"
       ]
      },
      {
       "output_type": "stream",
       "stream": "stdout",
       "text": [
        "\n",
        "\tActive results:\n",
        "\t\tN: 7900\n",
        "\t\tPrecision: 0.893967093236\n",
        "\t\tRecall: 0.976047904192\n",
        "\t\tF1: 0.93320610687\n",
        "\t\tSupport: 501\n",
        "\tPassive results:\n",
        "\t\tN: 7900\n",
        "\t\tPrecision: 0.882459312839\n",
        "\t\tRecall: 0.974051896208\n",
        "\t\tF1: 0.925996204934\n",
        "\t\tSupport: 501\n",
        "completed run with N=7925:"
       ]
      },
      {
       "output_type": "stream",
       "stream": "stdout",
       "text": [
        "\n",
        "\tActive results:\n",
        "\t\tN: 7925\n",
        "\t\tPrecision: 0.895604395604\n",
        "\t\tRecall: 0.976047904192\n",
        "\t\tF1: 0.934097421203\n",
        "\t\tSupport: 501\n",
        "\tPassive results:\n",
        "\t\tN: 7925\n",
        "\t\tPrecision: 0.882459312839\n",
        "\t\tRecall: 0.974051896208\n",
        "\t\tF1: 0.925996204934\n",
        "\t\tSupport: 501\n",
        "completed run with N=7950:"
       ]
      },
      {
       "output_type": "stream",
       "stream": "stdout",
       "text": [
        "\n",
        "\tActive results:\n",
        "\t\tN: 7950\n",
        "\t\tPrecision: 0.893967093236\n",
        "\t\tRecall: 0.976047904192\n",
        "\t\tF1: 0.93320610687\n",
        "\t\tSupport: 501\n",
        "\tPassive results:\n",
        "\t\tN: 7950\n",
        "\t\tPrecision: 0.882459312839\n",
        "\t\tRecall: 0.974051896208\n",
        "\t\tF1: 0.925996204934\n",
        "\t\tSupport: 501\n",
        "completed run with N=7975:"
       ]
      },
      {
       "output_type": "stream",
       "stream": "stdout",
       "text": [
        "\n",
        "\tActive results:\n",
        "\t\tN: 7975\n",
        "\t\tPrecision: 0.893967093236\n",
        "\t\tRecall: 0.976047904192\n",
        "\t\tF1: 0.93320610687\n",
        "\t\tSupport: 501\n",
        "\tPassive results:\n",
        "\t\tN: 7975\n",
        "\t\tPrecision: 0.880866425993\n",
        "\t\tRecall: 0.974051896208\n",
        "\t\tF1: 0.925118483412\n",
        "\t\tSupport: 501\n",
        "completed run with N=8000:"
       ]
      },
      {
       "output_type": "stream",
       "stream": "stdout",
       "text": [
        "\n",
        "\tActive results:\n",
        "\t\tN: 8000\n",
        "\t\tPrecision: 0.892335766423\n",
        "\t\tRecall: 0.976047904192\n",
        "\t\tF1: 0.932316491897\n",
        "\t\tSupport: 501\n",
        "\tPassive results:\n",
        "\t\tN: 8000\n",
        "\t\tPrecision: 0.879279279279\n",
        "\t\tRecall: 0.974051896208\n",
        "\t\tF1: 0.924242424242\n",
        "\t\tSupport: 501\n",
        "completed run with N=8025:"
       ]
      },
      {
       "output_type": "stream",
       "stream": "stdout",
       "text": [
        "\n",
        "\tActive results:\n",
        "\t\tN: 8025\n",
        "\t\tPrecision: 0.892335766423\n",
        "\t\tRecall: 0.976047904192\n",
        "\t\tF1: 0.932316491897\n",
        "\t\tSupport: 501\n",
        "\tPassive results:\n",
        "\t\tN: 8025\n",
        "\t\tPrecision: 0.879279279279\n",
        "\t\tRecall: 0.974051896208\n",
        "\t\tF1: 0.924242424242\n",
        "\t\tSupport: 501\n",
        "completed run with N=8050:"
       ]
      },
      {
       "output_type": "stream",
       "stream": "stdout",
       "text": [
        "\n",
        "\tActive results:\n",
        "\t\tN: 8050\n",
        "\t\tPrecision: 0.892335766423\n",
        "\t\tRecall: 0.976047904192\n",
        "\t\tF1: 0.932316491897\n",
        "\t\tSupport: 501\n",
        "\tPassive results:\n",
        "\t\tN: 8050\n",
        "\t\tPrecision: 0.879279279279\n",
        "\t\tRecall: 0.974051896208\n",
        "\t\tF1: 0.924242424242\n",
        "\t\tSupport: 501\n",
        "completed run with N=8075:"
       ]
      },
      {
       "output_type": "stream",
       "stream": "stdout",
       "text": [
        "\n",
        "\tActive results:\n",
        "\t\tN: 8075\n",
        "\t\tPrecision: 0.890510948905\n",
        "\t\tRecall: 0.974051896208\n",
        "\t\tF1: 0.930409914204\n",
        "\t\tSupport: 501\n",
        "\tPassive results:\n",
        "\t\tN: 8075\n",
        "\t\tPrecision: 0.877697841727\n",
        "\t\tRecall: 0.974051896208\n",
        "\t\tF1: 0.923368022706\n",
        "\t\tSupport: 501\n",
        "completed run with N=8100:"
       ]
      },
      {
       "output_type": "stream",
       "stream": "stdout",
       "text": [
        "\n",
        "\tActive results:\n",
        "\t\tN: 8100\n",
        "\t\tPrecision: 0.890510948905\n",
        "\t\tRecall: 0.974051896208\n",
        "\t\tF1: 0.930409914204\n",
        "\t\tSupport: 501\n",
        "\tPassive results:\n",
        "\t\tN: 8100\n",
        "\t\tPrecision: 0.877697841727\n",
        "\t\tRecall: 0.974051896208\n",
        "\t\tF1: 0.923368022706\n",
        "\t\tSupport: 501\n",
        "completed run with N=8125:"
       ]
      },
      {
       "output_type": "stream",
       "stream": "stdout",
       "text": [
        "\n",
        "\tActive results:\n",
        "\t\tN: 8125\n",
        "\t\tPrecision: 0.890510948905\n",
        "\t\tRecall: 0.974051896208\n",
        "\t\tF1: 0.930409914204\n",
        "\t\tSupport: 501\n",
        "\tPassive results:\n",
        "\t\tN: 8125\n",
        "\t\tPrecision: 0.877697841727\n",
        "\t\tRecall: 0.974051896208\n",
        "\t\tF1: 0.923368022706\n",
        "\t\tSupport: 501\n",
        "completed run with N=8150:"
       ]
      },
      {
       "output_type": "stream",
       "stream": "stdout",
       "text": [
        "\n",
        "\tActive results:\n",
        "\t\tN: 8150\n",
        "\t\tPrecision: 0.890510948905\n",
        "\t\tRecall: 0.974051896208\n",
        "\t\tF1: 0.930409914204\n",
        "\t\tSupport: 501\n",
        "\tPassive results:\n",
        "\t\tN: 8150\n",
        "\t\tPrecision: 0.879279279279\n",
        "\t\tRecall: 0.974051896208\n",
        "\t\tF1: 0.924242424242\n",
        "\t\tSupport: 501\n",
        "completed run with N=8175:"
       ]
      },
      {
       "output_type": "stream",
       "stream": "stdout",
       "text": [
        "\n",
        "\tActive results:\n",
        "\t\tN: 8175\n",
        "\t\tPrecision: 0.892138939671\n",
        "\t\tRecall: 0.974051896208\n",
        "\t\tF1: 0.931297709924\n",
        "\t\tSupport: 501\n",
        "\tPassive results:\n",
        "\t\tN: 8175\n",
        "\t\tPrecision: 0.877697841727\n",
        "\t\tRecall: 0.974051896208\n",
        "\t\tF1: 0.923368022706\n",
        "\t\tSupport: 501\n",
        "completed run with N=8200:"
       ]
      },
      {
       "output_type": "stream",
       "stream": "stdout",
       "text": [
        "\n",
        "\tActive results:\n",
        "\t\tN: 8200\n",
        "\t\tPrecision: 0.890510948905\n",
        "\t\tRecall: 0.974051896208\n",
        "\t\tF1: 0.930409914204\n",
        "\t\tSupport: 501\n",
        "\tPassive results:\n",
        "\t\tN: 8200\n",
        "\t\tPrecision: 0.877917414722\n",
        "\t\tRecall: 0.976047904192\n",
        "\t\tF1: 0.92438563327\n",
        "\t\tSupport: 501\n",
        "completed run with N=8225:"
       ]
      },
      {
       "output_type": "stream",
       "stream": "stdout",
       "text": [
        "\n",
        "\tActive results:\n",
        "\t\tN: 8225\n",
        "\t\tPrecision: 0.890510948905\n",
        "\t\tRecall: 0.974051896208\n",
        "\t\tF1: 0.930409914204\n",
        "\t\tSupport: 501\n",
        "\tPassive results:\n",
        "\t\tN: 8225\n",
        "\t\tPrecision: 0.877917414722\n",
        "\t\tRecall: 0.976047904192\n",
        "\t\tF1: 0.92438563327\n",
        "\t\tSupport: 501\n",
        "completed run with N=8250:"
       ]
      },
      {
       "output_type": "stream",
       "stream": "stdout",
       "text": [
        "\n",
        "\tActive results:\n",
        "\t\tN: 8250\n",
        "\t\tPrecision: 0.890510948905\n",
        "\t\tRecall: 0.974051896208\n",
        "\t\tF1: 0.930409914204\n",
        "\t\tSupport: 501\n",
        "\tPassive results:\n",
        "\t\tN: 8250\n",
        "\t\tPrecision: 0.877917414722\n",
        "\t\tRecall: 0.976047904192\n",
        "\t\tF1: 0.92438563327\n",
        "\t\tSupport: 501\n",
        "completed run with N=8275:"
       ]
      },
      {
       "output_type": "stream",
       "stream": "stdout",
       "text": [
        "\n",
        "\tActive results:\n",
        "\t\tN: 8275\n",
        "\t\tPrecision: 0.890710382514\n",
        "\t\tRecall: 0.976047904192\n",
        "\t\tF1: 0.931428571429\n",
        "\t\tSupport: 501\n",
        "\tPassive results:\n",
        "\t\tN: 8275\n",
        "\t\tPrecision: 0.877917414722\n",
        "\t\tRecall: 0.976047904192\n",
        "\t\tF1: 0.92438563327\n",
        "\t\tSupport: 501\n",
        "completed run with N=8300:"
       ]
      },
      {
       "output_type": "stream",
       "stream": "stdout",
       "text": [
        "\n",
        "\tActive results:\n",
        "\t\tN: 8300\n",
        "\t\tPrecision: 0.888888888889\n",
        "\t\tRecall: 0.974051896208\n",
        "\t\tF1: 0.929523809524\n",
        "\t\tSupport: 501\n",
        "\tPassive results:\n",
        "\t\tN: 8300\n",
        "\t\tPrecision: 0.877917414722\n",
        "\t\tRecall: 0.976047904192\n",
        "\t\tF1: 0.92438563327\n",
        "\t\tSupport: 501\n",
        "completed run with N=8325:"
       ]
      },
      {
       "output_type": "stream",
       "stream": "stdout",
       "text": [
        "\n",
        "\tActive results:\n",
        "\t\tN: 8325\n",
        "\t\tPrecision: 0.890510948905\n",
        "\t\tRecall: 0.974051896208\n",
        "\t\tF1: 0.930409914204\n",
        "\t\tSupport: 501\n",
        "\tPassive results:\n",
        "\t\tN: 8325\n",
        "\t\tPrecision: 0.877917414722\n",
        "\t\tRecall: 0.976047904192\n",
        "\t\tF1: 0.92438563327\n",
        "\t\tSupport: 501\n",
        "completed run with N=8350:"
       ]
      },
      {
       "output_type": "stream",
       "stream": "stdout",
       "text": [
        "\n",
        "\tActive results:\n",
        "\t\tN: 8350\n",
        "\t\tPrecision: 0.888888888889\n",
        "\t\tRecall: 0.974051896208\n",
        "\t\tF1: 0.929523809524\n",
        "\t\tSupport: 501\n",
        "\tPassive results:\n",
        "\t\tN: 8350\n",
        "\t\tPrecision: 0.879496402878\n",
        "\t\tRecall: 0.976047904192\n",
        "\t\tF1: 0.925260170293\n",
        "\t\tSupport: 501\n",
        "completed run with N=8375:"
       ]
      },
      {
       "output_type": "stream",
       "stream": "stdout",
       "text": [
        "\n",
        "\tActive results:\n",
        "\t\tN: 8375\n",
        "\t\tPrecision: 0.888888888889\n",
        "\t\tRecall: 0.974051896208\n",
        "\t\tF1: 0.929523809524\n",
        "\t\tSupport: 501\n",
        "\tPassive results:\n",
        "\t\tN: 8375\n",
        "\t\tPrecision: 0.879496402878\n",
        "\t\tRecall: 0.976047904192\n",
        "\t\tF1: 0.925260170293\n",
        "\t\tSupport: 501\n",
        "completed run with N=8400:"
       ]
      },
      {
       "output_type": "stream",
       "stream": "stdout",
       "text": [
        "\n",
        "\tActive results:\n",
        "\t\tN: 8400\n",
        "\t\tPrecision: 0.887272727273\n",
        "\t\tRecall: 0.974051896208\n",
        "\t\tF1: 0.928639391056\n",
        "\t\tSupport: 501\n",
        "\tPassive results:\n",
        "\t\tN: 8400\n",
        "\t\tPrecision: 0.877917414722\n",
        "\t\tRecall: 0.976047904192\n",
        "\t\tF1: 0.92438563327\n",
        "\t\tSupport: 501\n",
        "completed run with N=8425:"
       ]
      },
      {
       "output_type": "stream",
       "stream": "stdout",
       "text": [
        "\n",
        "\tActive results:\n",
        "\t\tN: 8425\n",
        "\t\tPrecision: 0.887272727273\n",
        "\t\tRecall: 0.974051896208\n",
        "\t\tF1: 0.928639391056\n",
        "\t\tSupport: 501\n",
        "\tPassive results:\n",
        "\t\tN: 8425\n",
        "\t\tPrecision: 0.877917414722\n",
        "\t\tRecall: 0.976047904192\n",
        "\t\tF1: 0.92438563327\n",
        "\t\tSupport: 501\n",
        "completed run with N=8450:"
       ]
      },
      {
       "output_type": "stream",
       "stream": "stdout",
       "text": [
        "\n",
        "\tActive results:\n",
        "\t\tN: 8450\n",
        "\t\tPrecision: 0.887272727273\n",
        "\t\tRecall: 0.974051896208\n",
        "\t\tF1: 0.928639391056\n",
        "\t\tSupport: 501\n",
        "\tPassive results:\n",
        "\t\tN: 8450\n",
        "\t\tPrecision: 0.881081081081\n",
        "\t\tRecall: 0.976047904192\n",
        "\t\tF1: 0.926136363636\n",
        "\t\tSupport: 501\n",
        "completed run with N=8475:"
       ]
      },
      {
       "output_type": "stream",
       "stream": "stdout",
       "text": [
        "\n",
        "\tActive results:\n",
        "\t\tN: 8475\n",
        "\t\tPrecision: 0.887272727273\n",
        "\t\tRecall: 0.974051896208\n",
        "\t\tF1: 0.928639391056\n",
        "\t\tSupport: 501\n",
        "\tPassive results:\n",
        "\t\tN: 8475\n",
        "\t\tPrecision: 0.880866425993\n",
        "\t\tRecall: 0.974051896208\n",
        "\t\tF1: 0.925118483412\n",
        "\t\tSupport: 501\n",
        "completed run with N=8500:"
       ]
      },
      {
       "output_type": "stream",
       "stream": "stdout",
       "text": [
        "\n",
        "\tActive results:\n",
        "\t\tN: 8500\n",
        "\t\tPrecision: 0.885662431942\n",
        "\t\tRecall: 0.974051896208\n",
        "\t\tF1: 0.927756653992\n",
        "\t\tSupport: 501\n",
        "\tPassive results:\n",
        "\t\tN: 8500\n",
        "\t\tPrecision: 0.880866425993\n",
        "\t\tRecall: 0.974051896208\n",
        "\t\tF1: 0.925118483412\n",
        "\t\tSupport: 501\n",
        "completed run with N=8525:"
       ]
      },
      {
       "output_type": "stream",
       "stream": "stdout",
       "text": [
        "\n",
        "\tActive results:\n",
        "\t\tN: 8525\n",
        "\t\tPrecision: 0.885454545455\n",
        "\t\tRecall: 0.972055888224\n",
        "\t\tF1: 0.926736441484\n",
        "\t\tSupport: 501\n",
        "\tPassive results:\n",
        "\t\tN: 8525\n",
        "\t\tPrecision: 0.880866425993\n",
        "\t\tRecall: 0.974051896208\n",
        "\t\tF1: 0.925118483412\n",
        "\t\tSupport: 501\n",
        "completed run with N=8550:"
       ]
      },
      {
       "output_type": "stream",
       "stream": "stdout",
       "text": [
        "\n",
        "\tActive results:\n",
        "\t\tN: 8550\n",
        "\t\tPrecision: 0.883847549909\n",
        "\t\tRecall: 0.972055888224\n",
        "\t\tF1: 0.925855513308\n",
        "\t\tSupport: 501\n",
        "\tPassive results:\n",
        "\t\tN: 8550\n",
        "\t\tPrecision: 0.881081081081\n",
        "\t\tRecall: 0.976047904192\n",
        "\t\tF1: 0.926136363636\n",
        "\t\tSupport: 501\n",
        "completed run with N=8575:"
       ]
      },
      {
       "output_type": "stream",
       "stream": "stdout",
       "text": [
        "\n",
        "\tActive results:\n",
        "\t\tN: 8575\n",
        "\t\tPrecision: 0.883847549909\n",
        "\t\tRecall: 0.972055888224\n",
        "\t\tF1: 0.925855513308\n",
        "\t\tSupport: 501\n",
        "\tPassive results:\n",
        "\t\tN: 8575\n",
        "\t\tPrecision: 0.880866425993\n",
        "\t\tRecall: 0.974051896208\n",
        "\t\tF1: 0.925118483412\n",
        "\t\tSupport: 501\n",
        "completed run with N=8600:"
       ]
      },
      {
       "output_type": "stream",
       "stream": "stdout",
       "text": [
        "\n",
        "\tActive results:\n",
        "\t\tN: 8600\n",
        "\t\tPrecision: 0.884057971014\n",
        "\t\tRecall: 0.974051896208\n",
        "\t\tF1: 0.926875593542\n",
        "\t\tSupport: 501\n",
        "\tPassive results:\n",
        "\t\tN: 8600\n",
        "\t\tPrecision: 0.881081081081\n",
        "\t\tRecall: 0.976047904192\n",
        "\t\tF1: 0.926136363636\n",
        "\t\tSupport: 501\n",
        "completed run with N=8625:"
       ]
      },
      {
       "output_type": "stream",
       "stream": "stdout",
       "text": [
        "\n",
        "\tActive results:\n",
        "\t\tN: 8625\n",
        "\t\tPrecision: 0.884267631103\n",
        "\t\tRecall: 0.976047904192\n",
        "\t\tF1: 0.92789373814\n",
        "\t\tSupport: 501\n",
        "\tPassive results:\n",
        "\t\tN: 8625\n",
        "\t\tPrecision: 0.881081081081\n",
        "\t\tRecall: 0.976047904192\n",
        "\t\tF1: 0.926136363636\n",
        "\t\tSupport: 501\n"
       ]
      }
     ],
     "prompt_number": 20
    },
    {
     "cell_type": "code",
     "collapsed": false,
     "input": [
      "with open(\"active_results.pickle\", \"wb\") as f:\n",
      "    pickle.dump(active_metrics, f, -1)"
     ],
     "language": "python",
     "metadata": {},
     "outputs": [],
     "prompt_number": 21
    },
    {
     "cell_type": "code",
     "collapsed": false,
     "input": [
      "with open(\"passive_results.pickle\", \"wb\") as f:\n",
      "    pickle.dump(active_metrics, f, -1)"
     ],
     "language": "python",
     "metadata": {},
     "outputs": [],
     "prompt_number": 22
    },
    {
     "cell_type": "code",
     "collapsed": false,
     "input": [
      "%matplotlib inline\n"
     ],
     "language": "python",
     "metadata": {},
     "outputs": [],
     "prompt_number": 23
    },
    {
     "cell_type": "code",
     "collapsed": false,
     "input": [
      "all_metrics = [(step, ap, pp, ar, pr, af1, pf1) for ((step, ap, ar, af1, _), (_, pp, pr, pf1, _)) in zip(active_metrics, passive_metrics)]"
     ],
     "language": "python",
     "metadata": {},
     "outputs": [],
     "prompt_number": 24
    },
    {
     "cell_type": "code",
     "collapsed": false,
     "input": [
      "plt.plot(*zip(*[(step, (ap, pp)) for (step, ap, pp, ar, pr, af1, pf1) in  all_metrics]))"
     ],
     "language": "python",
     "metadata": {},
     "outputs": [
      {
       "metadata": {},
       "output_type": "pyout",
       "prompt_number": 25,
       "text": [
        "[<matplotlib.lines.Line2D at 0x116026850>,\n",
        " <matplotlib.lines.Line2D at 0x116026ad0>]"
       ]
      },
      {
       "metadata": {},
       "output_type": "display_data",
       "png": "[encoded data removed]",
       "text": [
        "<matplotlib.figure.Figure at 0x117edd410>"
       ]
      }
     ],
     "prompt_number": 25
    },
    {
     "cell_type": "code",
     "collapsed": false,
     "input": [
      "plt.plot(*zip(*[(step, (ar, pr)) for (step, ap, pp, ar, pr, af1, pf1) in  all_metrics]))"
     ],
     "language": "python",
     "metadata": {},
     "outputs": [
      {
       "metadata": {},
       "output_type": "pyout",
       "prompt_number": 26,
       "text": [
        "[<matplotlib.lines.Line2D at 0x117e90590>,\n",
        " <matplotlib.lines.Line2D at 0x117e90810>]"
       ]
      },
      {
       "metadata": {},
       "output_type": "display_data",
       "png": "[encoded data removed]",
       "text": [
        "<matplotlib.figure.Figure at 0x117edd0d0>"
       ]
      }
     ],
     "prompt_number": 26
    },
    {
     "cell_type": "code",
     "collapsed": false,
     "input": [
      "plt.plot(*zip(*[(step, (af1, pf1)) for (step, ap, pp, ar, pr, af1, pf1) in  all_metrics]))"
     ],
     "language": "python",
     "metadata": {},
     "outputs": [
      {
       "metadata": {},
       "output_type": "pyout",
       "prompt_number": 27,
       "text": [
        "[<matplotlib.lines.Line2D at 0x116be1cd0>,\n",
        " <matplotlib.lines.Line2D at 0x116be1f50>]"
       ]
      },
      {
       "metadata": {},
       "output_type": "display_data",
       "png": "[encoded data removed]",
       "text": [
        "<matplotlib.figure.Figure at 0x116bc0750>"
       ]
      }
     ],
     "prompt_number": 27
    },
    {
     "cell_type": "code",
     "collapsed": false,
     "input": [
      "plt.plot(*zip(*[(step, (af1, pf1)) for (step, ap, pp, ar, pr, af1, pf1) in all_metrics[0:50]]))"
     ],
     "language": "python",
     "metadata": {},
     "outputs": [
      {
       "metadata": {},
       "output_type": "pyout",
       "prompt_number": 28,
       "text": [
        "[<matplotlib.lines.Line2D at 0x117c53a10>,\n",
        " <matplotlib.lines.Line2D at 0x117c53c90>]"
       ]
      },
      {
       "metadata": {},
       "output_type": "display_data",
       "png": "[encoded data removed]",
       "text": [
        "<matplotlib.figure.Figure at 0x115feef50>"
       ]
      }
     ],
     "prompt_number": 28
    },
    {
     "cell_type": "code",
     "collapsed": false,
     "input": [
      "plt.plot(*zip(*[(step, (ap, pp)) for (step, ap, pp, ar, pr, af1, pf1) in all_metrics[0:50]]))"
     ],
     "language": "python",
     "metadata": {},
     "outputs": [
      {
       "metadata": {},
       "output_type": "pyout",
       "prompt_number": 29,
       "text": [
        "[<matplotlib.lines.Line2D at 0x117cc3a50>,\n",
        " <matplotlib.lines.Line2D at 0x117cc3cd0>]"
       ]
      },
      {
       "metadata": {},
       "output_type": "display_data",
       "png": "[encoded data removed]",
       "text": [
        "<matplotlib.figure.Figure at 0x116bb9910>"
       ]
      }
     ],
     "prompt_number": 29
    },
    {
     "cell_type": "code",
     "collapsed": false,
     "input": [
      "plt.plot(*zip(*[(step, (ar, pr)) for (step, ap, pp, ar, pr, af1, pf1) in all_metrics[0:50]]))"
     ],
     "language": "python",
     "metadata": {},
     "outputs": [
      {
       "metadata": {},
       "output_type": "pyout",
       "prompt_number": 30,
       "text": [
        "[<matplotlib.lines.Line2D at 0x117fb2250>,\n",
        " <matplotlib.lines.Line2D at 0x117fb24d0>]"
       ]
      },
      {
       "metadata": {},
       "output_type": "display_data",
       "png": "[encoded data removed]",
       "text": [
        "<matplotlib.figure.Figure at 0x116051510>"
       ]
      }
     ],
     "prompt_number": 30
    },
    {
     "cell_type": "code",
     "collapsed": false,
     "input": [],
     "language": "python",
     "metadata": {},
     "outputs": [],
     "prompt_number": 30
    },
    {
     "cell_type": "code",
     "collapsed": false,
     "input": [],
     "language": "python",
     "metadata": {},
     "outputs": [],
     "prompt_number": 30
    },
    {
     "cell_type": "code",
     "collapsed": false,
     "input": [],
     "language": "python",
     "metadata": {},
     "outputs": []
    }
   ],
   "metadata": {}
  }
 ]
}